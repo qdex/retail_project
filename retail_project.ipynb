{
 "cells": [
  {
   "cell_type": "markdown",
   "id": "de596a60",
   "metadata": {
    "toc": true
   },
   "source": [
    "<h1>Table of Contents<span class=\"tocSkip\"></span></h1>\n",
    "<div class=\"toc\"><ul class=\"toc-item\"><li><span><a href=\"#Задача-заказчика\" data-toc-modified-id=\"Задача-заказчика-1\"><span class=\"toc-item-num\">1&nbsp;&nbsp;</span>Задача заказчика</a></span></li><li><span><a href=\"#Вопросы-к-заказчику\" data-toc-modified-id=\"Вопросы-к-заказчику-2\"><span class=\"toc-item-num\">2&nbsp;&nbsp;</span>Вопросы к заказчику</a></span></li><li><span><a href=\"#Загрузка-и-описание-данных\" data-toc-modified-id=\"Загрузка-и-описание-данных-3\"><span class=\"toc-item-num\">3&nbsp;&nbsp;</span>Загрузка и описание данных</a></span><ul class=\"toc-item\"><li><span><a href=\"#Импорт-библиотек\" data-toc-modified-id=\"Импорт-библиотек-3.1\"><span class=\"toc-item-num\">3.1&nbsp;&nbsp;</span>Импорт библиотек</a></span></li><li><span><a href=\"#Загрузка-данных-и-изучение-общей-информации\" data-toc-modified-id=\"Загрузка-данных-и-изучение-общей-информации-3.2\"><span class=\"toc-item-num\">3.2&nbsp;&nbsp;</span>Загрузка данных и изучение общей информации</a></span></li></ul></li><li><span><a href=\"#Предобработка\" data-toc-modified-id=\"Предобработка-4\"><span class=\"toc-item-num\">4&nbsp;&nbsp;</span>Предобработка</a></span><ul class=\"toc-item\"><li><span><a href=\"#Переименование-столбцов\" data-toc-modified-id=\"Переименование-столбцов-4.1\"><span class=\"toc-item-num\">4.1&nbsp;&nbsp;</span>Переименование столбцов</a></span></li><li><span><a href=\"#Преобразование-типов-данных\" data-toc-modified-id=\"Преобразование-типов-данных-4.2\"><span class=\"toc-item-num\">4.2&nbsp;&nbsp;</span>Преобразование типов данных</a></span></li><li><span><a href=\"#Создание-столбца-с-датой\" data-toc-modified-id=\"Создание-столбца-с-датой-4.3\"><span class=\"toc-item-num\">4.3&nbsp;&nbsp;</span>Создание столбца с датой</a></span></li><li><span><a href=\"#Аномалии\" data-toc-modified-id=\"Аномалии-4.4\"><span class=\"toc-item-num\">4.4&nbsp;&nbsp;</span>Аномалии</a></span><ul class=\"toc-item\"><li><span><a href=\"#Пустые-поля-в-customer_id\" data-toc-modified-id=\"Пустые-поля-в-customer_id-4.4.1\"><span class=\"toc-item-num\">4.4.1&nbsp;&nbsp;</span>Пустые поля в customer_id</a></span></li><li><span><a href=\"#Количество-товара-с-0\" data-toc-modified-id=\"Количество-товара-с-0-4.4.2\"><span class=\"toc-item-num\">4.4.2&nbsp;&nbsp;</span>Количество товара с 0</a></span></li><li><span><a href=\"#Дубликаты\" data-toc-modified-id=\"Дубликаты-4.4.3\"><span class=\"toc-item-num\">4.4.3&nbsp;&nbsp;</span>Дубликаты</a></span></li><li><span><a href=\"#Цены-с-0\" data-toc-modified-id=\"Цены-с-0-4.4.4\"><span class=\"toc-item-num\">4.4.4&nbsp;&nbsp;</span>Цены с 0</a></span></li></ul></li></ul></li><li><span><a href=\"#Исследовательский-анализ-данных\" data-toc-modified-id=\"Исследовательский-анализ-данных-5\"><span class=\"toc-item-num\">5&nbsp;&nbsp;</span>Исследовательский анализ данных</a></span><ul class=\"toc-item\"><li><span><a href=\"#Изучение-товарных-единиц\" data-toc-modified-id=\"Изучение-товарных-единиц-5.1\"><span class=\"toc-item-num\">5.1&nbsp;&nbsp;</span>Изучение товарных единиц</a></span></li><li><span><a href=\"#Изучение-данных-в-разрезе-заказов\" data-toc-modified-id=\"Изучение-данных-в-разрезе-заказов-5.2\"><span class=\"toc-item-num\">5.2&nbsp;&nbsp;</span>Изучение данных в разрезе заказов</a></span><ul class=\"toc-item\"><li><span><a href=\"#Возвраты\" data-toc-modified-id=\"Возвраты-5.2.1\"><span class=\"toc-item-num\">5.2.1&nbsp;&nbsp;</span>Возвраты</a></span></li><li><span><a href=\"#Время\" data-toc-modified-id=\"Время-5.2.2\"><span class=\"toc-item-num\">5.2.2&nbsp;&nbsp;</span>Время</a></span></li></ul></li><li><span><a href=\"#Изучение-данных-в-разрезе-покупателей\" data-toc-modified-id=\"Изучение-данных-в-разрезе-покупателей-5.3\"><span class=\"toc-item-num\">5.3&nbsp;&nbsp;</span>Изучение данных в разрезе покупателей</a></span></li><li><span><a href=\"#Изучение-данных-в-разрезе-магазинов\" data-toc-modified-id=\"Изучение-данных-в-разрезе-магазинов-5.4\"><span class=\"toc-item-num\">5.4&nbsp;&nbsp;</span>Изучение данных в разрезе магазинов</a></span></li></ul></li><li><span><a href=\"#Анализ-программы-лояльности\" data-toc-modified-id=\"Анализ-программы-лояльности-6\"><span class=\"toc-item-num\">6&nbsp;&nbsp;</span>Анализ программы лояльности</a></span><ul class=\"toc-item\"><li><span><a href=\"#Сравнение-покупателей\" data-toc-modified-id=\"Сравнение-покупателей-6.1\"><span class=\"toc-item-num\">6.1&nbsp;&nbsp;</span>Сравнение покупателей</a></span><ul class=\"toc-item\"><li><span><a href=\"#Средний-чек\" data-toc-modified-id=\"Средний-чек-6.1.1\"><span class=\"toc-item-num\">6.1.1&nbsp;&nbsp;</span>Средний чек</a></span></li><li><span><a href=\"#Количество-заказов\" data-toc-modified-id=\"Количество-заказов-6.1.2\"><span class=\"toc-item-num\">6.1.2&nbsp;&nbsp;</span>Количество заказов</a></span></li><li><span><a href=\"#Товарное-разнообразие\" data-toc-modified-id=\"Товарное-разнообразие-6.1.3\"><span class=\"toc-item-num\">6.1.3&nbsp;&nbsp;</span>Товарное разнообразие</a></span></li><li><span><a href=\"#Оптовые-или-розничные-продажи\" data-toc-modified-id=\"Оптовые-или-розничные-продажи-6.1.4\"><span class=\"toc-item-num\">6.1.4&nbsp;&nbsp;</span>Оптовые или розничные продажи</a></span></li></ul></li><li><span><a href=\"#Проблема-возвратов\" data-toc-modified-id=\"Проблема-возвратов-6.2\"><span class=\"toc-item-num\">6.2&nbsp;&nbsp;</span>Проблема возвратов</a></span></li><li><span><a href=\"#LTV\" data-toc-modified-id=\"LTV-6.3\"><span class=\"toc-item-num\">6.3&nbsp;&nbsp;</span>LTV</a></span></li></ul></li><li><span><a href=\"#Проверка-статистических-гипотез\" data-toc-modified-id=\"Проверка-статистических-гипотез-7\"><span class=\"toc-item-num\">7&nbsp;&nbsp;</span>Проверка статистических гипотез</a></span><ul class=\"toc-item\"><li><span><a href=\"#Гипотеза:-Средний-чек-участников-программы-лояльности-выше,-чем-у-остальных-покупателей\" data-toc-modified-id=\"Гипотеза:-Средний-чек-участников-программы-лояльности-выше,-чем-у-остальных-покупателей-7.1\"><span class=\"toc-item-num\">7.1&nbsp;&nbsp;</span>Гипотеза: Средний чек участников программы лояльности выше, чем у остальных покупателей</a></span></li><li><span><a href=\"#Гипотеза:-Среднее-значение-покупок-у-участников-программы-лояльности-выше,-чем-у-остальных-покупателей\" data-toc-modified-id=\"Гипотеза:-Среднее-значение-покупок-у-участников-программы-лояльности-выше,-чем-у-остальных-покупателей-7.2\"><span class=\"toc-item-num\">7.2&nbsp;&nbsp;</span>Гипотеза: Среднее значение покупок у участников программы лояльности выше, чем у остальных покупателей</a></span></li></ul></li><li><span><a href=\"#Вывод\" data-toc-modified-id=\"Вывод-8\"><span class=\"toc-item-num\">8&nbsp;&nbsp;</span>Вывод</a></span></li><li><span><a href=\"#Презентация-и-дашборд\" data-toc-modified-id=\"Презентация-и-дашборд-9\"><span class=\"toc-item-num\">9&nbsp;&nbsp;</span>Презентация и дашборд</a></span></li></ul></div>"
   ]
  },
  {
   "cell_type": "markdown",
   "id": "ea5de93d",
   "metadata": {},
   "source": [
    "# Анализ программы лояльности магазина «Строили, строили и наконец построили»"
   ]
  },
  {
   "cell_type": "markdown",
   "id": "f13eab5f",
   "metadata": {},
   "source": [
    "## Задача заказчика"
   ]
  },
  {
   "cell_type": "markdown",
   "id": "b4875cca",
   "metadata": {},
   "source": [
    "1. Проведите исследовательский анализ данных;\n",
    "2. Проведите анализ программы лояльности;\n",
    "3. Сформулируйте и проверьте статистические гипотезы.\n",
    "    - Проверьте гипотезу: средний чек участников программы лояльности выше, чем у остальных покупателей.\n",
    "    - Сформулируйте собственную статистическую гипотезу. Дополните её нулевой и альтернативной гипотезами. Проверьте гипотезу с помощью статистического теста"
   ]
  },
  {
   "cell_type": "markdown",
   "id": "cb3de96e",
   "metadata": {},
   "source": [
    "## Вопросы к заказчику"
   ]
  },
  {
   "cell_type": "markdown",
   "id": "8bac88b9",
   "metadata": {},
   "source": [
    "1. В датасете встречаются отрицательные значения, могут ли это быть возвраты? Тогда есть два типа возвратов: у клиентов с заполненным CustomerID, у таких возвратов purchaseid начинается на букву С. У покупателей с CustomerID c NaN, обычная \"нумерация\" заказов. \n",
    "2. В задании написано, что доступ в магазин получают покупатели с использованием персональных карт. Но если в датафрейме около трети покупателей без ID. Значит это не совсем так? И можно сказать, что у нас три группы клиентов: с перс.картой участвует в программе лояльности, с перс.картой не участвует, без карты не участвует.\n",
    "3. Сколько магазинов в сети? Треть магазинов совершила по 1-2 продаже. Выглядит странно и маловероятно.\n",
    "4. Программа лояльности: Скидки, специальные предложения, подарки. Может быть все скидки это и есть тот разброс цен"
   ]
  },
  {
   "cell_type": "markdown",
   "id": "8db12aab",
   "metadata": {},
   "source": [
    "## Загрузка и описание данных"
   ]
  },
  {
   "cell_type": "markdown",
   "id": "2d15d44d",
   "metadata": {},
   "source": [
    "### Импорт библиотек"
   ]
  },
  {
   "cell_type": "code",
   "execution_count": 1,
   "id": "90fa0295",
   "metadata": {},
   "outputs": [],
   "source": [
    "import pandas as pd\n",
    "import matplotlib.pyplot as plt\n",
    "import numpy as np\n",
    "import seaborn as sns\n",
    "sns.set_theme(style='whitegrid')\n",
    "from datetime import datetime, timedelta\n",
    "\n",
    "import scipy.stats"
   ]
  },
  {
   "cell_type": "markdown",
   "id": "a91bb1db",
   "metadata": {},
   "source": [
    "### Загрузка данных и изучение общей информации"
   ]
  },
  {
   "cell_type": "code",
   "execution_count": 2,
   "id": "f58f408b",
   "metadata": {},
   "outputs": [],
   "source": [
    "df = pd.read_csv('/datasets/retail_dataset.csv')"
   ]
  },
  {
   "cell_type": "code",
   "execution_count": 3,
   "id": "6338f808",
   "metadata": {},
   "outputs": [
    {
     "data": {
      "text/html": [
       "<div>\n",
       "<style scoped>\n",
       "    .dataframe tbody tr th:only-of-type {\n",
       "        vertical-align: middle;\n",
       "    }\n",
       "\n",
       "    .dataframe tbody tr th {\n",
       "        vertical-align: top;\n",
       "    }\n",
       "\n",
       "    .dataframe thead th {\n",
       "        text-align: right;\n",
       "    }\n",
       "</style>\n",
       "<table border=\"1\" class=\"dataframe\">\n",
       "  <thead>\n",
       "    <tr style=\"text-align: right;\">\n",
       "      <th></th>\n",
       "      <th>purchaseid</th>\n",
       "      <th>item_ID</th>\n",
       "      <th>Quantity</th>\n",
       "      <th>purchasedate</th>\n",
       "      <th>CustomerID</th>\n",
       "      <th>ShopID</th>\n",
       "      <th>loyalty_program</th>\n",
       "    </tr>\n",
       "  </thead>\n",
       "  <tbody>\n",
       "    <tr>\n",
       "      <th>0</th>\n",
       "      <td>538280</td>\n",
       "      <td>21873</td>\n",
       "      <td>11</td>\n",
       "      <td>2016-12-10 12:50:00</td>\n",
       "      <td>18427.0</td>\n",
       "      <td>Shop 0</td>\n",
       "      <td>0.0</td>\n",
       "    </tr>\n",
       "    <tr>\n",
       "      <th>1</th>\n",
       "      <td>538862</td>\n",
       "      <td>22195</td>\n",
       "      <td>0</td>\n",
       "      <td>2016-12-14 14:11:00</td>\n",
       "      <td>22389.0</td>\n",
       "      <td>Shop 0</td>\n",
       "      <td>1.0</td>\n",
       "    </tr>\n",
       "    <tr>\n",
       "      <th>2</th>\n",
       "      <td>538855</td>\n",
       "      <td>21239</td>\n",
       "      <td>7</td>\n",
       "      <td>2016-12-14 13:50:00</td>\n",
       "      <td>22182.0</td>\n",
       "      <td>Shop 0</td>\n",
       "      <td>1.0</td>\n",
       "    </tr>\n",
       "    <tr>\n",
       "      <th>3</th>\n",
       "      <td>543543</td>\n",
       "      <td>22271</td>\n",
       "      <td>0</td>\n",
       "      <td>2017-02-09 15:33:00</td>\n",
       "      <td>23522.0</td>\n",
       "      <td>Shop 0</td>\n",
       "      <td>1.0</td>\n",
       "    </tr>\n",
       "    <tr>\n",
       "      <th>4</th>\n",
       "      <td>543812</td>\n",
       "      <td>79321</td>\n",
       "      <td>0</td>\n",
       "      <td>2017-02-13 14:40:00</td>\n",
       "      <td>23151.0</td>\n",
       "      <td>Shop 0</td>\n",
       "      <td>1.0</td>\n",
       "    </tr>\n",
       "  </tbody>\n",
       "</table>\n",
       "</div>"
      ],
      "text/plain": [
       "  purchaseid item_ID  Quantity         purchasedate  CustomerID  ShopID  \\\n",
       "0     538280   21873        11  2016-12-10 12:50:00     18427.0  Shop 0   \n",
       "1     538862   22195         0  2016-12-14 14:11:00     22389.0  Shop 0   \n",
       "2     538855   21239         7  2016-12-14 13:50:00     22182.0  Shop 0   \n",
       "3     543543   22271         0  2017-02-09 15:33:00     23522.0  Shop 0   \n",
       "4     543812   79321         0  2017-02-13 14:40:00     23151.0  Shop 0   \n",
       "\n",
       "   loyalty_program  \n",
       "0              0.0  \n",
       "1              1.0  \n",
       "2              1.0  \n",
       "3              1.0  \n",
       "4              1.0  "
      ]
     },
     "execution_count": 3,
     "metadata": {},
     "output_type": "execute_result"
    }
   ],
   "source": [
    "df.head()"
   ]
  },
  {
   "cell_type": "markdown",
   "id": "ab54dc5b",
   "metadata": {},
   "source": [
    "Файл retail_dataset.csv:\n",
    "\n",
    "- `purchaseId` — id чека;\n",
    "- `item_ID` — id товара;\n",
    "- `purchasedate` — дата покупки;\n",
    "- `Quantity` — количество товара;\n",
    "- `CustomerID` — id покупателя;\n",
    "- `ShopID` — id магазина;\n",
    "- `loyalty_program` — участвует ли покупатель в программе лояльности;"
   ]
  },
  {
   "cell_type": "code",
   "execution_count": 4,
   "id": "5219fb18",
   "metadata": {
    "scrolled": false
   },
   "outputs": [
    {
     "name": "stdout",
     "output_type": "stream",
     "text": [
      "<class 'pandas.core.frame.DataFrame'>\n",
      "RangeIndex: 105335 entries, 0 to 105334\n",
      "Data columns (total 7 columns):\n",
      " #   Column           Non-Null Count   Dtype  \n",
      "---  ------           --------------   -----  \n",
      " 0   purchaseid       105335 non-null  object \n",
      " 1   item_ID          105335 non-null  object \n",
      " 2   Quantity         105335 non-null  int64  \n",
      " 3   purchasedate     105335 non-null  object \n",
      " 4   CustomerID       69125 non-null   float64\n",
      " 5   ShopID           105335 non-null  object \n",
      " 6   loyalty_program  105335 non-null  float64\n",
      "dtypes: float64(2), int64(1), object(4)\n",
      "memory usage: 5.6+ MB\n"
     ]
    }
   ],
   "source": [
    "df.info()"
   ]
  },
  {
   "cell_type": "markdown",
   "id": "644114d2",
   "metadata": {},
   "source": [
    "Пропуски встречаются только в CustomerID."
   ]
  },
  {
   "cell_type": "code",
   "execution_count": 5,
   "id": "17221b9a",
   "metadata": {
    "scrolled": false
   },
   "outputs": [
    {
     "data": {
      "text/html": [
       "<div>\n",
       "<style scoped>\n",
       "    .dataframe tbody tr th:only-of-type {\n",
       "        vertical-align: middle;\n",
       "    }\n",
       "\n",
       "    .dataframe tbody tr th {\n",
       "        vertical-align: top;\n",
       "    }\n",
       "\n",
       "    .dataframe thead th {\n",
       "        text-align: right;\n",
       "    }\n",
       "</style>\n",
       "<table border=\"1\" class=\"dataframe\">\n",
       "  <thead>\n",
       "    <tr style=\"text-align: right;\">\n",
       "      <th></th>\n",
       "      <th>Quantity</th>\n",
       "      <th>CustomerID</th>\n",
       "      <th>loyalty_program</th>\n",
       "    </tr>\n",
       "  </thead>\n",
       "  <tbody>\n",
       "    <tr>\n",
       "      <th>count</th>\n",
       "      <td>105335.000000</td>\n",
       "      <td>69125.000000</td>\n",
       "      <td>105335.000000</td>\n",
       "    </tr>\n",
       "    <tr>\n",
       "      <th>mean</th>\n",
       "      <td>7.821218</td>\n",
       "      <td>21019.302047</td>\n",
       "      <td>0.226345</td>\n",
       "    </tr>\n",
       "    <tr>\n",
       "      <th>std</th>\n",
       "      <td>327.946695</td>\n",
       "      <td>1765.444679</td>\n",
       "      <td>0.418467</td>\n",
       "    </tr>\n",
       "    <tr>\n",
       "      <th>min</th>\n",
       "      <td>-74216.000000</td>\n",
       "      <td>18025.000000</td>\n",
       "      <td>0.000000</td>\n",
       "    </tr>\n",
       "    <tr>\n",
       "      <th>25%</th>\n",
       "      <td>0.000000</td>\n",
       "      <td>19544.000000</td>\n",
       "      <td>0.000000</td>\n",
       "    </tr>\n",
       "    <tr>\n",
       "      <th>50%</th>\n",
       "      <td>2.000000</td>\n",
       "      <td>20990.000000</td>\n",
       "      <td>0.000000</td>\n",
       "    </tr>\n",
       "    <tr>\n",
       "      <th>75%</th>\n",
       "      <td>7.000000</td>\n",
       "      <td>22659.000000</td>\n",
       "      <td>0.000000</td>\n",
       "    </tr>\n",
       "    <tr>\n",
       "      <th>max</th>\n",
       "      <td>74214.000000</td>\n",
       "      <td>23962.000000</td>\n",
       "      <td>1.000000</td>\n",
       "    </tr>\n",
       "  </tbody>\n",
       "</table>\n",
       "</div>"
      ],
      "text/plain": [
       "            Quantity    CustomerID  loyalty_program\n",
       "count  105335.000000  69125.000000    105335.000000\n",
       "mean        7.821218  21019.302047         0.226345\n",
       "std       327.946695   1765.444679         0.418467\n",
       "min    -74216.000000  18025.000000         0.000000\n",
       "25%         0.000000  19544.000000         0.000000\n",
       "50%         2.000000  20990.000000         0.000000\n",
       "75%         7.000000  22659.000000         0.000000\n",
       "max     74214.000000  23962.000000         1.000000"
      ]
     },
     "execution_count": 5,
     "metadata": {},
     "output_type": "execute_result"
    }
   ],
   "source": [
    "df.describe()"
   ]
  },
  {
   "cell_type": "code",
   "execution_count": 6,
   "id": "3f2c3743",
   "metadata": {},
   "outputs": [
    {
     "data": {
      "text/html": [
       "<div>\n",
       "<style scoped>\n",
       "    .dataframe tbody tr th:only-of-type {\n",
       "        vertical-align: middle;\n",
       "    }\n",
       "\n",
       "    .dataframe tbody tr th {\n",
       "        vertical-align: top;\n",
       "    }\n",
       "\n",
       "    .dataframe thead th {\n",
       "        text-align: right;\n",
       "    }\n",
       "</style>\n",
       "<table border=\"1\" class=\"dataframe\">\n",
       "  <thead>\n",
       "    <tr style=\"text-align: right;\">\n",
       "      <th></th>\n",
       "      <th>purchaseid</th>\n",
       "      <th>item_ID</th>\n",
       "      <th>purchasedate</th>\n",
       "      <th>ShopID</th>\n",
       "    </tr>\n",
       "  </thead>\n",
       "  <tbody>\n",
       "    <tr>\n",
       "      <th>count</th>\n",
       "      <td>105335</td>\n",
       "      <td>105335</td>\n",
       "      <td>105335</td>\n",
       "      <td>105335</td>\n",
       "    </tr>\n",
       "    <tr>\n",
       "      <th>unique</th>\n",
       "      <td>4894</td>\n",
       "      <td>3159</td>\n",
       "      <td>4430</td>\n",
       "      <td>31</td>\n",
       "    </tr>\n",
       "    <tr>\n",
       "      <th>top</th>\n",
       "      <td>537434</td>\n",
       "      <td>85123A</td>\n",
       "      <td>2016-12-06 16:57:00</td>\n",
       "      <td>Shop 0</td>\n",
       "    </tr>\n",
       "    <tr>\n",
       "      <th>freq</th>\n",
       "      <td>675</td>\n",
       "      <td>565</td>\n",
       "      <td>675</td>\n",
       "      <td>97393</td>\n",
       "    </tr>\n",
       "  </tbody>\n",
       "</table>\n",
       "</div>"
      ],
      "text/plain": [
       "       purchaseid item_ID         purchasedate  ShopID\n",
       "count      105335  105335               105335  105335\n",
       "unique       4894    3159                 4430      31\n",
       "top        537434  85123A  2016-12-06 16:57:00  Shop 0\n",
       "freq          675     565                  675   97393"
      ]
     },
     "execution_count": 6,
     "metadata": {},
     "output_type": "execute_result"
    }
   ],
   "source": [
    "df.describe(include='object')"
   ]
  },
  {
   "cell_type": "markdown",
   "id": "90a4c6a8",
   "metadata": {},
   "source": [
    "Каждый пятый товар продан участнику программы лояльности. Количество проданного товара содержит отрицательные значения. Более половины товара продается в диапазоне 2-7 штук, поэтому продажа 74 тыс. чего-либо - смущает. Однако, оценивать выбросы ли это, я буду после подсчета суммы продажи.  \n",
    "Также в датасете есть позиции с нулевым количеством продаж."
   ]
  },
  {
   "cell_type": "code",
   "execution_count": 7,
   "id": "75c26fe7",
   "metadata": {},
   "outputs": [],
   "source": [
    "df_product = pd.read_csv('/datasets/product_codes.csv')"
   ]
  },
  {
   "cell_type": "code",
   "execution_count": 8,
   "id": "b1757212",
   "metadata": {},
   "outputs": [
    {
     "data": {
      "text/html": [
       "<div>\n",
       "<style scoped>\n",
       "    .dataframe tbody tr th:only-of-type {\n",
       "        vertical-align: middle;\n",
       "    }\n",
       "\n",
       "    .dataframe tbody tr th {\n",
       "        vertical-align: top;\n",
       "    }\n",
       "\n",
       "    .dataframe thead th {\n",
       "        text-align: right;\n",
       "    }\n",
       "</style>\n",
       "<table border=\"1\" class=\"dataframe\">\n",
       "  <thead>\n",
       "    <tr style=\"text-align: right;\">\n",
       "      <th></th>\n",
       "      <th>productID</th>\n",
       "      <th>price_per_one</th>\n",
       "    </tr>\n",
       "  </thead>\n",
       "  <tbody>\n",
       "    <tr>\n",
       "      <th>0</th>\n",
       "      <td>85123A</td>\n",
       "      <td>2.55</td>\n",
       "    </tr>\n",
       "    <tr>\n",
       "      <th>1</th>\n",
       "      <td>71053</td>\n",
       "      <td>3.39</td>\n",
       "    </tr>\n",
       "    <tr>\n",
       "      <th>2</th>\n",
       "      <td>84406B</td>\n",
       "      <td>2.75</td>\n",
       "    </tr>\n",
       "    <tr>\n",
       "      <th>3</th>\n",
       "      <td>84029G</td>\n",
       "      <td>3.39</td>\n",
       "    </tr>\n",
       "    <tr>\n",
       "      <th>4</th>\n",
       "      <td>84029E</td>\n",
       "      <td>3.39</td>\n",
       "    </tr>\n",
       "  </tbody>\n",
       "</table>\n",
       "</div>"
      ],
      "text/plain": [
       "  productID  price_per_one\n",
       "0    85123A           2.55\n",
       "1     71053           3.39\n",
       "2    84406B           2.75\n",
       "3    84029G           3.39\n",
       "4    84029E           3.39"
      ]
     },
     "execution_count": 8,
     "metadata": {},
     "output_type": "execute_result"
    }
   ],
   "source": [
    "df_product.head()"
   ]
  },
  {
   "cell_type": "markdown",
   "id": "e732eb7c",
   "metadata": {},
   "source": [
    "Файл product_codes.csv:\n",
    "\n",
    "- `productID` — id товара;\n",
    "- `price_per_one` — стоимость одной единицы товара;"
   ]
  },
  {
   "cell_type": "code",
   "execution_count": 9,
   "id": "19aa6f79",
   "metadata": {},
   "outputs": [
    {
     "name": "stdout",
     "output_type": "stream",
     "text": [
      "<class 'pandas.core.frame.DataFrame'>\n",
      "RangeIndex: 9969 entries, 0 to 9968\n",
      "Data columns (total 2 columns):\n",
      " #   Column         Non-Null Count  Dtype  \n",
      "---  ------         --------------  -----  \n",
      " 0   productID      9969 non-null   object \n",
      " 1   price_per_one  9969 non-null   float64\n",
      "dtypes: float64(1), object(1)\n",
      "memory usage: 155.9+ KB\n"
     ]
    }
   ],
   "source": [
    "df_product.info()"
   ]
  },
  {
   "cell_type": "code",
   "execution_count": 10,
   "id": "39da0050",
   "metadata": {},
   "outputs": [
    {
     "data": {
      "text/html": [
       "<div>\n",
       "<style scoped>\n",
       "    .dataframe tbody tr th:only-of-type {\n",
       "        vertical-align: middle;\n",
       "    }\n",
       "\n",
       "    .dataframe tbody tr th {\n",
       "        vertical-align: top;\n",
       "    }\n",
       "\n",
       "    .dataframe thead th {\n",
       "        text-align: right;\n",
       "    }\n",
       "</style>\n",
       "<table border=\"1\" class=\"dataframe\">\n",
       "  <thead>\n",
       "    <tr style=\"text-align: right;\">\n",
       "      <th></th>\n",
       "      <th>productID</th>\n",
       "      <th>price_per_one</th>\n",
       "    </tr>\n",
       "  </thead>\n",
       "  <tbody>\n",
       "    <tr>\n",
       "      <th>count</th>\n",
       "      <td>9969</td>\n",
       "      <td>9969.000000</td>\n",
       "    </tr>\n",
       "    <tr>\n",
       "      <th>unique</th>\n",
       "      <td>3159</td>\n",
       "      <td>NaN</td>\n",
       "    </tr>\n",
       "    <tr>\n",
       "      <th>top</th>\n",
       "      <td>DOT</td>\n",
       "      <td>NaN</td>\n",
       "    </tr>\n",
       "    <tr>\n",
       "      <th>freq</th>\n",
       "      <td>174</td>\n",
       "      <td>NaN</td>\n",
       "    </tr>\n",
       "    <tr>\n",
       "      <th>mean</th>\n",
       "      <td>NaN</td>\n",
       "      <td>19.503697</td>\n",
       "    </tr>\n",
       "    <tr>\n",
       "      <th>std</th>\n",
       "      <td>NaN</td>\n",
       "      <td>330.880754</td>\n",
       "    </tr>\n",
       "    <tr>\n",
       "      <th>min</th>\n",
       "      <td>NaN</td>\n",
       "      <td>0.000000</td>\n",
       "    </tr>\n",
       "    <tr>\n",
       "      <th>25%</th>\n",
       "      <td>NaN</td>\n",
       "      <td>1.250000</td>\n",
       "    </tr>\n",
       "    <tr>\n",
       "      <th>50%</th>\n",
       "      <td>NaN</td>\n",
       "      <td>2.550000</td>\n",
       "    </tr>\n",
       "    <tr>\n",
       "      <th>75%</th>\n",
       "      <td>NaN</td>\n",
       "      <td>5.510000</td>\n",
       "    </tr>\n",
       "    <tr>\n",
       "      <th>max</th>\n",
       "      <td>NaN</td>\n",
       "      <td>16888.020000</td>\n",
       "    </tr>\n",
       "  </tbody>\n",
       "</table>\n",
       "</div>"
      ],
      "text/plain": [
       "       productID  price_per_one\n",
       "count       9969    9969.000000\n",
       "unique      3159            NaN\n",
       "top          DOT            NaN\n",
       "freq         174            NaN\n",
       "mean         NaN      19.503697\n",
       "std          NaN     330.880754\n",
       "min          NaN       0.000000\n",
       "25%          NaN       1.250000\n",
       "50%          NaN       2.550000\n",
       "75%          NaN       5.510000\n",
       "max          NaN   16888.020000"
      ]
     },
     "execution_count": 10,
     "metadata": {},
     "output_type": "execute_result"
    }
   ],
   "source": [
    "df_product.describe(include='all')"
   ]
  },
  {
   "cell_type": "markdown",
   "id": "b6ca88ca",
   "metadata": {},
   "source": [
    "Уникальных товаров 3159 из 9969 строк. Цена для многих товаров изменялась, проводились акции и скидки. Все это записано без указания дат изменения или какого-либо ключа продажи.  \n",
    "75% цен в диапазоне 1.25 - 5.51, при этом среднее значение цены за товар - 19.5. "
   ]
  },
  {
   "cell_type": "markdown",
   "id": "f6a63034",
   "metadata": {},
   "source": [
    "## Предобработка"
   ]
  },
  {
   "cell_type": "markdown",
   "id": "f24866f8",
   "metadata": {},
   "source": [
    "### Переименование столбцов"
   ]
  },
  {
   "cell_type": "code",
   "execution_count": 11,
   "id": "3b254949",
   "metadata": {},
   "outputs": [],
   "source": [
    "df.columns = ['purchase_id', 'item_id', 'quantity', 'purchase_date', 'customer_id',\n",
    "       'shop_id', 'loyalty_program']"
   ]
  },
  {
   "cell_type": "code",
   "execution_count": 12,
   "id": "da2c060f",
   "metadata": {},
   "outputs": [],
   "source": [
    "df_product.columns = ['product_id', 'price_per_one']"
   ]
  },
  {
   "cell_type": "markdown",
   "id": "bc3ed12a",
   "metadata": {},
   "source": [
    "### Преобразование типов данных"
   ]
  },
  {
   "cell_type": "code",
   "execution_count": 13,
   "id": "fd73b267",
   "metadata": {},
   "outputs": [],
   "source": [
    "df['customer_id'] = df['customer_id'].astype('Int64')"
   ]
  },
  {
   "cell_type": "code",
   "execution_count": 14,
   "id": "36107750",
   "metadata": {},
   "outputs": [],
   "source": [
    "df['loyalty_program'] = df['loyalty_program'].astype('int')"
   ]
  },
  {
   "cell_type": "code",
   "execution_count": 15,
   "id": "409a63ad",
   "metadata": {},
   "outputs": [],
   "source": [
    "df['purchase_date'] = pd.to_datetime(df['purchase_date'])"
   ]
  },
  {
   "cell_type": "markdown",
   "id": "938ee953",
   "metadata": {},
   "source": [
    "### Создание столбца с датой"
   ]
  },
  {
   "cell_type": "code",
   "execution_count": 16,
   "id": "c851a194",
   "metadata": {},
   "outputs": [],
   "source": [
    "df['date'] = pd.to_datetime(df['purchase_date'].dt.date)"
   ]
  },
  {
   "cell_type": "markdown",
   "id": "93b5e7f9",
   "metadata": {},
   "source": [
    "### Аномалии"
   ]
  },
  {
   "cell_type": "markdown",
   "id": "d0d8423a",
   "metadata": {},
   "source": [
    "#### Пустые поля в customer_id"
   ]
  },
  {
   "cell_type": "markdown",
   "id": "79c83950",
   "metadata": {},
   "source": [
    "В столбце `customer_id` есть пропуски, то есть покупатели, кого мы не идентифицировали. Заполним данные заглушкой, чтобы при создании сводных таблиц, эти клиенты не терялись."
   ]
  },
  {
   "cell_type": "code",
   "execution_count": 17,
   "id": "f547be55",
   "metadata": {
    "scrolled": true
   },
   "outputs": [],
   "source": [
    "df['customer_id'] = df['customer_id'].fillna(0)\n",
    "df['customer_id'] = df['customer_id'].astype(object)\n",
    "\n",
    "\n",
    "# создадим уникальные id покупателей, за основу возьмем дату заказа\n",
    "df.loc[df['customer_id'] == 0, 'customer_id'] = df.loc[df['customer_id'] == 0, 'purchase_date'].apply(lambda x: x.strftime('%m%d%H%M%S'))"
   ]
  },
  {
   "cell_type": "markdown",
   "id": "6b0ea0f1",
   "metadata": {},
   "source": [
    "У новой группы неопознанных покупателей id 10-значное. Также стоит учитывать, что не обязательно новый id это уникальный покупатель, под разными id могут скрываться одни и те же покупатели."
   ]
  },
  {
   "cell_type": "markdown",
   "id": "542784df",
   "metadata": {},
   "source": [
    "#### Количество товара с 0"
   ]
  },
  {
   "cell_type": "markdown",
   "id": "eb00199b",
   "metadata": {},
   "source": [
    "Посмотрим сколько продаж с нулевым количеством товара."
   ]
  },
  {
   "cell_type": "code",
   "execution_count": 18,
   "id": "49a67368",
   "metadata": {
    "scrolled": true
   },
   "outputs": [
    {
     "name": "stdout",
     "output_type": "stream",
     "text": [
      "Количество продаж с нулевым количеством товара: 33055\n"
     ]
    }
   ],
   "source": [
    "print('Количество продаж с нулевым количеством товара:', len(df[df['quantity'] == 0]))"
   ]
  },
  {
   "cell_type": "markdown",
   "id": "81e5b011",
   "metadata": {},
   "source": [
    "33 тыс. это практически треть нашего датасета. К сожалению, информация о каком-то товаре с нулевым количеством не несет никакой информации для нас, нам не ясен ни сам этот процесс, ни экономическая составляющая. Это могут быть промо товары, но встречаются заказы полностью состоящие из нулей, это могут быть перемещения между магазинами, но не понятно количество перемещаемого товара, это могут быть допы к сложной номенклатуре. Например, мы можем смешивать краску по заказу покупателя, для одной краски нам нужно: краска-основа, пигментная паста, работа колеровщика.  \n",
    "Удалим строки с нулем."
   ]
  },
  {
   "cell_type": "code",
   "execution_count": 19,
   "id": "d6b9275d",
   "metadata": {},
   "outputs": [
    {
     "name": "stdout",
     "output_type": "stream",
     "text": [
      "Длина датасета после удаления 72280\n"
     ]
    }
   ],
   "source": [
    "df_raw = df \n",
    "df = df[df['quantity'] != 0]\n",
    "print('Длина датасета после удаления', len(df))"
   ]
  },
  {
   "cell_type": "markdown",
   "id": "be22c41f",
   "metadata": {},
   "source": [
    "#### Дубликаты"
   ]
  },
  {
   "cell_type": "markdown",
   "id": "f62b17ab",
   "metadata": {},
   "source": [
    "Проверим на дубликаты."
   ]
  },
  {
   "cell_type": "code",
   "execution_count": 20,
   "id": "a8ed793c",
   "metadata": {
    "scrolled": false
   },
   "outputs": [
    {
     "data": {
      "text/html": [
       "<div>\n",
       "<style scoped>\n",
       "    .dataframe tbody tr th:only-of-type {\n",
       "        vertical-align: middle;\n",
       "    }\n",
       "\n",
       "    .dataframe tbody tr th {\n",
       "        vertical-align: top;\n",
       "    }\n",
       "\n",
       "    .dataframe thead th {\n",
       "        text-align: right;\n",
       "    }\n",
       "</style>\n",
       "<table border=\"1\" class=\"dataframe\">\n",
       "  <thead>\n",
       "    <tr style=\"text-align: right;\">\n",
       "      <th></th>\n",
       "      <th>purchase_id</th>\n",
       "      <th>item_id</th>\n",
       "      <th>quantity</th>\n",
       "      <th>purchase_date</th>\n",
       "      <th>customer_id</th>\n",
       "      <th>shop_id</th>\n",
       "      <th>loyalty_program</th>\n",
       "      <th>date</th>\n",
       "    </tr>\n",
       "  </thead>\n",
       "  <tbody>\n",
       "    <tr>\n",
       "      <th>5345</th>\n",
       "      <td>537265</td>\n",
       "      <td>21499</td>\n",
       "      <td>24</td>\n",
       "      <td>2016-12-06 11:26:00</td>\n",
       "      <td>21598</td>\n",
       "      <td>Shop 0</td>\n",
       "      <td>0</td>\n",
       "      <td>2016-12-06</td>\n",
       "    </tr>\n",
       "    <tr>\n",
       "      <th>6893</th>\n",
       "      <td>540524</td>\n",
       "      <td>21326</td>\n",
       "      <td>11</td>\n",
       "      <td>2017-01-09 12:53:00</td>\n",
       "      <td>22414</td>\n",
       "      <td>Shop 0</td>\n",
       "      <td>1</td>\n",
       "      <td>2017-01-09</td>\n",
       "    </tr>\n",
       "    <tr>\n",
       "      <th>10806</th>\n",
       "      <td>537772</td>\n",
       "      <td>22080</td>\n",
       "      <td>4</td>\n",
       "      <td>2016-12-08 12:35:00</td>\n",
       "      <td>23722</td>\n",
       "      <td>Shop 0</td>\n",
       "      <td>1</td>\n",
       "      <td>2016-12-08</td>\n",
       "    </tr>\n",
       "    <tr>\n",
       "      <th>13534</th>\n",
       "      <td>C544580</td>\n",
       "      <td>S</td>\n",
       "      <td>-2</td>\n",
       "      <td>2017-02-21 14:25:00</td>\n",
       "      <td>0221142500</td>\n",
       "      <td>Shop 0</td>\n",
       "      <td>0</td>\n",
       "      <td>2017-02-21</td>\n",
       "    </tr>\n",
       "    <tr>\n",
       "      <th>15065</th>\n",
       "      <td>537792</td>\n",
       "      <td>47420</td>\n",
       "      <td>1</td>\n",
       "      <td>2016-12-08 12:56:00</td>\n",
       "      <td>22064</td>\n",
       "      <td>Shop 0</td>\n",
       "      <td>1</td>\n",
       "      <td>2016-12-08</td>\n",
       "    </tr>\n",
       "    <tr>\n",
       "      <th>...</th>\n",
       "      <td>...</td>\n",
       "      <td>...</td>\n",
       "      <td>...</td>\n",
       "      <td>...</td>\n",
       "      <td>...</td>\n",
       "      <td>...</td>\n",
       "      <td>...</td>\n",
       "      <td>...</td>\n",
       "    </tr>\n",
       "    <tr>\n",
       "      <th>104862</th>\n",
       "      <td>536798</td>\n",
       "      <td>21874</td>\n",
       "      <td>5</td>\n",
       "      <td>2016-12-02 15:55:00</td>\n",
       "      <td>23517</td>\n",
       "      <td>Shop 0</td>\n",
       "      <td>1</td>\n",
       "      <td>2016-12-02</td>\n",
       "    </tr>\n",
       "    <tr>\n",
       "      <th>104902</th>\n",
       "      <td>544569</td>\n",
       "      <td>22286</td>\n",
       "      <td>11</td>\n",
       "      <td>2017-02-21 12:58:00</td>\n",
       "      <td>22659</td>\n",
       "      <td>Shop 0</td>\n",
       "      <td>1</td>\n",
       "      <td>2017-02-21</td>\n",
       "    </tr>\n",
       "    <tr>\n",
       "      <th>104964</th>\n",
       "      <td>536412</td>\n",
       "      <td>21448</td>\n",
       "      <td>1</td>\n",
       "      <td>2016-12-01 11:49:00</td>\n",
       "      <td>23599</td>\n",
       "      <td>Shop 0</td>\n",
       "      <td>1</td>\n",
       "      <td>2016-12-01</td>\n",
       "    </tr>\n",
       "    <tr>\n",
       "      <th>105164</th>\n",
       "      <td>542224</td>\n",
       "      <td>22178</td>\n",
       "      <td>5</td>\n",
       "      <td>2017-01-26 12:45:00</td>\n",
       "      <td>23567</td>\n",
       "      <td>Shop 0</td>\n",
       "      <td>1</td>\n",
       "      <td>2017-01-26</td>\n",
       "    </tr>\n",
       "    <tr>\n",
       "      <th>105173</th>\n",
       "      <td>544153</td>\n",
       "      <td>82552</td>\n",
       "      <td>1</td>\n",
       "      <td>2017-02-16 12:11:00</td>\n",
       "      <td>21035</td>\n",
       "      <td>Shop 0</td>\n",
       "      <td>0</td>\n",
       "      <td>2017-02-16</td>\n",
       "    </tr>\n",
       "  </tbody>\n",
       "</table>\n",
       "<p>340 rows × 8 columns</p>\n",
       "</div>"
      ],
      "text/plain": [
       "       purchase_id item_id  quantity       purchase_date customer_id shop_id  \\\n",
       "5345        537265   21499        24 2016-12-06 11:26:00       21598  Shop 0   \n",
       "6893        540524   21326        11 2017-01-09 12:53:00       22414  Shop 0   \n",
       "10806       537772   22080         4 2016-12-08 12:35:00       23722  Shop 0   \n",
       "13534      C544580       S        -2 2017-02-21 14:25:00  0221142500  Shop 0   \n",
       "15065       537792   47420         1 2016-12-08 12:56:00       22064  Shop 0   \n",
       "...            ...     ...       ...                 ...         ...     ...   \n",
       "104862      536798   21874         5 2016-12-02 15:55:00       23517  Shop 0   \n",
       "104902      544569   22286        11 2017-02-21 12:58:00       22659  Shop 0   \n",
       "104964      536412   21448         1 2016-12-01 11:49:00       23599  Shop 0   \n",
       "105164      542224   22178         5 2017-01-26 12:45:00       23567  Shop 0   \n",
       "105173      544153   82552         1 2017-02-16 12:11:00       21035  Shop 0   \n",
       "\n",
       "        loyalty_program       date  \n",
       "5345                  0 2016-12-06  \n",
       "6893                  1 2017-01-09  \n",
       "10806                 1 2016-12-08  \n",
       "13534                 0 2017-02-21  \n",
       "15065                 1 2016-12-08  \n",
       "...                 ...        ...  \n",
       "104862                1 2016-12-02  \n",
       "104902                1 2017-02-21  \n",
       "104964                1 2016-12-01  \n",
       "105164                1 2017-01-26  \n",
       "105173                0 2017-02-16  \n",
       "\n",
       "[340 rows x 8 columns]"
      ]
     },
     "execution_count": 20,
     "metadata": {},
     "output_type": "execute_result"
    }
   ],
   "source": [
    "df[df.duplicated()]"
   ]
  },
  {
   "cell_type": "code",
   "execution_count": 21,
   "id": "219e2d02",
   "metadata": {},
   "outputs": [
    {
     "data": {
      "text/html": [
       "<div>\n",
       "<style scoped>\n",
       "    .dataframe tbody tr th:only-of-type {\n",
       "        vertical-align: middle;\n",
       "    }\n",
       "\n",
       "    .dataframe tbody tr th {\n",
       "        vertical-align: top;\n",
       "    }\n",
       "\n",
       "    .dataframe thead th {\n",
       "        text-align: right;\n",
       "    }\n",
       "</style>\n",
       "<table border=\"1\" class=\"dataframe\">\n",
       "  <thead>\n",
       "    <tr style=\"text-align: right;\">\n",
       "      <th></th>\n",
       "      <th>product_id</th>\n",
       "      <th>price_per_one</th>\n",
       "    </tr>\n",
       "  </thead>\n",
       "  <tbody>\n",
       "  </tbody>\n",
       "</table>\n",
       "</div>"
      ],
      "text/plain": [
       "Empty DataFrame\n",
       "Columns: [product_id, price_per_one]\n",
       "Index: []"
      ]
     },
     "execution_count": 21,
     "metadata": {},
     "output_type": "execute_result"
    }
   ],
   "source": [
    "df_product[df_product.duplicated()]"
   ]
  },
  {
   "cell_type": "markdown",
   "id": "02964808",
   "metadata": {},
   "source": [
    "Дубликатов 340 строк, удалим их."
   ]
  },
  {
   "cell_type": "code",
   "execution_count": 22,
   "id": "9e75df7b",
   "metadata": {},
   "outputs": [],
   "source": [
    "df = df.drop_duplicates()"
   ]
  },
  {
   "cell_type": "markdown",
   "id": "22827a3a",
   "metadata": {},
   "source": [
    "#### Цены с 0"
   ]
  },
  {
   "cell_type": "markdown",
   "id": "1789e859",
   "metadata": {},
   "source": [
    "В таблице с ценами также есть товары с 0. Удалим эти строки."
   ]
  },
  {
   "cell_type": "code",
   "execution_count": 23,
   "id": "e5019785",
   "metadata": {},
   "outputs": [],
   "source": [
    "df_product = df_product[df_product['price_per_one'] != 0]"
   ]
  },
  {
   "cell_type": "markdown",
   "id": "82ca7682",
   "metadata": {},
   "source": [
    "## Исследовательский анализ данных"
   ]
  },
  {
   "cell_type": "code",
   "execution_count": 24,
   "id": "7aa500bd",
   "metadata": {},
   "outputs": [
    {
     "name": "stdout",
     "output_type": "stream",
     "text": [
      "Минимальная дата в датасете: 2016-12-01 08:26:00\n",
      "Максимальная дата в датасете: 2017-02-28 17:04:00\n"
     ]
    }
   ],
   "source": [
    "print(f\"Минимальная дата в датасете: {df['purchase_date'].min()}\")\n",
    "print(f\"Максимальная дата в датасете: {df['purchase_date'].max()}\")"
   ]
  },
  {
   "cell_type": "markdown",
   "id": "b1223af0",
   "metadata": {},
   "source": [
    "### Изучение товарных единиц"
   ]
  },
  {
   "cell_type": "markdown",
   "id": "0e207e92",
   "metadata": {},
   "source": [
    "Посмотрим, какие товары чаще всего встречаются в заказах."
   ]
  },
  {
   "cell_type": "code",
   "execution_count": 25,
   "id": "c2757164",
   "metadata": {
    "scrolled": true
   },
   "outputs": [
    {
     "data": {
      "text/html": [
       "<div>\n",
       "<style scoped>\n",
       "    .dataframe tbody tr th:only-of-type {\n",
       "        vertical-align: middle;\n",
       "    }\n",
       "\n",
       "    .dataframe tbody tr th {\n",
       "        vertical-align: top;\n",
       "    }\n",
       "\n",
       "    .dataframe thead th {\n",
       "        text-align: right;\n",
       "    }\n",
       "</style>\n",
       "<table border=\"1\" class=\"dataframe\">\n",
       "  <thead>\n",
       "    <tr style=\"text-align: right;\">\n",
       "      <th></th>\n",
       "      <th>quantity</th>\n",
       "    </tr>\n",
       "    <tr>\n",
       "      <th>item_id</th>\n",
       "      <th></th>\n",
       "    </tr>\n",
       "  </thead>\n",
       "  <tbody>\n",
       "    <tr>\n",
       "      <th>85123A</th>\n",
       "      <td>508</td>\n",
       "    </tr>\n",
       "    <tr>\n",
       "      <th>22423</th>\n",
       "      <td>376</td>\n",
       "    </tr>\n",
       "    <tr>\n",
       "      <th>22469</th>\n",
       "      <td>358</td>\n",
       "    </tr>\n",
       "    <tr>\n",
       "      <th>85099B</th>\n",
       "      <td>310</td>\n",
       "    </tr>\n",
       "    <tr>\n",
       "      <th>22720</th>\n",
       "      <td>293</td>\n",
       "    </tr>\n",
       "  </tbody>\n",
       "</table>\n",
       "</div>"
      ],
      "text/plain": [
       "         quantity\n",
       "item_id          \n",
       "85123A        508\n",
       "22423         376\n",
       "22469         358\n",
       "85099B        310\n",
       "22720         293"
      ]
     },
     "execution_count": 25,
     "metadata": {},
     "output_type": "execute_result"
    }
   ],
   "source": [
    "df.groupby('item_id').agg({'quantity': 'count'}).sort_values('quantity', ascending=False).head()"
   ]
  },
  {
   "cell_type": "markdown",
   "id": "8dd49fb7",
   "metadata": {},
   "source": [
    "Практически в каждом десятом заказе встречается товар 85123A.\n",
    "\n",
    "Какие были проданы больше всего в количественном выражении."
   ]
  },
  {
   "cell_type": "code",
   "execution_count": 26,
   "id": "452050ad",
   "metadata": {},
   "outputs": [
    {
     "data": {
      "text/html": [
       "<div>\n",
       "<style scoped>\n",
       "    .dataframe tbody tr th:only-of-type {\n",
       "        vertical-align: middle;\n",
       "    }\n",
       "\n",
       "    .dataframe tbody tr th {\n",
       "        vertical-align: top;\n",
       "    }\n",
       "\n",
       "    .dataframe thead th {\n",
       "        text-align: right;\n",
       "    }\n",
       "</style>\n",
       "<table border=\"1\" class=\"dataframe\">\n",
       "  <thead>\n",
       "    <tr style=\"text-align: right;\">\n",
       "      <th></th>\n",
       "      <th>quantity</th>\n",
       "    </tr>\n",
       "    <tr>\n",
       "      <th>item_id</th>\n",
       "      <th></th>\n",
       "    </tr>\n",
       "  </thead>\n",
       "  <tbody>\n",
       "    <tr>\n",
       "      <th>84077</th>\n",
       "      <td>10126</td>\n",
       "    </tr>\n",
       "    <tr>\n",
       "      <th>85123A</th>\n",
       "      <td>10051</td>\n",
       "    </tr>\n",
       "    <tr>\n",
       "      <th>21212</th>\n",
       "      <td>9291</td>\n",
       "    </tr>\n",
       "    <tr>\n",
       "      <th>85099B</th>\n",
       "      <td>7471</td>\n",
       "    </tr>\n",
       "    <tr>\n",
       "      <th>22197</th>\n",
       "      <td>6918</td>\n",
       "    </tr>\n",
       "  </tbody>\n",
       "</table>\n",
       "</div>"
      ],
      "text/plain": [
       "         quantity\n",
       "item_id          \n",
       "84077       10126\n",
       "85123A      10051\n",
       "21212        9291\n",
       "85099B       7471\n",
       "22197        6918"
      ]
     },
     "execution_count": 26,
     "metadata": {},
     "output_type": "execute_result"
    }
   ],
   "source": [
    "df.groupby('item_id').agg({'quantity': 'sum'}).sort_values('quantity', ascending=False).head()"
   ]
  },
  {
   "cell_type": "markdown",
   "id": "83effd97",
   "metadata": {},
   "source": [
    "Только `85123A` и `85099B` пересекаются в списках. \n",
    "\n",
    "Посмотрим на товары в датасете с ценами.\n",
    "Вот товары, где артикулы состоят из букв."
   ]
  },
  {
   "cell_type": "code",
   "execution_count": 27,
   "id": "f80f95f0",
   "metadata": {},
   "outputs": [
    {
     "data": {
      "text/html": [
       "<div>\n",
       "<style scoped>\n",
       "    .dataframe tbody tr th:only-of-type {\n",
       "        vertical-align: middle;\n",
       "    }\n",
       "\n",
       "    .dataframe tbody tr th {\n",
       "        vertical-align: top;\n",
       "    }\n",
       "\n",
       "    .dataframe thead tr th {\n",
       "        text-align: left;\n",
       "    }\n",
       "</style>\n",
       "<table border=\"1\" class=\"dataframe\">\n",
       "  <thead>\n",
       "    <tr>\n",
       "      <th></th>\n",
       "      <th>product_id</th>\n",
       "      <th colspan=\"4\" halign=\"left\">price_per_one</th>\n",
       "    </tr>\n",
       "    <tr>\n",
       "      <th></th>\n",
       "      <th></th>\n",
       "      <th>count</th>\n",
       "      <th>min</th>\n",
       "      <th>median</th>\n",
       "      <th>max</th>\n",
       "    </tr>\n",
       "  </thead>\n",
       "  <tbody>\n",
       "    <tr>\n",
       "      <th>0</th>\n",
       "      <td>AMAZONFEE</td>\n",
       "      <td>9</td>\n",
       "      <td>1.00</td>\n",
       "      <td>6706.710</td>\n",
       "      <td>16888.02</td>\n",
       "    </tr>\n",
       "    <tr>\n",
       "      <th>1</th>\n",
       "      <td>D</td>\n",
       "      <td>13</td>\n",
       "      <td>5.76</td>\n",
       "      <td>42.500</td>\n",
       "      <td>281.00</td>\n",
       "    </tr>\n",
       "    <tr>\n",
       "      <th>2</th>\n",
       "      <td>DCGSSBOY</td>\n",
       "      <td>1</td>\n",
       "      <td>3.29</td>\n",
       "      <td>3.290</td>\n",
       "      <td>3.29</td>\n",
       "    </tr>\n",
       "    <tr>\n",
       "      <th>3</th>\n",
       "      <td>DCGSSGIRL</td>\n",
       "      <td>1</td>\n",
       "      <td>3.29</td>\n",
       "      <td>3.290</td>\n",
       "      <td>3.29</td>\n",
       "    </tr>\n",
       "    <tr>\n",
       "      <th>4</th>\n",
       "      <td>DOT</td>\n",
       "      <td>174</td>\n",
       "      <td>2.51</td>\n",
       "      <td>198.190</td>\n",
       "      <td>950.99</td>\n",
       "    </tr>\n",
       "    <tr>\n",
       "      <th>5</th>\n",
       "      <td>M</td>\n",
       "      <td>59</td>\n",
       "      <td>0.19</td>\n",
       "      <td>12.750</td>\n",
       "      <td>1715.85</td>\n",
       "    </tr>\n",
       "    <tr>\n",
       "      <th>6</th>\n",
       "      <td>POST</td>\n",
       "      <td>14</td>\n",
       "      <td>3.00</td>\n",
       "      <td>13.995</td>\n",
       "      <td>40.00</td>\n",
       "    </tr>\n",
       "    <tr>\n",
       "      <th>7</th>\n",
       "      <td>S</td>\n",
       "      <td>29</td>\n",
       "      <td>2.80</td>\n",
       "      <td>12.950</td>\n",
       "      <td>128.56</td>\n",
       "    </tr>\n",
       "    <tr>\n",
       "      <th>8</th>\n",
       "      <td>m</td>\n",
       "      <td>1</td>\n",
       "      <td>2.55</td>\n",
       "      <td>2.550</td>\n",
       "      <td>2.55</td>\n",
       "    </tr>\n",
       "  </tbody>\n",
       "</table>\n",
       "</div>"
      ],
      "text/plain": [
       "  product_id price_per_one                          \n",
       "                     count   min    median       max\n",
       "0  AMAZONFEE             9  1.00  6706.710  16888.02\n",
       "1          D            13  5.76    42.500    281.00\n",
       "2   DCGSSBOY             1  3.29     3.290      3.29\n",
       "3  DCGSSGIRL             1  3.29     3.290      3.29\n",
       "4        DOT           174  2.51   198.190    950.99\n",
       "5          M            59  0.19    12.750   1715.85\n",
       "6       POST            14  3.00    13.995     40.00\n",
       "7          S            29  2.80    12.950    128.56\n",
       "8          m             1  2.55     2.550      2.55"
      ]
     },
     "execution_count": 27,
     "metadata": {},
     "output_type": "execute_result"
    }
   ],
   "source": [
    "df_product.loc[df_product['product_id'].str.isalpha()]\\\n",
    "                .groupby('product_id')\\\n",
    "                .agg({'price_per_one': ['count', 'min', 'median', 'max']}).reset_index()"
   ]
  },
  {
   "cell_type": "markdown",
   "id": "286607e4",
   "metadata": {},
   "source": [
    "Самый часто продающийся продукт в офлайн магазине - пакет, а в онлайн - доставка. \n",
    "\n",
    "`AMAZONFEE` - комиссия AMAZON  \n",
    "`D` - Delivery Order - доставка заказа  \n",
    "`DCGSSBOY` и `DCGSSGIRL` -  названия товаров, возможно промо-товары  \n",
    "`DOT` - dotcom postage - почтовые расходы интернет площадок  \n",
    "`M` - Код класса тарифа, указывающий минимальные сборы, используемые в авиа доставке  \n",
    "`POST` - postage - почтовые расходы  \n",
    "`BANK CHARGES\t` - комиссия банка  \n",
    "`S` - Код класса тарифа, указывающий на то, что был применен повышенный тариф класса, используемый в авиа доставке\n",
    "\n",
    "[Источник расшифровки](http://www.galaxylogistics.ru/analitika/sokrascheniya-primenyaemyie-pri-perevozke-aviatransportom.html)\n",
    "\n",
    "Комиссия банка и Amazon никак не относится к клиентам, поэтому эти строки можно удалить."
   ]
  },
  {
   "cell_type": "code",
   "execution_count": 28,
   "id": "3882163d",
   "metadata": {},
   "outputs": [],
   "source": [
    "df = df[df['item_id'] != 'AMAZONFEE']\n",
    "df = df[df['item_id'] != 'BANK CHARGES']\n",
    "\n",
    "# удалим также из этой таблицы, чтобы следующая визуализация смотрелась приятней\n",
    "df_product = df_product[df_product['product_id'] != 'AMAZONFEE'] "
   ]
  },
  {
   "cell_type": "markdown",
   "id": "460255a0",
   "metadata": {},
   "source": [
    "Также можем заметить, что разброс цен огромный. Проверим, так ли это для всей номенклатуры в датасете."
   ]
  },
  {
   "cell_type": "code",
   "execution_count": 29,
   "id": "23e2a19e",
   "metadata": {
    "scrolled": false
   },
   "outputs": [
    {
     "data": {
      "image/png": "[encoded data removed]",
      "text/plain": [
       "<Figure size 720x432 with 1 Axes>"
      ]
     },
     "metadata": {},
     "output_type": "display_data"
    }
   ],
   "source": [
    "plt.figure(figsize=(10,6))\n",
    "plt.scatter(df_product['product_id'], df_product['price_per_one'])\n",
    "plt.title('Распределение цен за товары')\n",
    "plt.xticks([])\n",
    "plt.show()"
   ]
  },
  {
   "cell_type": "markdown",
   "id": "b037ca90",
   "metadata": {},
   "source": [
    "Также можем заметить, что разброс цен огромный. Проверим, так ли это для всей номенклатуры в датасете."
   ]
  },
  {
   "cell_type": "code",
   "execution_count": 30,
   "id": "22c87292",
   "metadata": {},
   "outputs": [
    {
     "data": {
      "text/html": [
       "<div>\n",
       "<style scoped>\n",
       "    .dataframe tbody tr th:only-of-type {\n",
       "        vertical-align: middle;\n",
       "    }\n",
       "\n",
       "    .dataframe tbody tr th {\n",
       "        vertical-align: top;\n",
       "    }\n",
       "\n",
       "    .dataframe thead th {\n",
       "        text-align: right;\n",
       "    }\n",
       "</style>\n",
       "<table border=\"1\" class=\"dataframe\">\n",
       "  <thead>\n",
       "    <tr style=\"text-align: right;\">\n",
       "      <th></th>\n",
       "      <th>product_id</th>\n",
       "      <th>price_per_one</th>\n",
       "    </tr>\n",
       "  </thead>\n",
       "  <tbody>\n",
       "    <tr>\n",
       "      <th>0</th>\n",
       "      <td>85123A</td>\n",
       "      <td>2.55</td>\n",
       "    </tr>\n",
       "    <tr>\n",
       "      <th>1</th>\n",
       "      <td>71053</td>\n",
       "      <td>3.39</td>\n",
       "    </tr>\n",
       "    <tr>\n",
       "      <th>2</th>\n",
       "      <td>84406B</td>\n",
       "      <td>2.75</td>\n",
       "    </tr>\n",
       "    <tr>\n",
       "      <th>3</th>\n",
       "      <td>84029G</td>\n",
       "      <td>3.39</td>\n",
       "    </tr>\n",
       "    <tr>\n",
       "      <th>4</th>\n",
       "      <td>84029E</td>\n",
       "      <td>3.39</td>\n",
       "    </tr>\n",
       "    <tr>\n",
       "      <th>...</th>\n",
       "      <td>...</td>\n",
       "      <td>...</td>\n",
       "    </tr>\n",
       "    <tr>\n",
       "      <th>9963</th>\n",
       "      <td>22580</td>\n",
       "      <td>11.63</td>\n",
       "    </tr>\n",
       "    <tr>\n",
       "      <th>9964</th>\n",
       "      <td>84306</td>\n",
       "      <td>8.29</td>\n",
       "    </tr>\n",
       "    <tr>\n",
       "      <th>9965</th>\n",
       "      <td>90001A</td>\n",
       "      <td>4.15</td>\n",
       "    </tr>\n",
       "    <tr>\n",
       "      <th>9966</th>\n",
       "      <td>90118</td>\n",
       "      <td>2.46</td>\n",
       "    </tr>\n",
       "    <tr>\n",
       "      <th>9967</th>\n",
       "      <td>DOT</td>\n",
       "      <td>172.62</td>\n",
       "    </tr>\n",
       "  </tbody>\n",
       "</table>\n",
       "<p>9578 rows × 2 columns</p>\n",
       "</div>"
      ],
      "text/plain": [
       "     product_id  price_per_one\n",
       "0        85123A           2.55\n",
       "1         71053           3.39\n",
       "2        84406B           2.75\n",
       "3        84029G           3.39\n",
       "4        84029E           3.39\n",
       "...         ...            ...\n",
       "9963      22580          11.63\n",
       "9964      84306           8.29\n",
       "9965     90001A           4.15\n",
       "9966      90118           2.46\n",
       "9967        DOT         172.62\n",
       "\n",
       "[9578 rows x 2 columns]"
      ]
     },
     "execution_count": 30,
     "metadata": {},
     "output_type": "execute_result"
    }
   ],
   "source": [
    "df_product"
   ]
  },
  {
   "cell_type": "code",
   "execution_count": 31,
   "id": "ae9634b0",
   "metadata": {},
   "outputs": [
    {
     "data": {
      "text/html": [
       "<div>\n",
       "<style scoped>\n",
       "    .dataframe tbody tr th:only-of-type {\n",
       "        vertical-align: middle;\n",
       "    }\n",
       "\n",
       "    .dataframe tbody tr th {\n",
       "        vertical-align: top;\n",
       "    }\n",
       "\n",
       "    .dataframe thead th {\n",
       "        text-align: right;\n",
       "    }\n",
       "</style>\n",
       "<table border=\"1\" class=\"dataframe\">\n",
       "  <thead>\n",
       "    <tr style=\"text-align: right;\">\n",
       "      <th></th>\n",
       "      <th>open</th>\n",
       "      <th>high</th>\n",
       "      <th>low</th>\n",
       "      <th>close</th>\n",
       "    </tr>\n",
       "    <tr>\n",
       "      <th>product_id</th>\n",
       "      <th></th>\n",
       "      <th></th>\n",
       "      <th></th>\n",
       "      <th></th>\n",
       "    </tr>\n",
       "  </thead>\n",
       "  <tbody>\n",
       "    <tr>\n",
       "      <th>M</th>\n",
       "      <td>1.25</td>\n",
       "      <td>1715.85</td>\n",
       "      <td>0.19</td>\n",
       "      <td>764.12</td>\n",
       "    </tr>\n",
       "    <tr>\n",
       "      <th>BANK CHARGES</th>\n",
       "      <td>15.00</td>\n",
       "      <td>1050.15</td>\n",
       "      <td>15.00</td>\n",
       "      <td>109.84</td>\n",
       "    </tr>\n",
       "    <tr>\n",
       "      <th>DOT</th>\n",
       "      <td>569.77</td>\n",
       "      <td>950.99</td>\n",
       "      <td>2.51</td>\n",
       "      <td>172.62</td>\n",
       "    </tr>\n",
       "    <tr>\n",
       "      <th>22655</th>\n",
       "      <td>295.00</td>\n",
       "      <td>295.00</td>\n",
       "      <td>125.00</td>\n",
       "      <td>265.50</td>\n",
       "    </tr>\n",
       "    <tr>\n",
       "      <th>D</th>\n",
       "      <td>27.50</td>\n",
       "      <td>281.00</td>\n",
       "      <td>5.76</td>\n",
       "      <td>70.01</td>\n",
       "    </tr>\n",
       "    <tr>\n",
       "      <th>22826</th>\n",
       "      <td>175.00</td>\n",
       "      <td>175.00</td>\n",
       "      <td>175.00</td>\n",
       "      <td>175.00</td>\n",
       "    </tr>\n",
       "    <tr>\n",
       "      <th>22656</th>\n",
       "      <td>125.00</td>\n",
       "      <td>175.00</td>\n",
       "      <td>125.00</td>\n",
       "      <td>175.00</td>\n",
       "    </tr>\n",
       "    <tr>\n",
       "      <th>22827</th>\n",
       "      <td>165.00</td>\n",
       "      <td>165.00</td>\n",
       "      <td>145.00</td>\n",
       "      <td>145.00</td>\n",
       "    </tr>\n",
       "    <tr>\n",
       "      <th>22828</th>\n",
       "      <td>165.00</td>\n",
       "      <td>165.00</td>\n",
       "      <td>145.00</td>\n",
       "      <td>145.00</td>\n",
       "    </tr>\n",
       "    <tr>\n",
       "      <th>C2</th>\n",
       "      <td>50.00</td>\n",
       "      <td>150.00</td>\n",
       "      <td>15.00</td>\n",
       "      <td>15.00</td>\n",
       "    </tr>\n",
       "    <tr>\n",
       "      <th>S</th>\n",
       "      <td>12.95</td>\n",
       "      <td>128.56</td>\n",
       "      <td>2.80</td>\n",
       "      <td>21.90</td>\n",
       "    </tr>\n",
       "    <tr>\n",
       "      <th>22823</th>\n",
       "      <td>125.00</td>\n",
       "      <td>125.00</td>\n",
       "      <td>110.00</td>\n",
       "      <td>110.00</td>\n",
       "    </tr>\n",
       "    <tr>\n",
       "      <th>22833</th>\n",
       "      <td>49.95</td>\n",
       "      <td>100.00</td>\n",
       "      <td>32.69</td>\n",
       "      <td>100.00</td>\n",
       "    </tr>\n",
       "    <tr>\n",
       "      <th>21769</th>\n",
       "      <td>79.95</td>\n",
       "      <td>79.95</td>\n",
       "      <td>52.77</td>\n",
       "      <td>52.77</td>\n",
       "    </tr>\n",
       "    <tr>\n",
       "      <th>84078A</th>\n",
       "      <td>76.55</td>\n",
       "      <td>76.55</td>\n",
       "      <td>34.95</td>\n",
       "      <td>39.95</td>\n",
       "    </tr>\n",
       "  </tbody>\n",
       "</table>\n",
       "</div>"
      ],
      "text/plain": [
       "                open     high     low   close\n",
       "product_id                                   \n",
       "M               1.25  1715.85    0.19  764.12\n",
       "BANK CHARGES   15.00  1050.15   15.00  109.84\n",
       "DOT           569.77   950.99    2.51  172.62\n",
       "22655         295.00   295.00  125.00  265.50\n",
       "D              27.50   281.00    5.76   70.01\n",
       "22826         175.00   175.00  175.00  175.00\n",
       "22656         125.00   175.00  125.00  175.00\n",
       "22827         165.00   165.00  145.00  145.00\n",
       "22828         165.00   165.00  145.00  145.00\n",
       "C2             50.00   150.00   15.00   15.00\n",
       "S              12.95   128.56    2.80   21.90\n",
       "22823         125.00   125.00  110.00  110.00\n",
       "22833          49.95   100.00   32.69  100.00\n",
       "21769          79.95    79.95   52.77   52.77\n",
       "84078A         76.55    76.55   34.95   39.95"
      ]
     },
     "execution_count": 31,
     "metadata": {},
     "output_type": "execute_result"
    }
   ],
   "source": [
    "df_product.groupby('product_id')['price_per_one'].ohlc().sort_values(('high'), ascending=False).head(15)"
   ]
  },
  {
   "cell_type": "markdown",
   "id": "6a3ee1b4",
   "metadata": {},
   "source": [
    "Разброс цен огромный. Мы не можем восстановить реальную цену продажи. Поэтому предлагаю использовать медиану. Во-первых, это сгладит выбросы, которые, возможно, возникли из-за скидок, или наценок, чтобы сделать скидки более заманчивыми и прочее.   \n",
    "Конечно, у нас есть клиенты, которые участвуют в программе лояльности и у них должны быть скидки. Но нашему анализу одинаковые цены не помешают. Скидки должны провоцировать клиентов на закупку большего количества товара или совершать покупки чаще. Это все можно будет отследить.   \n",
    "Средний чек, тоже должен быть выше, с учетом возможных скидок по программе лояльности. "
   ]
  },
  {
   "cell_type": "markdown",
   "id": "55e270d5",
   "metadata": {},
   "source": [
    "Создадим таблицу с рассчитанными медианными ценами."
   ]
  },
  {
   "cell_type": "code",
   "execution_count": 32,
   "id": "c7723368",
   "metadata": {},
   "outputs": [],
   "source": [
    "df_median_price = df_product.groupby('product_id')['price_per_one'].median()"
   ]
  },
  {
   "cell_type": "markdown",
   "id": "2d6e6537",
   "metadata": {},
   "source": [
    "Объединим таблицы."
   ]
  },
  {
   "cell_type": "code",
   "execution_count": 33,
   "id": "fa161ebc",
   "metadata": {},
   "outputs": [],
   "source": [
    "df = df.merge(df_median_price, left_on='item_id', right_on='product_id', how='left')"
   ]
  },
  {
   "cell_type": "markdown",
   "id": "5cc87fad",
   "metadata": {},
   "source": [
    "Проверим на пустые значения."
   ]
  },
  {
   "cell_type": "code",
   "execution_count": 34,
   "id": "81fc4e87",
   "metadata": {},
   "outputs": [
    {
     "data": {
      "text/html": [
       "<div>\n",
       "<style scoped>\n",
       "    .dataframe tbody tr th:only-of-type {\n",
       "        vertical-align: middle;\n",
       "    }\n",
       "\n",
       "    .dataframe tbody tr th {\n",
       "        vertical-align: top;\n",
       "    }\n",
       "\n",
       "    .dataframe thead th {\n",
       "        text-align: right;\n",
       "    }\n",
       "</style>\n",
       "<table border=\"1\" class=\"dataframe\">\n",
       "  <thead>\n",
       "    <tr style=\"text-align: right;\">\n",
       "      <th></th>\n",
       "      <th>purchase_id</th>\n",
       "      <th>item_id</th>\n",
       "      <th>quantity</th>\n",
       "      <th>purchase_date</th>\n",
       "      <th>customer_id</th>\n",
       "      <th>shop_id</th>\n",
       "      <th>loyalty_program</th>\n",
       "      <th>date</th>\n",
       "      <th>price_per_one</th>\n",
       "    </tr>\n",
       "  </thead>\n",
       "  <tbody>\n",
       "    <tr>\n",
       "      <th>4291</th>\n",
       "      <td>543258</td>\n",
       "      <td>84611B</td>\n",
       "      <td>1286</td>\n",
       "      <td>2017-02-04 16:06:00</td>\n",
       "      <td>0204160600</td>\n",
       "      <td>Shop 0</td>\n",
       "      <td>0</td>\n",
       "      <td>2017-02-04</td>\n",
       "      <td>NaN</td>\n",
       "    </tr>\n",
       "    <tr>\n",
       "      <th>5921</th>\n",
       "      <td>542570</td>\n",
       "      <td>85028S</td>\n",
       "      <td>-2</td>\n",
       "      <td>2017-01-28 14:53:00</td>\n",
       "      <td>0128145300</td>\n",
       "      <td>Shop 0</td>\n",
       "      <td>0</td>\n",
       "      <td>2017-01-28</td>\n",
       "      <td>NaN</td>\n",
       "    </tr>\n",
       "    <tr>\n",
       "      <th>6644</th>\n",
       "      <td>542581</td>\n",
       "      <td>90091</td>\n",
       "      <td>-2</td>\n",
       "      <td>2017-01-28 14:58:00</td>\n",
       "      <td>0128145800</td>\n",
       "      <td>Shop 0</td>\n",
       "      <td>0</td>\n",
       "      <td>2017-01-28</td>\n",
       "      <td>NaN</td>\n",
       "    </tr>\n",
       "    <tr>\n",
       "      <th>6677</th>\n",
       "      <td>540987</td>\n",
       "      <td>17011A</td>\n",
       "      <td>-62</td>\n",
       "      <td>2017-01-12 16:15:00</td>\n",
       "      <td>0112161500</td>\n",
       "      <td>Shop 0</td>\n",
       "      <td>0</td>\n",
       "      <td>2017-01-12</td>\n",
       "      <td>NaN</td>\n",
       "    </tr>\n",
       "    <tr>\n",
       "      <th>7350</th>\n",
       "      <td>543257</td>\n",
       "      <td>84611B</td>\n",
       "      <td>-1431</td>\n",
       "      <td>2017-02-04 16:06:00</td>\n",
       "      <td>0204160600</td>\n",
       "      <td>Shop 0</td>\n",
       "      <td>0</td>\n",
       "      <td>2017-02-04</td>\n",
       "      <td>NaN</td>\n",
       "    </tr>\n",
       "    <tr>\n",
       "      <th>8714</th>\n",
       "      <td>542576</td>\n",
       "      <td>85179B</td>\n",
       "      <td>-2</td>\n",
       "      <td>2017-01-28 14:56:00</td>\n",
       "      <td>0128145600</td>\n",
       "      <td>Shop 0</td>\n",
       "      <td>0</td>\n",
       "      <td>2017-01-28</td>\n",
       "      <td>NaN</td>\n",
       "    </tr>\n",
       "    <tr>\n",
       "      <th>10902</th>\n",
       "      <td>542414</td>\n",
       "      <td>84967A</td>\n",
       "      <td>-3</td>\n",
       "      <td>2017-01-27 17:15:00</td>\n",
       "      <td>0127171500</td>\n",
       "      <td>Shop 0</td>\n",
       "      <td>0</td>\n",
       "      <td>2017-01-27</td>\n",
       "      <td>NaN</td>\n",
       "    </tr>\n",
       "    <tr>\n",
       "      <th>11271</th>\n",
       "      <td>542418</td>\n",
       "      <td>84966A</td>\n",
       "      <td>-18</td>\n",
       "      <td>2017-01-27 17:39:00</td>\n",
       "      <td>0127173900</td>\n",
       "      <td>Shop 0</td>\n",
       "      <td>0</td>\n",
       "      <td>2017-01-27</td>\n",
       "      <td>NaN</td>\n",
       "    </tr>\n",
       "    <tr>\n",
       "      <th>13510</th>\n",
       "      <td>543267</td>\n",
       "      <td>35645</td>\n",
       "      <td>2</td>\n",
       "      <td>2017-02-04 17:24:00</td>\n",
       "      <td>0204172400</td>\n",
       "      <td>Shop 0</td>\n",
       "      <td>0</td>\n",
       "      <td>2017-02-04</td>\n",
       "      <td>NaN</td>\n",
       "    </tr>\n",
       "    <tr>\n",
       "      <th>14195</th>\n",
       "      <td>542579</td>\n",
       "      <td>90000C</td>\n",
       "      <td>-2</td>\n",
       "      <td>2017-01-28 14:57:00</td>\n",
       "      <td>0128145700</td>\n",
       "      <td>Shop 0</td>\n",
       "      <td>0</td>\n",
       "      <td>2017-01-28</td>\n",
       "      <td>NaN</td>\n",
       "    </tr>\n",
       "  </tbody>\n",
       "</table>\n",
       "</div>"
      ],
      "text/plain": [
       "      purchase_id item_id  quantity       purchase_date customer_id shop_id  \\\n",
       "4291       543258  84611B      1286 2017-02-04 16:06:00  0204160600  Shop 0   \n",
       "5921       542570  85028S        -2 2017-01-28 14:53:00  0128145300  Shop 0   \n",
       "6644       542581   90091        -2 2017-01-28 14:58:00  0128145800  Shop 0   \n",
       "6677       540987  17011A       -62 2017-01-12 16:15:00  0112161500  Shop 0   \n",
       "7350       543257  84611B     -1431 2017-02-04 16:06:00  0204160600  Shop 0   \n",
       "8714       542576  85179B        -2 2017-01-28 14:56:00  0128145600  Shop 0   \n",
       "10902      542414  84967A        -3 2017-01-27 17:15:00  0127171500  Shop 0   \n",
       "11271      542418  84966A       -18 2017-01-27 17:39:00  0127173900  Shop 0   \n",
       "13510      543267   35645         2 2017-02-04 17:24:00  0204172400  Shop 0   \n",
       "14195      542579  90000C        -2 2017-01-28 14:57:00  0128145700  Shop 0   \n",
       "\n",
       "       loyalty_program       date  price_per_one  \n",
       "4291                 0 2017-02-04            NaN  \n",
       "5921                 0 2017-01-28            NaN  \n",
       "6644                 0 2017-01-28            NaN  \n",
       "6677                 0 2017-01-12            NaN  \n",
       "7350                 0 2017-02-04            NaN  \n",
       "8714                 0 2017-01-28            NaN  \n",
       "10902                0 2017-01-27            NaN  \n",
       "11271                0 2017-01-27            NaN  \n",
       "13510                0 2017-02-04            NaN  \n",
       "14195                0 2017-01-28            NaN  "
      ]
     },
     "execution_count": 34,
     "metadata": {},
     "output_type": "execute_result"
    }
   ],
   "source": [
    "df[df['price_per_one'].isna()].head(10)"
   ]
  },
  {
   "cell_type": "markdown",
   "id": "6748b3d5",
   "metadata": {},
   "source": [
    "Такие данные встречаются, они возникли из-за удаления в прайсе цен с 0. Количество таких операций невелико, и они только будут искажать средние значения. Поэтому лучше удалить эти строки."
   ]
  },
  {
   "cell_type": "code",
   "execution_count": 35,
   "id": "e3d0241d",
   "metadata": {},
   "outputs": [],
   "source": [
    "df = df[~df['price_per_one'].isna()]"
   ]
  },
  {
   "cell_type": "markdown",
   "id": "608889e3",
   "metadata": {},
   "source": [
    "Округлим до 2 знаков после запятой цены."
   ]
  },
  {
   "cell_type": "code",
   "execution_count": 36,
   "id": "51ecada6",
   "metadata": {},
   "outputs": [],
   "source": [
    "df['price_per_one'] = round(df['price_per_one'], 2)"
   ]
  },
  {
   "cell_type": "markdown",
   "id": "7d7f465e",
   "metadata": {},
   "source": [
    "Создадим столбец с суммой продаж."
   ]
  },
  {
   "cell_type": "code",
   "execution_count": 37,
   "id": "59477b9c",
   "metadata": {},
   "outputs": [],
   "source": [
    "df['total_price'] = df['price_per_one'] *  df['quantity']"
   ]
  },
  {
   "cell_type": "code",
   "execution_count": 38,
   "id": "cd147f55",
   "metadata": {},
   "outputs": [],
   "source": [
    "df = df[df['quantity'] != 74214]\n",
    "df = df[df['quantity'] != -74216]"
   ]
  },
  {
   "cell_type": "markdown",
   "id": "b4ac1987",
   "metadata": {},
   "source": [
    "Огромная продажа, а потом возврат через 17 минут, все таки выглядит как ошибка. Удалим ее, чтобы не портила среднее."
   ]
  },
  {
   "cell_type": "markdown",
   "id": "c757d5d3",
   "metadata": {},
   "source": [
    "### Изучение данных в разрезе заказов"
   ]
  },
  {
   "cell_type": "markdown",
   "id": "bb959f04",
   "metadata": {},
   "source": [
    "#### Возвраты"
   ]
  },
  {
   "cell_type": "markdown",
   "id": "d7a203a1",
   "metadata": {},
   "source": [
    "Мы видели, что заказы в нашем датасете встречаются шестизначные id продажи, и с префиксом \"С\". Посмотрим на продажи с префиксом."
   ]
  },
  {
   "cell_type": "code",
   "execution_count": 39,
   "id": "95e7d4dd",
   "metadata": {},
   "outputs": [
    {
     "data": {
      "text/html": [
       "<div>\n",
       "<style scoped>\n",
       "    .dataframe tbody tr th:only-of-type {\n",
       "        vertical-align: middle;\n",
       "    }\n",
       "\n",
       "    .dataframe tbody tr th {\n",
       "        vertical-align: top;\n",
       "    }\n",
       "\n",
       "    .dataframe thead th {\n",
       "        text-align: right;\n",
       "    }\n",
       "</style>\n",
       "<table border=\"1\" class=\"dataframe\">\n",
       "  <thead>\n",
       "    <tr style=\"text-align: right;\">\n",
       "      <th></th>\n",
       "      <th>purchase_id</th>\n",
       "      <th>item_id</th>\n",
       "      <th>quantity</th>\n",
       "      <th>purchase_date</th>\n",
       "      <th>customer_id</th>\n",
       "      <th>shop_id</th>\n",
       "      <th>loyalty_program</th>\n",
       "      <th>date</th>\n",
       "      <th>price_per_one</th>\n",
       "      <th>total_price</th>\n",
       "    </tr>\n",
       "  </thead>\n",
       "  <tbody>\n",
       "    <tr>\n",
       "      <th>43</th>\n",
       "      <td>C539944</td>\n",
       "      <td>22776</td>\n",
       "      <td>-2</td>\n",
       "      <td>2016-12-23 11:38:00</td>\n",
       "      <td>20239</td>\n",
       "      <td>Shop 0</td>\n",
       "      <td>0</td>\n",
       "      <td>2016-12-23</td>\n",
       "      <td>14.96</td>\n",
       "      <td>-29.92</td>\n",
       "    </tr>\n",
       "    <tr>\n",
       "      <th>78</th>\n",
       "      <td>C542910</td>\n",
       "      <td>20726</td>\n",
       "      <td>-2</td>\n",
       "      <td>2017-02-01 15:38:00</td>\n",
       "      <td>23190</td>\n",
       "      <td>Shop 0</td>\n",
       "      <td>1</td>\n",
       "      <td>2017-02-01</td>\n",
       "      <td>4.17</td>\n",
       "      <td>-8.34</td>\n",
       "    </tr>\n",
       "    <tr>\n",
       "      <th>80</th>\n",
       "      <td>C542426</td>\n",
       "      <td>22418</td>\n",
       "      <td>-25</td>\n",
       "      <td>2017-01-28 09:32:00</td>\n",
       "      <td>19825</td>\n",
       "      <td>Shop 0</td>\n",
       "      <td>0</td>\n",
       "      <td>2017-01-28</td>\n",
       "      <td>1.64</td>\n",
       "      <td>-41.00</td>\n",
       "    </tr>\n",
       "    <tr>\n",
       "      <th>176</th>\n",
       "      <td>C539726</td>\n",
       "      <td>22791</td>\n",
       "      <td>-11</td>\n",
       "      <td>2016-12-21 14:24:00</td>\n",
       "      <td>22686</td>\n",
       "      <td>Shop 0</td>\n",
       "      <td>1</td>\n",
       "      <td>2016-12-21</td>\n",
       "      <td>1.86</td>\n",
       "      <td>-20.46</td>\n",
       "    </tr>\n",
       "    <tr>\n",
       "      <th>242</th>\n",
       "      <td>C544034</td>\n",
       "      <td>21878</td>\n",
       "      <td>-2</td>\n",
       "      <td>2017-02-15 11:28:00</td>\n",
       "      <td>20380</td>\n",
       "      <td>Shop 0</td>\n",
       "      <td>0</td>\n",
       "      <td>2017-02-15</td>\n",
       "      <td>1.24</td>\n",
       "      <td>-2.48</td>\n",
       "    </tr>\n",
       "  </tbody>\n",
       "</table>\n",
       "</div>"
      ],
      "text/plain": [
       "    purchase_id item_id  quantity       purchase_date customer_id shop_id  \\\n",
       "43      C539944   22776        -2 2016-12-23 11:38:00       20239  Shop 0   \n",
       "78      C542910   20726        -2 2017-02-01 15:38:00       23190  Shop 0   \n",
       "80      C542426   22418       -25 2017-01-28 09:32:00       19825  Shop 0   \n",
       "176     C539726   22791       -11 2016-12-21 14:24:00       22686  Shop 0   \n",
       "242     C544034   21878        -2 2017-02-15 11:28:00       20380  Shop 0   \n",
       "\n",
       "     loyalty_program       date  price_per_one  total_price  \n",
       "43                 0 2016-12-23          14.96       -29.92  \n",
       "78                 1 2017-02-01           4.17        -8.34  \n",
       "80                 0 2017-01-28           1.64       -41.00  \n",
       "176                1 2016-12-21           1.86       -20.46  \n",
       "242                0 2017-02-15           1.24        -2.48  "
      ]
     },
     "execution_count": 39,
     "metadata": {},
     "output_type": "execute_result"
    }
   ],
   "source": [
    "df.loc[df['quantity'] < 0].head()"
   ]
  },
  {
   "cell_type": "markdown",
   "id": "a05e5028",
   "metadata": {},
   "source": [
    "Покупки отрицательные. Проверим, есть ли положительные покупки с префиксом."
   ]
  },
  {
   "cell_type": "code",
   "execution_count": 40,
   "id": "3c999e53",
   "metadata": {},
   "outputs": [
    {
     "data": {
      "text/html": [
       "<div>\n",
       "<style scoped>\n",
       "    .dataframe tbody tr th:only-of-type {\n",
       "        vertical-align: middle;\n",
       "    }\n",
       "\n",
       "    .dataframe tbody tr th {\n",
       "        vertical-align: top;\n",
       "    }\n",
       "\n",
       "    .dataframe thead th {\n",
       "        text-align: right;\n",
       "    }\n",
       "</style>\n",
       "<table border=\"1\" class=\"dataframe\">\n",
       "  <thead>\n",
       "    <tr style=\"text-align: right;\">\n",
       "      <th></th>\n",
       "      <th>purchase_id</th>\n",
       "      <th>item_id</th>\n",
       "      <th>quantity</th>\n",
       "      <th>purchase_date</th>\n",
       "      <th>customer_id</th>\n",
       "      <th>shop_id</th>\n",
       "      <th>loyalty_program</th>\n",
       "      <th>date</th>\n",
       "      <th>price_per_one</th>\n",
       "      <th>total_price</th>\n",
       "    </tr>\n",
       "  </thead>\n",
       "  <tbody>\n",
       "  </tbody>\n",
       "</table>\n",
       "</div>"
      ],
      "text/plain": [
       "Empty DataFrame\n",
       "Columns: [purchase_id, item_id, quantity, purchase_date, customer_id, shop_id, loyalty_program, date, price_per_one, total_price]\n",
       "Index: []"
      ]
     },
     "execution_count": 40,
     "metadata": {},
     "output_type": "execute_result"
    }
   ],
   "source": [
    "df[(~df['purchase_id'].str.isnumeric()) & (df['quantity'] > 0)]"
   ]
  },
  {
   "cell_type": "markdown",
   "id": "fdbd7eee",
   "metadata": {},
   "source": [
    "Все продажи с префиксом отрицательные, но все ли отрицательные с префиксом?"
   ]
  },
  {
   "cell_type": "code",
   "execution_count": 41,
   "id": "8af64cc0",
   "metadata": {
    "scrolled": false
   },
   "outputs": [
    {
     "data": {
      "text/html": [
       "<div>\n",
       "<style scoped>\n",
       "    .dataframe tbody tr th:only-of-type {\n",
       "        vertical-align: middle;\n",
       "    }\n",
       "\n",
       "    .dataframe tbody tr th {\n",
       "        vertical-align: top;\n",
       "    }\n",
       "\n",
       "    .dataframe thead th {\n",
       "        text-align: right;\n",
       "    }\n",
       "</style>\n",
       "<table border=\"1\" class=\"dataframe\">\n",
       "  <thead>\n",
       "    <tr style=\"text-align: right;\">\n",
       "      <th></th>\n",
       "      <th></th>\n",
       "      <th>quantity</th>\n",
       "      <th>price_per_one</th>\n",
       "      <th>total_price</th>\n",
       "    </tr>\n",
       "    <tr>\n",
       "      <th>purchase_id</th>\n",
       "      <th>loyalty_program</th>\n",
       "      <th></th>\n",
       "      <th></th>\n",
       "      <th></th>\n",
       "    </tr>\n",
       "  </thead>\n",
       "  <tbody>\n",
       "    <tr>\n",
       "      <th rowspan=\"2\" valign=\"top\">False</th>\n",
       "      <th>0</th>\n",
       "      <td>-21651</td>\n",
       "      <td>9784.18</td>\n",
       "      <td>-95138.53</td>\n",
       "    </tr>\n",
       "    <tr>\n",
       "      <th>1</th>\n",
       "      <td>-4653</td>\n",
       "      <td>3737.86</td>\n",
       "      <td>-19039.72</td>\n",
       "    </tr>\n",
       "    <tr>\n",
       "      <th>True</th>\n",
       "      <th>0</th>\n",
       "      <td>-16079</td>\n",
       "      <td>1061.28</td>\n",
       "      <td>-62699.54</td>\n",
       "    </tr>\n",
       "  </tbody>\n",
       "</table>\n",
       "</div>"
      ],
      "text/plain": [
       "                             quantity  price_per_one  total_price\n",
       "purchase_id loyalty_program                                      \n",
       "False       0                  -21651        9784.18    -95138.53\n",
       "            1                   -4653        3737.86    -19039.72\n",
       "True        0                  -16079        1061.28    -62699.54"
      ]
     },
     "execution_count": 41,
     "metadata": {},
     "output_type": "execute_result"
    }
   ],
   "source": [
    "df[df['quantity'] < 0].groupby([df['purchase_id'].str.isnumeric(), 'loyalty_program']).sum()"
   ]
  },
  {
   "cell_type": "markdown",
   "id": "fecbbe35",
   "metadata": {},
   "source": [
    "Есть отрицательные продажи без префикса. Посмотрим в разрезе номера id клиента."
   ]
  },
  {
   "cell_type": "code",
   "execution_count": 42,
   "id": "04d66ecc",
   "metadata": {},
   "outputs": [
    {
     "data": {
      "text/html": [
       "<div>\n",
       "<style scoped>\n",
       "    .dataframe tbody tr th:only-of-type {\n",
       "        vertical-align: middle;\n",
       "    }\n",
       "\n",
       "    .dataframe tbody tr th {\n",
       "        vertical-align: top;\n",
       "    }\n",
       "\n",
       "    .dataframe thead th {\n",
       "        text-align: right;\n",
       "    }\n",
       "</style>\n",
       "<table border=\"1\" class=\"dataframe\">\n",
       "  <thead>\n",
       "    <tr style=\"text-align: right;\">\n",
       "      <th></th>\n",
       "      <th>quantity</th>\n",
       "      <th>loyalty_program</th>\n",
       "      <th>price_per_one</th>\n",
       "      <th>total_price</th>\n",
       "    </tr>\n",
       "    <tr>\n",
       "      <th>customer_id</th>\n",
       "      <th></th>\n",
       "      <th></th>\n",
       "      <th></th>\n",
       "      <th></th>\n",
       "    </tr>\n",
       "  </thead>\n",
       "  <tbody>\n",
       "    <tr>\n",
       "      <th>0104100900</th>\n",
       "      <td>-2</td>\n",
       "      <td>0</td>\n",
       "      <td>19.89</td>\n",
       "      <td>-39.78</td>\n",
       "    </tr>\n",
       "    <tr>\n",
       "      <th>0104101200</th>\n",
       "      <td>-24</td>\n",
       "      <td>0</td>\n",
       "      <td>25.84</td>\n",
       "      <td>-294.34</td>\n",
       "    </tr>\n",
       "    <tr>\n",
       "      <th>0104101600</th>\n",
       "      <td>-2</td>\n",
       "      <td>0</td>\n",
       "      <td>19.12</td>\n",
       "      <td>-38.24</td>\n",
       "    </tr>\n",
       "    <tr>\n",
       "      <th>0104101700</th>\n",
       "      <td>-10</td>\n",
       "      <td>0</td>\n",
       "      <td>0.85</td>\n",
       "      <td>-8.50</td>\n",
       "    </tr>\n",
       "    <tr>\n",
       "      <th>0104111000</th>\n",
       "      <td>-170</td>\n",
       "      <td>0</td>\n",
       "      <td>3.20</td>\n",
       "      <td>-369.20</td>\n",
       "    </tr>\n",
       "    <tr>\n",
       "      <th>...</th>\n",
       "      <td>...</td>\n",
       "      <td>...</td>\n",
       "      <td>...</td>\n",
       "      <td>...</td>\n",
       "    </tr>\n",
       "    <tr>\n",
       "      <th>1210093500</th>\n",
       "      <td>-29</td>\n",
       "      <td>0</td>\n",
       "      <td>2.55</td>\n",
       "      <td>-73.95</td>\n",
       "    </tr>\n",
       "    <tr>\n",
       "      <th>1210120900</th>\n",
       "      <td>-146</td>\n",
       "      <td>0</td>\n",
       "      <td>5.68</td>\n",
       "      <td>-829.28</td>\n",
       "    </tr>\n",
       "    <tr>\n",
       "      <th>1214131000</th>\n",
       "      <td>-41</td>\n",
       "      <td>0</td>\n",
       "      <td>8.21</td>\n",
       "      <td>-336.61</td>\n",
       "    </tr>\n",
       "    <tr>\n",
       "      <th>1215103100</th>\n",
       "      <td>-6</td>\n",
       "      <td>0</td>\n",
       "      <td>6.36</td>\n",
       "      <td>-38.16</td>\n",
       "    </tr>\n",
       "    <tr>\n",
       "      <th>1223143400</th>\n",
       "      <td>-37</td>\n",
       "      <td>0</td>\n",
       "      <td>2.95</td>\n",
       "      <td>-109.15</td>\n",
       "    </tr>\n",
       "  </tbody>\n",
       "</table>\n",
       "<p>146 rows × 4 columns</p>\n",
       "</div>"
      ],
      "text/plain": [
       "             quantity  loyalty_program  price_per_one  total_price\n",
       "customer_id                                                       \n",
       "0104100900         -2                0          19.89       -39.78\n",
       "0104101200        -24                0          25.84      -294.34\n",
       "0104101600         -2                0          19.12       -38.24\n",
       "0104101700        -10                0           0.85        -8.50\n",
       "0104111000       -170                0           3.20      -369.20\n",
       "...               ...              ...            ...          ...\n",
       "1210093500        -29                0           2.55       -73.95\n",
       "1210120900       -146                0           5.68      -829.28\n",
       "1214131000        -41                0           8.21      -336.61\n",
       "1215103100         -6                0           6.36       -38.16\n",
       "1223143400        -37                0           2.95      -109.15\n",
       "\n",
       "[146 rows x 4 columns]"
      ]
     },
     "execution_count": 42,
     "metadata": {},
     "output_type": "execute_result"
    }
   ],
   "source": [
    "df.loc[(df['quantity'] < 0) & (df['purchase_id'].str.isnumeric())].groupby('customer_id').sum()"
   ]
  },
  {
   "cell_type": "markdown",
   "id": "9ae4da4a",
   "metadata": {},
   "source": [
    "Без префикса возвраты встречаются у неопознанных клиентов.  \n",
    "\n",
    "Для удобства дальнейшей работы. Создадим новый столбец с признаком возврата.\n"
   ]
  },
  {
   "cell_type": "code",
   "execution_count": 43,
   "id": "22763b75",
   "metadata": {},
   "outputs": [],
   "source": [
    "df['is_refund'] = False\n",
    "df.loc[df['quantity'] < 0, 'is_refund'] = True"
   ]
  },
  {
   "cell_type": "markdown",
   "id": "b365943e",
   "metadata": {},
   "source": [
    "Чтобы убедиться, точно ли отрицательные продажи, являются возвратами, мы посмотрим таблицу, где агрегированы покупки и возвраты, для каждой комбинации `customer_id-item_id`."
   ]
  },
  {
   "cell_type": "code",
   "execution_count": 44,
   "id": "58b91f74",
   "metadata": {
    "scrolled": false
   },
   "outputs": [
    {
     "name": "stdout",
     "output_type": "stream",
     "text": [
      "Количество уникального товара, всего:  2797\n",
      "Количество возвращенного уникального товара, всего:  907\n",
      "Количество комбинаций, всего:  63610\n",
      "Количество комбинаций с возвратом:  1884\n",
      "Количество комбинаций, с отрицательным остатком: 1136\n"
     ]
    },
    {
     "data": {
      "text/html": [
       "<div>\n",
       "<style scoped>\n",
       "    .dataframe tbody tr th:only-of-type {\n",
       "        vertical-align: middle;\n",
       "    }\n",
       "\n",
       "    .dataframe tbody tr th {\n",
       "        vertical-align: top;\n",
       "    }\n",
       "\n",
       "    .dataframe thead th {\n",
       "        text-align: right;\n",
       "    }\n",
       "</style>\n",
       "<table border=\"1\" class=\"dataframe\">\n",
       "  <thead>\n",
       "    <tr style=\"text-align: right;\">\n",
       "      <th></th>\n",
       "      <th>customer_id</th>\n",
       "      <th>item_id</th>\n",
       "      <th>quantity_sales</th>\n",
       "      <th>quantity_refund</th>\n",
       "      <th>difference</th>\n",
       "    </tr>\n",
       "  </thead>\n",
       "  <tbody>\n",
       "    <tr>\n",
       "      <th>0</th>\n",
       "      <td>18026</td>\n",
       "      <td>20719</td>\n",
       "      <td>9.0</td>\n",
       "      <td>0.0</td>\n",
       "      <td>9.0</td>\n",
       "    </tr>\n",
       "    <tr>\n",
       "      <th>1</th>\n",
       "      <td>18026</td>\n",
       "      <td>20780</td>\n",
       "      <td>11.0</td>\n",
       "      <td>0.0</td>\n",
       "      <td>11.0</td>\n",
       "    </tr>\n",
       "    <tr>\n",
       "      <th>2</th>\n",
       "      <td>18026</td>\n",
       "      <td>20782</td>\n",
       "      <td>5.0</td>\n",
       "      <td>0.0</td>\n",
       "      <td>5.0</td>\n",
       "    </tr>\n",
       "    <tr>\n",
       "      <th>3</th>\n",
       "      <td>18026</td>\n",
       "      <td>20966</td>\n",
       "      <td>9.0</td>\n",
       "      <td>0.0</td>\n",
       "      <td>9.0</td>\n",
       "    </tr>\n",
       "    <tr>\n",
       "      <th>4</th>\n",
       "      <td>18026</td>\n",
       "      <td>21035</td>\n",
       "      <td>5.0</td>\n",
       "      <td>0.0</td>\n",
       "      <td>5.0</td>\n",
       "    </tr>\n",
       "    <tr>\n",
       "      <th>...</th>\n",
       "      <td>...</td>\n",
       "      <td>...</td>\n",
       "      <td>...</td>\n",
       "      <td>...</td>\n",
       "      <td>...</td>\n",
       "    </tr>\n",
       "    <tr>\n",
       "      <th>63605</th>\n",
       "      <td>1214131000</td>\n",
       "      <td>85135B</td>\n",
       "      <td>0.0</td>\n",
       "      <td>-41.0</td>\n",
       "      <td>-41.0</td>\n",
       "    </tr>\n",
       "    <tr>\n",
       "      <th>63606</th>\n",
       "      <td>1215103100</td>\n",
       "      <td>21895</td>\n",
       "      <td>0.0</td>\n",
       "      <td>-6.0</td>\n",
       "      <td>-6.0</td>\n",
       "    </tr>\n",
       "    <tr>\n",
       "      <th>63607</th>\n",
       "      <td>1221163100</td>\n",
       "      <td>22720</td>\n",
       "      <td>0.0</td>\n",
       "      <td>-2.0</td>\n",
       "      <td>-2.0</td>\n",
       "    </tr>\n",
       "    <tr>\n",
       "      <th>63608</th>\n",
       "      <td>1223114800</td>\n",
       "      <td>21888</td>\n",
       "      <td>0.0</td>\n",
       "      <td>-5.0</td>\n",
       "      <td>-5.0</td>\n",
       "    </tr>\n",
       "    <tr>\n",
       "      <th>63609</th>\n",
       "      <td>1223143400</td>\n",
       "      <td>35001W</td>\n",
       "      <td>0.0</td>\n",
       "      <td>-37.0</td>\n",
       "      <td>-37.0</td>\n",
       "    </tr>\n",
       "  </tbody>\n",
       "</table>\n",
       "<p>63610 rows × 5 columns</p>\n",
       "</div>"
      ],
      "text/plain": [
       "      customer_id item_id  quantity_sales  quantity_refund  difference\n",
       "0           18026   20719             9.0              0.0         9.0\n",
       "1           18026   20780            11.0              0.0        11.0\n",
       "2           18026   20782             5.0              0.0         5.0\n",
       "3           18026   20966             9.0              0.0         9.0\n",
       "4           18026   21035             5.0              0.0         5.0\n",
       "...           ...     ...             ...              ...         ...\n",
       "63605  1214131000  85135B             0.0            -41.0       -41.0\n",
       "63606  1215103100   21895             0.0             -6.0        -6.0\n",
       "63607  1221163100   22720             0.0             -2.0        -2.0\n",
       "63608  1223114800   21888             0.0             -5.0        -5.0\n",
       "63609  1223143400  35001W             0.0            -37.0       -37.0\n",
       "\n",
       "[63610 rows x 5 columns]"
      ]
     },
     "execution_count": 44,
     "metadata": {},
     "output_type": "execute_result"
    }
   ],
   "source": [
    "df_sales = df[df['is_refund'] == 0].groupby(['customer_id', 'item_id']).agg({'quantity': 'sum'}).reset_index()\n",
    "# df_sales = df[df['quantity'] > 0].groupby(['customer_id', 'item_id']).agg({'quantity': 'sum'}).reset_index()\n",
    "df_refund = df[df['is_refund'] == 1].groupby(['customer_id', 'item_id']).agg({'quantity': 'sum'}).reset_index()\n",
    "df_sales_refund = df_sales.merge(df_refund, how='outer', on=['customer_id', 'item_id'], suffixes=['_sales', '_refund'])\n",
    "df_sales_refund = df_sales_refund.fillna(0)\n",
    "df_sales_refund['difference'] = df_sales_refund['quantity_sales'] + df_sales_refund['quantity_refund']\n",
    "\n",
    "print('Количество уникального товара, всего: ', df_sales_refund['item_id'].nunique())\n",
    "print('Количество возвращенного уникального товара, всего: ', df_sales_refund.loc[df_sales_refund['quantity_refund'] < 0,'item_id'].nunique())\n",
    "print('Количество комбинаций, всего: ', len(df_sales_refund))\n",
    "print('Количество комбинаций с возвратом: ', df_sales_refund.loc[df_sales_refund['quantity_refund'] < 0, 'item_id'].count())\n",
    "print(f\"Количество комбинаций, с отрицательным остатком: {len(df_sales_refund.loc[df_sales_refund['difference'] < 0])}\")\n",
    "df_sales_refund"
   ]
  },
  {
   "cell_type": "markdown",
   "id": "823819ec",
   "metadata": {},
   "source": [
    "Отрицательные остатки могут говорить о том, что был возвращен товар, реализация которого не попала в рассматриваемый период. Попробуем проверить эту гипотезу."
   ]
  },
  {
   "cell_type": "code",
   "execution_count": 45,
   "id": "ab3e3eb0",
   "metadata": {
    "scrolled": true
   },
   "outputs": [
    {
     "data": {
      "text/html": [
       "<div>\n",
       "<style scoped>\n",
       "    .dataframe tbody tr th:only-of-type {\n",
       "        vertical-align: middle;\n",
       "    }\n",
       "\n",
       "    .dataframe tbody tr th {\n",
       "        vertical-align: top;\n",
       "    }\n",
       "\n",
       "    .dataframe thead tr th {\n",
       "        text-align: left;\n",
       "    }\n",
       "\n",
       "    .dataframe thead tr:last-of-type th {\n",
       "        text-align: right;\n",
       "    }\n",
       "</style>\n",
       "<table border=\"1\" class=\"dataframe\">\n",
       "  <thead>\n",
       "    <tr>\n",
       "      <th></th>\n",
       "      <th colspan=\"2\" halign=\"left\">customer_id</th>\n",
       "      <th>item_id</th>\n",
       "    </tr>\n",
       "    <tr>\n",
       "      <th></th>\n",
       "      <th>count</th>\n",
       "      <th>nunique</th>\n",
       "      <th>nunique</th>\n",
       "    </tr>\n",
       "    <tr>\n",
       "      <th>date</th>\n",
       "      <th></th>\n",
       "      <th></th>\n",
       "      <th></th>\n",
       "    </tr>\n",
       "  </thead>\n",
       "  <tbody>\n",
       "    <tr>\n",
       "      <th>12.0</th>\n",
       "      <td>741</td>\n",
       "      <td>395</td>\n",
       "      <td>498</td>\n",
       "    </tr>\n",
       "    <tr>\n",
       "      <th>1.0</th>\n",
       "      <td>653</td>\n",
       "      <td>386</td>\n",
       "      <td>449</td>\n",
       "    </tr>\n",
       "    <tr>\n",
       "      <th>2.0</th>\n",
       "      <td>489</td>\n",
       "      <td>305</td>\n",
       "      <td>349</td>\n",
       "    </tr>\n",
       "  </tbody>\n",
       "</table>\n",
       "</div>"
      ],
      "text/plain": [
       "     customer_id         item_id\n",
       "           count nunique nunique\n",
       "date                            \n",
       "12.0         741     395     498\n",
       "1.0          653     386     449\n",
       "2.0          489     305     349"
      ]
     },
     "execution_count": 45,
     "metadata": {},
     "output_type": "execute_result"
    }
   ],
   "source": [
    "df_refund = df_sales_refund[df_sales_refund['quantity_refund'] < 0] #.drop('quantity_sales', axis=1)\n",
    "# df_refund = df_refund.merge(df[df['is_refund'] == True].sort_values('date')[['customer_id', 'item_id', 'date', 'quantity']], how='left', on=['customer_id', 'item_id'])\n",
    "\n",
    "df_refund.groupby(df['date'].dt.month).agg({'customer_id': ['count', 'nunique'], 'item_id': 'nunique'})\\\n",
    "                                      .sort_values(('customer_id', 'count'), ascending=False)"
   ]
  },
  {
   "cell_type": "markdown",
   "id": "76bbeea4",
   "metadata": {},
   "source": [
    "Мы видим, что как и количество возвратов, так и ассортимент номенклатуры в возвратах, падает с каждым месяцем. \n",
    "Это может говорить о том, что у нас была партия некачественного товара в прошлом. \n",
    "\n",
    "Визуализируем распределение возврата товара по датам, по номенклатуре, у которой разница в покупке минус возврат - отрицательная."
   ]
  },
  {
   "cell_type": "code",
   "execution_count": 46,
   "id": "9914064b",
   "metadata": {},
   "outputs": [],
   "source": [
    "df_refund = df_refund.merge(df[df['is_refund'] == True].sort_values('date')[['customer_id', 'item_id', 'date', 'quantity']], how='left', on=['customer_id', 'item_id'])"
   ]
  },
  {
   "cell_type": "code",
   "execution_count": 47,
   "id": "692bd817",
   "metadata": {},
   "outputs": [
    {
     "data": {
      "image/png": "[encoded data removed]",
      "text/plain": [
       "<Figure size 720x432 with 1 Axes>"
      ]
     },
     "metadata": {},
     "output_type": "display_data"
    }
   ],
   "source": [
    "plt.figure(figsize=(10,6))\n",
    "plt.hist(df_refund.loc[df_refund['quantity_refund'] != df_refund['quantity']].groupby(['customer_id', 'item_id'])['date'].first(), bins=90)\n",
    "plt.title('Распределение возвращаемого товара по датам, с отрицательным балансом')\n",
    "plt.xticks(rotation=45)\n",
    "plt.show()"
   ]
  },
  {
   "cell_type": "markdown",
   "id": "8600b9b0",
   "metadata": {},
   "source": [
    "Как видим, большая часть возвратов товара, по которым нет достаточного количества продаж или нет вообще - происходили в декабре. \n",
    "\n",
    "Можем предположить, что продажи этого товара произошли до декабря 2016 года."
   ]
  },
  {
   "cell_type": "code",
   "execution_count": 48,
   "id": "11ccc7d5",
   "metadata": {
    "scrolled": false
   },
   "outputs": [
    {
     "data": {
      "image/png": "[encoded data removed]",
      "text/plain": [
       "<Figure size 720x432 with 1 Axes>"
      ]
     },
     "metadata": {},
     "output_type": "display_data"
    }
   ],
   "source": [
    "plt.figure(figsize=(10,6))\n",
    "plt.hist(df_refund.loc[df_refund['difference'] >= 0, 'date'], bins=90)\n",
    "plt.title('Распределение возвращаемого товара по датам, с положительным балансом')\n",
    "plt.xticks(rotation=45)\n",
    "plt.show()"
   ]
  },
  {
   "cell_type": "markdown",
   "id": "f537b1fd",
   "metadata": {},
   "source": [
    "Такой товар возвращался равномерней с перерывом на рождественские каникулы."
   ]
  },
  {
   "cell_type": "markdown",
   "id": "8206f7d9",
   "metadata": {},
   "source": [
    "#### Время"
   ]
  },
  {
   "cell_type": "code",
   "execution_count": 49,
   "id": "f3dc600d",
   "metadata": {
    "scrolled": true
   },
   "outputs": [
    {
     "data": {
      "image/png": "[encoded data removed]",
      "text/plain": [
       "<Figure size 720x360 with 1 Axes>"
      ]
     },
     "metadata": {},
     "output_type": "display_data"
    }
   ],
   "source": [
    "fig = plt.figure(figsize = (10, 5))\n",
    "x = df.groupby(df['date'].dt.weekday).agg({'purchase_id': 'nunique'}, 'purchase_id').reset_index()\n",
    "plt.bar(['пн', 'вт', 'ср', 'чт', 'пт', 'сб'], x['purchase_id'])\n",
    "\n",
    "plt.title('Количество заказов по дням недели')\n",
    "plt.show()"
   ]
  },
  {
   "cell_type": "markdown",
   "id": "f8abce86",
   "metadata": {},
   "source": [
    "Воскресенье выходной. Хоть и для покупателей на площадке amazon продажа открыта круглосуточно, у менеджера и складских работников явно есть выходные."
   ]
  },
  {
   "cell_type": "code",
   "execution_count": 50,
   "id": "40397953",
   "metadata": {
    "scrolled": false
   },
   "outputs": [
    {
     "data": {
      "image/png": "[encoded data removed]",
      "text/plain": [
       "<Figure size 720x360 with 1 Axes>"
      ]
     },
     "metadata": {},
     "output_type": "display_data"
    }
   ],
   "source": [
    "fig = plt.figure(figsize = (10, 5))\n",
    "x = df.groupby(df['purchase_date'].dt.hour).agg({'purchase_id': 'nunique'}, 'purchase_id').reset_index()\n",
    "plt.bar(x['purchase_date'], x['purchase_id'])\n",
    "\n",
    "plt.title('Количество заказов по часам')\n",
    "plt.show()"
   ]
  },
  {
   "cell_type": "markdown",
   "id": "71216ff7",
   "metadata": {},
   "source": [
    "Основная работа с 8 до 17, но есть трудоголики, которые приходят пораньше и уходят попозже."
   ]
  },
  {
   "cell_type": "code",
   "execution_count": 51,
   "id": "ed4644d7",
   "metadata": {
    "scrolled": false
   },
   "outputs": [
    {
     "data": {
      "image/png": "[encoded data removed]",
      "text/plain": [
       "<Figure size 720x360 with 1 Axes>"
      ]
     },
     "metadata": {},
     "output_type": "display_data"
    }
   ],
   "source": [
    "fig = plt.figure(figsize = (10, 5))\n",
    "x = df.groupby(df['purchase_date'].dt.date).agg({'purchase_id': 'nunique'}, 'purchase_id').reset_index()\n",
    "plt.bar(x['purchase_date'], x['purchase_id'])\n",
    "\n",
    "plt.title('Количество заказов по дням')\n",
    "plt.xticks(rotation=45)\n",
    "plt.show()"
   ]
  },
  {
   "cell_type": "markdown",
   "id": "ac943b46",
   "metadata": {},
   "source": [
    "На рождественских каникулах все отдыхали."
   ]
  },
  {
   "cell_type": "markdown",
   "id": "c382bec4",
   "metadata": {},
   "source": [
    "### Изучение данных в разрезе покупателей"
   ]
  },
  {
   "cell_type": "markdown",
   "id": "68607336",
   "metadata": {},
   "source": [
    "Нам известно, что в компании есть карты лояльности. За 200 рублей в месяц можно подключиться к программе лояльности, и получать скидки, специальные предложения и подарки.  \n",
    "Проверим, есть ли пользователи, которые перешли или покинули программу лояльности."
   ]
  },
  {
   "cell_type": "code",
   "execution_count": 52,
   "id": "2457c4b4",
   "metadata": {
    "scrolled": true
   },
   "outputs": [
    {
     "name": "stdout",
     "output_type": "stream",
     "text": [
      "Количество уникальных покупателей 2241\n"
     ]
    },
    {
     "data": {
      "text/html": [
       "<div>\n",
       "<style scoped>\n",
       "    .dataframe tbody tr th:only-of-type {\n",
       "        vertical-align: middle;\n",
       "    }\n",
       "\n",
       "    .dataframe tbody tr th {\n",
       "        vertical-align: top;\n",
       "    }\n",
       "\n",
       "    .dataframe thead th {\n",
       "        text-align: right;\n",
       "    }\n",
       "</style>\n",
       "<table border=\"1\" class=\"dataframe\">\n",
       "  <thead>\n",
       "    <tr style=\"text-align: right;\">\n",
       "      <th>loyalty_program</th>\n",
       "      <th>0</th>\n",
       "      <th>1</th>\n",
       "    </tr>\n",
       "  </thead>\n",
       "  <tbody>\n",
       "    <tr>\n",
       "      <th>customer_id</th>\n",
       "      <td>1657</td>\n",
       "      <td>584</td>\n",
       "    </tr>\n",
       "  </tbody>\n",
       "</table>\n",
       "</div>"
      ],
      "text/plain": [
       "loyalty_program     0    1\n",
       "customer_id      1657  584"
      ]
     },
     "execution_count": 52,
     "metadata": {},
     "output_type": "execute_result"
    }
   ],
   "source": [
    "print('Количество уникальных покупателей', df['customer_id'].nunique())\n",
    "df.groupby('loyalty_program').agg({'customer_id': 'nunique'}).T"
   ]
  },
  {
   "cell_type": "markdown",
   "id": "dd73fac4",
   "metadata": {},
   "source": [
    "У нас нет клиентов, которые совершали покупки как с программой лояльности, так и без.\n",
    "\n",
    "Посмотрим на топ-10 клиентов по сумме покупок."
   ]
  },
  {
   "cell_type": "code",
   "execution_count": 53,
   "id": "5a38bfa3",
   "metadata": {},
   "outputs": [
    {
     "data": {
      "text/html": [
       "<div>\n",
       "<style scoped>\n",
       "    .dataframe tbody tr th:only-of-type {\n",
       "        vertical-align: middle;\n",
       "    }\n",
       "\n",
       "    .dataframe tbody tr th {\n",
       "        vertical-align: top;\n",
       "    }\n",
       "\n",
       "    .dataframe thead th {\n",
       "        text-align: right;\n",
       "    }\n",
       "</style>\n",
       "<table border=\"1\" class=\"dataframe\">\n",
       "  <thead>\n",
       "    <tr style=\"text-align: right;\">\n",
       "      <th></th>\n",
       "      <th>loyalty_program</th>\n",
       "      <th>purchase_id</th>\n",
       "      <th>total_price</th>\n",
       "    </tr>\n",
       "    <tr>\n",
       "      <th>customer_id</th>\n",
       "      <th></th>\n",
       "      <th></th>\n",
       "      <th></th>\n",
       "    </tr>\n",
       "  </thead>\n",
       "  <tbody>\n",
       "    <tr>\n",
       "      <th>20325</th>\n",
       "      <td>0</td>\n",
       "      <td>11</td>\n",
       "      <td>103772.61</td>\n",
       "    </tr>\n",
       "    <tr>\n",
       "      <th>23781</th>\n",
       "      <td>1</td>\n",
       "      <td>6</td>\n",
       "      <td>56700.38</td>\n",
       "    </tr>\n",
       "    <tr>\n",
       "      <th>18094</th>\n",
       "      <td>0</td>\n",
       "      <td>3</td>\n",
       "      <td>35754.76</td>\n",
       "    </tr>\n",
       "    <tr>\n",
       "      <th>21428</th>\n",
       "      <td>0</td>\n",
       "      <td>2</td>\n",
       "      <td>35657.79</td>\n",
       "    </tr>\n",
       "    <tr>\n",
       "      <th>20740</th>\n",
       "      <td>0</td>\n",
       "      <td>19</td>\n",
       "      <td>35442.57</td>\n",
       "    </tr>\n",
       "    <tr>\n",
       "      <th>19835</th>\n",
       "      <td>0</td>\n",
       "      <td>9</td>\n",
       "      <td>35041.72</td>\n",
       "    </tr>\n",
       "    <tr>\n",
       "      <th>23190</th>\n",
       "      <td>1</td>\n",
       "      <td>10</td>\n",
       "      <td>33315.46</td>\n",
       "    </tr>\n",
       "    <tr>\n",
       "      <th>21708</th>\n",
       "      <td>0</td>\n",
       "      <td>16</td>\n",
       "      <td>30217.51</td>\n",
       "    </tr>\n",
       "    <tr>\n",
       "      <th>19977</th>\n",
       "      <td>0</td>\n",
       "      <td>14</td>\n",
       "      <td>27748.17</td>\n",
       "    </tr>\n",
       "    <tr>\n",
       "      <th>23129</th>\n",
       "      <td>1</td>\n",
       "      <td>6</td>\n",
       "      <td>23985.98</td>\n",
       "    </tr>\n",
       "  </tbody>\n",
       "</table>\n",
       "</div>"
      ],
      "text/plain": [
       "             loyalty_program  purchase_id  total_price\n",
       "customer_id                                           \n",
       "20325                      0           11    103772.61\n",
       "23781                      1            6     56700.38\n",
       "18094                      0            3     35754.76\n",
       "21428                      0            2     35657.79\n",
       "20740                      0           19     35442.57\n",
       "19835                      0            9     35041.72\n",
       "23190                      1           10     33315.46\n",
       "21708                      0           16     30217.51\n",
       "19977                      0           14     27748.17\n",
       "23129                      1            6     23985.98"
      ]
     },
     "execution_count": 53,
     "metadata": {},
     "output_type": "execute_result"
    }
   ],
   "source": [
    "df.groupby('customer_id').agg({'loyalty_program': 'mean', 'purchase_id': 'nunique', 'total_price': 'sum'}\n",
    "                                                  ).sort_values('total_price', ascending=False).head(10)"
   ]
  },
  {
   "cell_type": "markdown",
   "id": "958e08e3",
   "metadata": {},
   "source": [
    "Самое первое место занимают обезличенные покупатели. Из программы лояльности только двое покупателей, но выводы делать рано."
   ]
  },
  {
   "cell_type": "markdown",
   "id": "05960f06",
   "metadata": {},
   "source": [
    "### Изучение данных в разрезе магазинов"
   ]
  },
  {
   "cell_type": "code",
   "execution_count": 54,
   "id": "953f6a24",
   "metadata": {},
   "outputs": [
    {
     "name": "stdout",
     "output_type": "stream",
     "text": [
      "Список магазинов: ['Shop 0' 'Shop 1' 'Shop 4' 'Shop 6' 'Shop 2' 'Shop 11' 'Shop 3' 'Shop 5'\n",
      " 'Shop 7' 'Shop 12' 'Shop 8' 'Shop 27' 'Shop 10' 'Shop 20' 'Shop 19'\n",
      " 'Shop 25' 'Shop 14' 'Shop 21' 'Shop 18' 'Shop 9' 'Shop 16' 'Shop 28'\n",
      " 'Shop 29' 'Shop 17' 'Shop 22' 'Shop 13' 'Shop 26' 'Shop 24' 'Shop 15'\n",
      " 'Shop 23' 'Shop 30']\n"
     ]
    }
   ],
   "source": [
    "print('Список магазинов:', df.shop_id.unique())"
   ]
  },
  {
   "cell_type": "code",
   "execution_count": 55,
   "id": "67082bfe",
   "metadata": {},
   "outputs": [
    {
     "data": {
      "text/html": [
       "<div>\n",
       "<style scoped>\n",
       "    .dataframe tbody tr th:only-of-type {\n",
       "        vertical-align: middle;\n",
       "    }\n",
       "\n",
       "    .dataframe tbody tr th {\n",
       "        vertical-align: top;\n",
       "    }\n",
       "\n",
       "    .dataframe thead th {\n",
       "        text-align: right;\n",
       "    }\n",
       "</style>\n",
       "<table border=\"1\" class=\"dataframe\">\n",
       "  <thead>\n",
       "    <tr style=\"text-align: right;\">\n",
       "      <th></th>\n",
       "      <th>customer_id</th>\n",
       "      <th>purchase_id</th>\n",
       "      <th>quantity</th>\n",
       "      <th>total_price</th>\n",
       "    </tr>\n",
       "    <tr>\n",
       "      <th>shop_id</th>\n",
       "      <th></th>\n",
       "      <th></th>\n",
       "      <th></th>\n",
       "      <th></th>\n",
       "    </tr>\n",
       "  </thead>\n",
       "  <tbody>\n",
       "    <tr>\n",
       "      <th>Shop 0</th>\n",
       "      <td>1829</td>\n",
       "      <td>3371</td>\n",
       "      <td>703186</td>\n",
       "      <td>1969617.15</td>\n",
       "    </tr>\n",
       "    <tr>\n",
       "      <th>Shop 3</th>\n",
       "      <td>4</td>\n",
       "      <td>13</td>\n",
       "      <td>43125</td>\n",
       "      <td>104644.23</td>\n",
       "    </tr>\n",
       "    <tr>\n",
       "      <th>Shop 6</th>\n",
       "      <td>9</td>\n",
       "      <td>37</td>\n",
       "      <td>19565</td>\n",
       "      <td>64652.95</td>\n",
       "    </tr>\n",
       "    <tr>\n",
       "      <th>Shop 4</th>\n",
       "      <td>41</td>\n",
       "      <td>79</td>\n",
       "      <td>18579</td>\n",
       "      <td>55783.80</td>\n",
       "    </tr>\n",
       "    <tr>\n",
       "      <th>Shop 1</th>\n",
       "      <td>38</td>\n",
       "      <td>70</td>\n",
       "      <td>18015</td>\n",
       "      <td>49948.13</td>\n",
       "    </tr>\n",
       "    <tr>\n",
       "      <th>Shop 2</th>\n",
       "      <td>7</td>\n",
       "      <td>17</td>\n",
       "      <td>14534</td>\n",
       "      <td>40979.14</td>\n",
       "    </tr>\n",
       "    <tr>\n",
       "      <th>Shop 14</th>\n",
       "      <td>3</td>\n",
       "      <td>4</td>\n",
       "      <td>6942</td>\n",
       "      <td>22600.18</td>\n",
       "    </tr>\n",
       "    <tr>\n",
       "      <th>Shop 8</th>\n",
       "      <td>11</td>\n",
       "      <td>16</td>\n",
       "      <td>5029</td>\n",
       "      <td>17615.65</td>\n",
       "    </tr>\n",
       "    <tr>\n",
       "      <th>Shop 7</th>\n",
       "      <td>7</td>\n",
       "      <td>10</td>\n",
       "      <td>4504</td>\n",
       "      <td>11694.27</td>\n",
       "    </tr>\n",
       "    <tr>\n",
       "      <th>Shop 19</th>\n",
       "      <td>3</td>\n",
       "      <td>5</td>\n",
       "      <td>7229</td>\n",
       "      <td>11481.07</td>\n",
       "    </tr>\n",
       "    <tr>\n",
       "      <th>Shop 10</th>\n",
       "      <td>8</td>\n",
       "      <td>12</td>\n",
       "      <td>3345</td>\n",
       "      <td>10534.18</td>\n",
       "    </tr>\n",
       "    <tr>\n",
       "      <th>Shop 12</th>\n",
       "      <td>10</td>\n",
       "      <td>16</td>\n",
       "      <td>3379</td>\n",
       "      <td>7135.33</td>\n",
       "    </tr>\n",
       "    <tr>\n",
       "      <th>Shop 18</th>\n",
       "      <td>5</td>\n",
       "      <td>6</td>\n",
       "      <td>2997</td>\n",
       "      <td>6826.03</td>\n",
       "    </tr>\n",
       "    <tr>\n",
       "      <th>Shop 5</th>\n",
       "      <td>3</td>\n",
       "      <td>4</td>\n",
       "      <td>3698</td>\n",
       "      <td>6706.08</td>\n",
       "    </tr>\n",
       "    <tr>\n",
       "      <th>Shop 11</th>\n",
       "      <td>5</td>\n",
       "      <td>6</td>\n",
       "      <td>1366</td>\n",
       "      <td>4314.25</td>\n",
       "    </tr>\n",
       "    <tr>\n",
       "      <th>Shop 24</th>\n",
       "      <td>1</td>\n",
       "      <td>1</td>\n",
       "      <td>494</td>\n",
       "      <td>4308.19</td>\n",
       "    </tr>\n",
       "    <tr>\n",
       "      <th>Shop 16</th>\n",
       "      <td>3</td>\n",
       "      <td>3</td>\n",
       "      <td>1217</td>\n",
       "      <td>3975.40</td>\n",
       "    </tr>\n",
       "    <tr>\n",
       "      <th>Shop 25</th>\n",
       "      <td>1</td>\n",
       "      <td>1</td>\n",
       "      <td>1008</td>\n",
       "      <td>3323.34</td>\n",
       "    </tr>\n",
       "    <tr>\n",
       "      <th>Shop 22</th>\n",
       "      <td>3</td>\n",
       "      <td>4</td>\n",
       "      <td>2120</td>\n",
       "      <td>3018.28</td>\n",
       "    </tr>\n",
       "    <tr>\n",
       "      <th>Shop 26</th>\n",
       "      <td>1</td>\n",
       "      <td>1</td>\n",
       "      <td>1035</td>\n",
       "      <td>2883.72</td>\n",
       "    </tr>\n",
       "    <tr>\n",
       "      <th>Shop 13</th>\n",
       "      <td>1</td>\n",
       "      <td>4</td>\n",
       "      <td>617</td>\n",
       "      <td>2496.79</td>\n",
       "    </tr>\n",
       "    <tr>\n",
       "      <th>Shop 9</th>\n",
       "      <td>2</td>\n",
       "      <td>4</td>\n",
       "      <td>664</td>\n",
       "      <td>2446.00</td>\n",
       "    </tr>\n",
       "    <tr>\n",
       "      <th>Shop 17</th>\n",
       "      <td>2</td>\n",
       "      <td>2</td>\n",
       "      <td>638</td>\n",
       "      <td>2317.17</td>\n",
       "    </tr>\n",
       "    <tr>\n",
       "      <th>Shop 27</th>\n",
       "      <td>1</td>\n",
       "      <td>1</td>\n",
       "      <td>341</td>\n",
       "      <td>2194.05</td>\n",
       "    </tr>\n",
       "    <tr>\n",
       "      <th>Shop 15</th>\n",
       "      <td>1</td>\n",
       "      <td>2</td>\n",
       "      <td>574</td>\n",
       "      <td>1805.61</td>\n",
       "    </tr>\n",
       "    <tr>\n",
       "      <th>Shop 28</th>\n",
       "      <td>1</td>\n",
       "      <td>1</td>\n",
       "      <td>466</td>\n",
       "      <td>1695.90</td>\n",
       "    </tr>\n",
       "    <tr>\n",
       "      <th>Shop 21</th>\n",
       "      <td>2</td>\n",
       "      <td>2</td>\n",
       "      <td>356</td>\n",
       "      <td>1647.97</td>\n",
       "    </tr>\n",
       "    <tr>\n",
       "      <th>Shop 20</th>\n",
       "      <td>3</td>\n",
       "      <td>3</td>\n",
       "      <td>364</td>\n",
       "      <td>1042.77</td>\n",
       "    </tr>\n",
       "    <tr>\n",
       "      <th>Shop 30</th>\n",
       "      <td>1</td>\n",
       "      <td>1</td>\n",
       "      <td>331</td>\n",
       "      <td>750.09</td>\n",
       "    </tr>\n",
       "    <tr>\n",
       "      <th>Shop 29</th>\n",
       "      <td>1</td>\n",
       "      <td>1</td>\n",
       "      <td>71</td>\n",
       "      <td>238.03</td>\n",
       "    </tr>\n",
       "    <tr>\n",
       "      <th>Shop 23</th>\n",
       "      <td>1</td>\n",
       "      <td>1</td>\n",
       "      <td>53</td>\n",
       "      <td>225.25</td>\n",
       "    </tr>\n",
       "  </tbody>\n",
       "</table>\n",
       "</div>"
      ],
      "text/plain": [
       "         customer_id  purchase_id  quantity  total_price\n",
       "shop_id                                                 \n",
       "Shop 0          1829         3371    703186   1969617.15\n",
       "Shop 3             4           13     43125    104644.23\n",
       "Shop 6             9           37     19565     64652.95\n",
       "Shop 4            41           79     18579     55783.80\n",
       "Shop 1            38           70     18015     49948.13\n",
       "Shop 2             7           17     14534     40979.14\n",
       "Shop 14            3            4      6942     22600.18\n",
       "Shop 8            11           16      5029     17615.65\n",
       "Shop 7             7           10      4504     11694.27\n",
       "Shop 19            3            5      7229     11481.07\n",
       "Shop 10            8           12      3345     10534.18\n",
       "Shop 12           10           16      3379      7135.33\n",
       "Shop 18            5            6      2997      6826.03\n",
       "Shop 5             3            4      3698      6706.08\n",
       "Shop 11            5            6      1366      4314.25\n",
       "Shop 24            1            1       494      4308.19\n",
       "Shop 16            3            3      1217      3975.40\n",
       "Shop 25            1            1      1008      3323.34\n",
       "Shop 22            3            4      2120      3018.28\n",
       "Shop 26            1            1      1035      2883.72\n",
       "Shop 13            1            4       617      2496.79\n",
       "Shop 9             2            4       664      2446.00\n",
       "Shop 17            2            2       638      2317.17\n",
       "Shop 27            1            1       341      2194.05\n",
       "Shop 15            1            2       574      1805.61\n",
       "Shop 28            1            1       466      1695.90\n",
       "Shop 21            2            2       356      1647.97\n",
       "Shop 20            3            3       364      1042.77\n",
       "Shop 30            1            1       331       750.09\n",
       "Shop 29            1            1        71       238.03\n",
       "Shop 23            1            1        53       225.25"
      ]
     },
     "execution_count": 55,
     "metadata": {},
     "output_type": "execute_result"
    }
   ],
   "source": [
    "df[df.is_refund == 0].groupby('shop_id').agg(\n",
    "                            {'customer_id': 'nunique', 'purchase_id': 'nunique',\n",
    "                            'quantity': 'sum', 'total_price': 'sum'}\n",
    "                            ).sort_values('total_price', ascending=False)"
   ]
  },
  {
   "cell_type": "markdown",
   "id": "c88176eb",
   "metadata": {},
   "source": [
    "Большая часть продаж происходит в магазине 0. В двух третях магазинов меньше 10 продаж за три месяца. Не думаю, что речь идет о физических магазинах. Скорее всего наш основной магазин - Shop 0, а остальные это пункты выдачи. На это указывает также соотношение уникальных клиентов к заказам. Например, в магазине Shop 6 на 4 клиентов приходится 37 заказов."
   ]
  },
  {
   "cell_type": "markdown",
   "id": "9dae7db2",
   "metadata": {},
   "source": [
    "## Анализ программы лояльности"
   ]
  },
  {
   "cell_type": "markdown",
   "id": "7bd5591e",
   "metadata": {},
   "source": [
    "### Сравнение покупателей"
   ]
  },
  {
   "cell_type": "markdown",
   "id": "0e27359e",
   "metadata": {},
   "source": [
    "#### Средний чек"
   ]
  },
  {
   "cell_type": "markdown",
   "id": "17ca7bef",
   "metadata": {},
   "source": [
    "Сравним как изменяется по дням средний чек у покупателей участвующих в программе лояльности и вне её. Создадим две таблицы с кумулятивными данными"
   ]
  },
  {
   "cell_type": "code",
   "execution_count": 56,
   "id": "7afa943c",
   "metadata": {},
   "outputs": [],
   "source": [
    "df_loyalty_0 = (df.loc[df['loyalty_program'] == 0].groupby('date', sort=True)\\\n",
    "                    .agg({'purchase_id' : 'nunique', 'total_price' : 'sum'})\n",
    "                    .sort_values(by=['date']).cumsum().reset_index()\n",
    "                    .rename(columns={'total_price':'total_income', 'purchase_id': 'purchase_count'}))\n",
    "\n",
    "df_loyalty_1 = (df.loc[df['loyalty_program'] == 1].groupby('date', sort=True)\\\n",
    "                    .agg({'purchase_id' : 'nunique', 'total_price' : 'sum'})\n",
    "                    .sort_values(by=['date']).cumsum().reset_index()\n",
    "                    .rename(columns={'total_price':'total_income', 'purchase_id': 'purchase_count'}))\n",
    "\n",
    "df_loyalty_0['avg_purchase'] = df_loyalty_0['total_income'] / df_loyalty_0['purchase_count']\n",
    "df_loyalty_1['avg_purchase'] = df_loyalty_1['total_income'] / df_loyalty_1['purchase_count']"
   ]
  },
  {
   "cell_type": "markdown",
   "id": "aa4f40ae",
   "metadata": {},
   "source": [
    "Построим график."
   ]
  },
  {
   "cell_type": "code",
   "execution_count": 57,
   "id": "3105669a",
   "metadata": {
    "scrolled": true
   },
   "outputs": [
    {
     "data": {
      "image/png": "[encoded data removed]",
      "text/plain": [
       "<Figure size 1080x360 with 1 Axes>"
      ]
     },
     "metadata": {},
     "output_type": "display_data"
    }
   ],
   "source": [
    "plt.figure(figsize=(15, 5))\n",
    "plt.title(\"Кумулятивный средний заказ по дням в программе лояльности и вне ее\")\n",
    "plt.plot(df_loyalty_0['date'], df_loyalty_0['avg_purchase'], \n",
    "         label='Обычные продажи')\n",
    "plt.plot(df_loyalty_1['date'], df_loyalty_1['avg_purchase'], \n",
    "         label='Программа лояльности')\n",
    "plt.legend()\n",
    "plt.xlabel('Дата', fontsize=10)\n",
    "plt.ylabel('Сумма продаж', fontsize=10)\n",
    "plt.show()"
   ]
  },
  {
   "cell_type": "markdown",
   "id": "02b5bcbc",
   "metadata": {},
   "source": [
    "**Промежуточный вывод**  \n",
    "- В начале декабря, мы можем увидеть, что чек у участников программы лояльности был выше, но потом он стабилизировался и стал меньше, чем у обычных покупателей. \n",
    "- Каждую первую половину месяца наблюдается плавный рост среднего чека по программе лояльности, возможно, рост связан с проводимыми акциями на товары.\n",
    "- Кумулятивный средний чек к концу февраля: у обычных покупателей - 500 руб., по программе лояльности 450 руб."
   ]
  },
  {
   "cell_type": "markdown",
   "id": "e07c2797",
   "metadata": {},
   "source": [
    "#### Количество заказов"
   ]
  },
  {
   "cell_type": "code",
   "execution_count": 58,
   "id": "2921b632",
   "metadata": {
    "scrolled": true
   },
   "outputs": [
    {
     "data": {
      "image/png": "[encoded data removed]",
      "text/plain": [
       "<Figure size 1080x360 with 1 Axes>"
      ]
     },
     "metadata": {},
     "output_type": "display_data"
    }
   ],
   "source": [
    "df_loyalty_0 = df_loyalty_0.reset_index()\n",
    "df_loyalty_1 = df_loyalty_1.reset_index()\n",
    "\n",
    "plt.figure(figsize=(15, 5))\n",
    "plt.title(\"Кумулятивное количество заказов по дням в программе лояльности и вне ее\")\n",
    "plt.plot(df_loyalty_0['date'], df_loyalty_0['purchase_count'] / (df_loyalty_0['index'] + 1), \n",
    "         label='Обычные продажи')\n",
    "plt.plot(df_loyalty_1['date'], df_loyalty_1['purchase_count'] / (df_loyalty_0['index'] + 1), \n",
    "         label='Программа лояльности')\n",
    "plt.legend()\n",
    "plt.xlabel('Дата', fontsize=10)\n",
    "plt.ylabel('Количество продаж', fontsize=10)\n",
    "plt.show()"
   ]
  },
  {
   "cell_type": "markdown",
   "id": "1e1e7052",
   "metadata": {},
   "source": [
    "**Промежуточный вывод**  \n",
    "- Количество заказов в обычных продажах стабильно выше, но даже к концу третьего месяца у обычных продаж есть тренд на падение.\n",
    "- На декабрь среднее количество заказов у обычных покупателей 50, по программе лояльности 20."
   ]
  },
  {
   "cell_type": "code",
   "execution_count": 59,
   "id": "34fe5340",
   "metadata": {
    "scrolled": true
   },
   "outputs": [
    {
     "data": {
      "image/png": "[encoded data removed]",
      "text/plain": [
       "<Figure size 1080x360 with 1 Axes>"
      ]
     },
     "metadata": {},
     "output_type": "display_data"
    }
   ],
   "source": [
    "plt.figure(figsize=(15, 5))\n",
    "plt.title(\"Распредение заказов по дням\")\n",
    "sns.kdeplot(data=df, x=df['date'], hue=\"loyalty_program\", multiple=\"stack\")\n",
    "plt.legend(['Программа лояльности', 'Обычные продажи'])\n",
    "plt.xlabel('Дата', fontsize=10)\n",
    "plt.ylabel('Распределение', fontsize=10)\n",
    "plt.show()"
   ]
  },
  {
   "cell_type": "markdown",
   "id": "aeb8a0ff",
   "metadata": {},
   "source": [
    "**Промежуточный вывод**  \n",
    "- В декабре был пик продаж у обеих категорий покупателей, это может быть связано с планами закупиться материалами перед рождественскими каникулами, или проводимыми акциями.\n",
    "- В целом по программе лояльности покупатели стабильно закупаются в течении всего периода."
   ]
  },
  {
   "cell_type": "markdown",
   "id": "05bccc51",
   "metadata": {},
   "source": [
    "#### Товарное разнообразие"
   ]
  },
  {
   "cell_type": "code",
   "execution_count": 60,
   "id": "90acd746",
   "metadata": {},
   "outputs": [],
   "source": [
    "list_of_dates = df[['date']].drop_duplicates().sort_values(by = 'date')\n",
    "\n",
    "# получим агрегированные кумулятивные по дням данные о заказах\n",
    "items_count_loyalty_0 = (list_of_dates.apply(lambda x: df[np.logical_and(df['date'] <= x['date'], df['loyalty_program'] == 0)]\\\n",
    ".agg({'date' : 'max', 'item_id' : 'nunique'}), axis=1)\n",
    ".sort_values(by=['date']))\n",
    "\n",
    "items_count_loyalty_1 = (list_of_dates.apply(lambda x: df[np.logical_and(df['date'] <= x['date'], df['loyalty_program'] == 1)]\\\n",
    ".agg({'date' : 'max', 'item_id' : 'nunique'}), axis=1)\n",
    ".sort_values(by=['date']))\n"
   ]
  },
  {
   "cell_type": "code",
   "execution_count": 61,
   "id": "d33d2d4b",
   "metadata": {
    "scrolled": true
   },
   "outputs": [
    {
     "data": {
      "image/png": "[encoded data removed]",
      "text/plain": [
       "<Figure size 1080x360 with 1 Axes>"
      ]
     },
     "metadata": {},
     "output_type": "display_data"
    }
   ],
   "source": [
    "plt.figure(figsize=(15, 5))\n",
    "plt.title(\"Кумулятивное количество проданных уникальных товаров по дням в программе лояльности и вне ее\")\n",
    "plt.plot(items_count_loyalty_0['date'], items_count_loyalty_0['item_id'], \n",
    "         label='Обычные продажи')\n",
    "plt.plot(items_count_loyalty_1['date'], items_count_loyalty_1['item_id'], \n",
    "         label='Программа лояльности')\n",
    "plt.legend()\n",
    "plt.xlabel('Дата', fontsize=10)\n",
    "plt.ylabel('Количество уникальных товаров', fontsize=10)\n",
    "plt.show()"
   ]
  },
  {
   "cell_type": "markdown",
   "id": "b0d73bdb",
   "metadata": {},
   "source": [
    "**Промежуточный вывод**  \n",
    "- У обычных покупателей видно большее разнообразие в приобретенном товарном ассортименте, но в целом рост у обеих групп одинаковый, и разница может быть связана с тем, что в программе лояльности участвует меньше покупателей.\n",
    "- Однако, в программе лояльности нет никаких скачков. Покупателей сложно уговорить на ненужный им ламинат по акции, когда им нужны доски. "
   ]
  },
  {
   "cell_type": "markdown",
   "id": "b310bb17",
   "metadata": {},
   "source": [
    "#### Оптовые или розничные продажи"
   ]
  },
  {
   "cell_type": "markdown",
   "id": "edcbaa7e",
   "metadata": {},
   "source": [
    "Оптовые продажи - это как правило продажа юридическим лицам, с дальнейшей перепродажей физическим лицам. Но мы можем предположить, что продажа юридическим лицам объемней. Посмотрим на количество строк в заказе по квантилям."
   ]
  },
  {
   "cell_type": "code",
   "execution_count": 62,
   "id": "c4c1b5dd",
   "metadata": {
    "scrolled": true
   },
   "outputs": [],
   "source": [
    "df_wholesale = df[df['is_refund'] == False].groupby('purchase_id').agg({'loyalty_program': 'mean', \n",
    "                                                         'item_id': 'count', \n",
    "                                                         'total_price': 'sum'}).reset_index()\\\n",
    "                            .rename(columns={'item_id':'row_count'})"
   ]
  },
  {
   "cell_type": "markdown",
   "id": "c012c1b7",
   "metadata": {},
   "source": [
    "Посмотрим сколько строк в заказе в среднем у покупателей.    "
   ]
  },
  {
   "cell_type": "code",
   "execution_count": 63,
   "id": "aecca678",
   "metadata": {},
   "outputs": [
    {
     "name": "stdout",
     "output_type": "stream",
     "text": [
      "Обычные продажи, 50 квантиль: 12.0\n",
      "Программа лояльности, 50 квантиль: 12.0\n"
     ]
    }
   ],
   "source": [
    "print('Обычные продажи, 50 квантиль:', df_wholesale.loc[df_wholesale['loyalty_program'] == 0, 'row_count'].quantile(0.5))\n",
    "print('Программа лояльности, 50 квантиль:', df_wholesale.loc[df_wholesale['loyalty_program'] == 1, 'row_count'].quantile(0.5))"
   ]
  },
  {
   "cell_type": "markdown",
   "id": "e6112ef8",
   "metadata": {},
   "source": [
    "И сколько у 95-го квантиля."
   ]
  },
  {
   "cell_type": "code",
   "execution_count": 64,
   "id": "cedb6586",
   "metadata": {
    "scrolled": true
   },
   "outputs": [
    {
     "name": "stdout",
     "output_type": "stream",
     "text": [
      "Обычные продажи, 95 квантиль: 58.0\n",
      "Программа лояльности, 95 квантиль: 42.0\n"
     ]
    }
   ],
   "source": [
    "print('Обычные продажи, 95 квантиль:',df_wholesale.loc[df_wholesale['loyalty_program'] == 0, 'row_count'].quantile(0.95))\n",
    "print('Программа лояльности, 95 квантиль:', df_wholesale.loc[df_wholesale['loyalty_program'] == 1, 'row_count'].quantile(0.95))"
   ]
  },
  {
   "cell_type": "markdown",
   "id": "44d88377",
   "metadata": {},
   "source": [
    "Визуализируем распределение заказов по количеству строк в заказе."
   ]
  },
  {
   "cell_type": "code",
   "execution_count": 65,
   "id": "afdf8507",
   "metadata": {
    "scrolled": false
   },
   "outputs": [
    {
     "data": {
      "image/png": "[encoded data removed]",
      "text/plain": [
       "<Figure size 504x504 with 1 Axes>"
      ]
     },
     "metadata": {},
     "output_type": "display_data"
    }
   ],
   "source": [
    "sns.displot(data=df_wholesale.loc[df_wholesale['row_count'] > 42], \n",
    "            x='row_count', hue='loyalty_program', \n",
    "            kde=True, height=7, legend=False)\n",
    "\n",
    "plt.legend(['Программа лояльности', 'Обычные продажи'])\n",
    "plt.title('Распределение продаж с количеством строк в заказе больше 50', fontsize=13)\n",
    "plt.xlabel('Количество строк в заказе', fontsize=12)\n",
    "plt.ylabel('Количество заказов', fontsize=12)\n",
    "plt.show()"
   ]
  },
  {
   "cell_type": "code",
   "execution_count": 66,
   "id": "a922bedb",
   "metadata": {},
   "outputs": [
    {
     "data": {
      "image/png": "[encoded data removed]",
      "text/plain": [
       "<Figure size 504x504 with 1 Axes>"
      ]
     },
     "metadata": {},
     "output_type": "display_data"
    }
   ],
   "source": [
    "sns.displot(data=df_wholesale.loc[df_wholesale['row_count'] < 42], \n",
    "            x='row_count', hue='loyalty_program', \n",
    "            kde=True, height=7, legend=False)\n",
    "\n",
    "plt.legend(['Программа лояльности', 'Обычные продажи'])\n",
    "plt.title('Распределение продаж с количеством строк в заказе больше 50', fontsize=13)\n",
    "plt.xlabel('Количество строк в заказе', fontsize=12)\n",
    "plt.ylabel('Количество заказов', fontsize=12)\n",
    "plt.show()"
   ]
  },
  {
   "cell_type": "markdown",
   "id": "a4680d5a",
   "metadata": {},
   "source": [
    "**Промежуточный вывод**  \n",
    "- Самые объемные закупки происходят без участия в программе лояльности, что странно возможно наша программа лояльности не рассчитана на юридические лица. "
   ]
  },
  {
   "cell_type": "markdown",
   "id": "312a83aa",
   "metadata": {},
   "source": [
    "### Проблема возвратов"
   ]
  },
  {
   "cell_type": "markdown",
   "id": "8cc0a5a5",
   "metadata": {},
   "source": [
    "Можно продавать товары миллионами, но это не имеет никакого смысла, если большую часть товара тебе вернут обратно.\n",
    "\n",
    "Мы рассматривали данные, учитывая и продажи, и возвраты. \n",
    "\n",
    "Возвраты в онлайн магазинах как правило выше, чем у офлайн магазинов. Возможные причины возврата: брак, товар не соответствует описанию, просто не понравился товар, слишком долго шел товар.\n",
    "\n",
    "Факт, что возвратов в нашем магазине много, выявить причины возвратов не представляется возможным. Но мы можем посмотреть на показатели без возвратов."
   ]
  },
  {
   "cell_type": "code",
   "execution_count": 67,
   "id": "517816f2",
   "metadata": {},
   "outputs": [],
   "source": [
    "df_sales = df.loc[df['is_refund'] == 0]\n",
    "df_loyalty_0 = (df_sales.loc[df_sales['loyalty_program'] == 0].groupby('date', sort=True)\\\n",
    "                    .agg({'purchase_id' : 'nunique', 'total_price' : 'sum'})\n",
    "                    .sort_values(by=['date']).cumsum().reset_index()\n",
    "                    .rename(columns={'total_price':'total_income', 'purchase_id': 'purchase_count'}))\n",
    "\n",
    "df_loyalty_1 = (df_sales.loc[df_sales['loyalty_program'] == 1].groupby('date', sort=True)\\\n",
    "                    .agg({'purchase_id' : 'nunique', 'total_price' : 'sum'})\n",
    "                    .sort_values(by=['date']).cumsum().reset_index()\n",
    "                    .rename(columns={'total_price':'total_income', 'purchase_id': 'purchase_count'}))\n",
    "\n",
    "df_loyalty_0['avg_purchase'] = df_loyalty_0['total_income'] / df_loyalty_0['purchase_count']\n",
    "df_loyalty_1['avg_purchase'] = df_loyalty_1['total_income'] / df_loyalty_1['purchase_count']"
   ]
  },
  {
   "cell_type": "code",
   "execution_count": 68,
   "id": "6e28ec50",
   "metadata": {},
   "outputs": [
    {
     "data": {
      "image/png": "[encoded data removed]",
      "text/plain": [
       "<Figure size 1080x360 with 1 Axes>"
      ]
     },
     "metadata": {},
     "output_type": "display_data"
    }
   ],
   "source": [
    "plt.figure(figsize=(15, 5))\n",
    "plt.title(\"Кумулятивный средний заказ по дням в программе лояльности и вне ее (без возвратов)\")\n",
    "plt.plot(df_loyalty_0['date'], df_loyalty_0['avg_purchase'], \n",
    "         label='Обычные продажи')\n",
    "plt.plot(df_loyalty_1['date'], df_loyalty_1['avg_purchase'], \n",
    "         label='Программа лояльности')\n",
    "plt.legend()\n",
    "plt.xlabel('Дата', fontsize=10)\n",
    "plt.ylabel('Сумма продаж', fontsize=10)\n",
    "plt.show()"
   ]
  },
  {
   "cell_type": "markdown",
   "id": "b0453591",
   "metadata": {},
   "source": [
    "**Промежуточный вывод**  \n",
    "- Средний заказ в обычных продажах без учета возвратов - выше 700 руб., против 500 руб.\n",
    "- Средний заказ в программе лояльности без учета возвратов - выше 550 руб., против 450 руб."
   ]
  },
  {
   "cell_type": "code",
   "execution_count": 69,
   "id": "c371bd77",
   "metadata": {},
   "outputs": [
    {
     "data": {
      "image/png": "[encoded data removed]",
      "text/plain": [
       "<Figure size 1080x360 with 1 Axes>"
      ]
     },
     "metadata": {},
     "output_type": "display_data"
    }
   ],
   "source": [
    "df_loyalty_0 = df_loyalty_0.reset_index()\n",
    "df_loyalty_1 = df_loyalty_1.reset_index()\n",
    "\n",
    "plt.figure(figsize=(15, 5))\n",
    "plt.title(\"Кумулятивное количество заказов по дням в программе лояльности и вне ее (без возвратов)\")\n",
    "plt.plot(df_loyalty_0['date'], df_loyalty_0['purchase_count'] / (df_loyalty_0['index'] + 1), \n",
    "         label='Обычные продажи')\n",
    "plt.plot(df_loyalty_1['date'], df_loyalty_1['purchase_count'] / (df_loyalty_0['index'] + 1), \n",
    "         label='Программа лояльности')\n",
    "plt.legend()\n",
    "plt.xlabel('Дата', fontsize=10)\n",
    "plt.ylabel('Количество продаж', fontsize=10)\n",
    "plt.show()"
   ]
  },
  {
   "cell_type": "markdown",
   "id": "6ec13fb5",
   "metadata": {},
   "source": [
    "**Промежуточный вывод**  \n",
    "- Количество заказов у обычных покупателей - 38\n",
    "- Количество заказов в программе лояльности - 10"
   ]
  },
  {
   "cell_type": "markdown",
   "id": "0f7411d3",
   "metadata": {},
   "source": [
    "### LTV"
   ]
  },
  {
   "cell_type": "markdown",
   "id": "ab92aeed",
   "metadata": {},
   "source": [
    "Построим функцию для расчета LTV."
   ]
  },
  {
   "cell_type": "code",
   "execution_count": 70,
   "id": "b77cf814",
   "metadata": {},
   "outputs": [],
   "source": [
    "def get_ltv(\n",
    "    profiles,\n",
    "    purchases,\n",
    "    observation_date,\n",
    "    horizon_days,\n",
    "    dimensions=[],\n",
    "    ignore_horizon=False,\n",
    "):\n",
    "\n",
    "    # исключаем пользователей, не «доживших» до горизонта анализа\n",
    "    last_suitable_acquisition_date = observation_date\n",
    "    if not ignore_horizon:\n",
    "        last_suitable_acquisition_date = observation_date - timedelta(\n",
    "            days=horizon_days - 1\n",
    "        )\n",
    "    result_raw = profiles.query('dt <= @last_suitable_acquisition_date')\n",
    "\n",
    "    # добавляем данные о выручке в профили\n",
    "    result_raw = result_raw.merge(\n",
    "        purchases[['user_id', 'event_dt', 'revenue']],\n",
    "        on='user_id',\n",
    "        how='left',\n",
    "    )\n",
    "\n",
    "    # вычисляем лайфтайм для каждой покупки\n",
    "    result_raw['lifetime'] = (\n",
    "        result_raw['event_dt'] - result_raw['first_ts']\n",
    "    ).dt.days\n",
    "\n",
    "    # группируем по cohort, если в dimensions ничего нет\n",
    "    if len(dimensions) == 0:\n",
    "        result_raw['cohort'] = 'All users'\n",
    "        dimensions = dimensions + ['cohort']\n",
    "\n",
    "    def group_by_dimensions(df, dims, horizon_days):\n",
    "        # строим «треугольную» таблицу выручки\n",
    "        result = df.pivot_table(\n",
    "            index=dims,\n",
    "            columns='lifetime',\n",
    "            values='revenue',\n",
    "            aggfunc='sum',\n",
    "        )\n",
    "        # считаем сумму выручки с накоплением\n",
    "        result = result.fillna(0).cumsum(axis=1)\n",
    "        # вычисляем размеры когорт\n",
    "        cohort_sizes = (\n",
    "            df.groupby(dims)\n",
    "            .agg({'user_id': 'nunique'})\n",
    "            .rename(columns={'user_id': 'cohort_size'})\n",
    "        )\n",
    "        # объединяем размеры когорт и таблицу выручки\n",
    "        result = cohort_sizes.merge(result, on=dims, how='left').fillna(0)\n",
    "        # считаем LTV:\n",
    "        # делим каждую «ячейку» в строке на размер когорты\n",
    "        result = result.div(result['cohort_size'], axis=0)\n",
    "        # исключаем все лайфтаймы, превышающие горизонт анализа\n",
    "        result = result[['cohort_size'] + list(range(horizon_days))]\n",
    "        # восстанавливаем размеры когорт\n",
    "        result['cohort_size'] = cohort_sizes\n",
    "        return result\n",
    "\n",
    "    # получаем таблицу LTV\n",
    "    result_grouped = group_by_dimensions(result_raw, dimensions, horizon_days)\n",
    "\n",
    "    # для таблицы динамики конверсии убираем 'cohort' из dimensions\n",
    "    if 'cohort' in dimensions:\n",
    "        dimensions = []\n",
    "    # получаем таблицу динамики LTV\n",
    "    result_in_time = group_by_dimensions(\n",
    "        result_raw, dimensions + ['dt'], horizon_days\n",
    "    )\n",
    "\n",
    "    # возвращаем обе таблицы LTV и сырые данные\n",
    "    return result_raw, result_grouped, result_in_time"
   ]
  },
  {
   "cell_type": "code",
   "execution_count": 71,
   "id": "ea6cc5bb",
   "metadata": {},
   "outputs": [],
   "source": [
    "profiles = df[df['is_refund'] == 0].groupby(['customer_id', 'purchase_date', 'loyalty_program', 'date'])\\\n",
    "            .agg({'total_price': 'sum'}).reset_index()\\\n",
    "            .rename(columns={'customer_id':'user_id', 'purchase_date': 'first_ts', 'date': 'dt'})\n",
    "orders = df[df['is_refund'] == 0].groupby(['customer_id', 'purchase_id', 'purchase_date'])\\\n",
    "                            .agg({'total_price': 'sum'}).reset_index()\\\n",
    "                            .rename(columns={'customer_id':'user_id', 'purchase_date': 'event_dt', 'total_price': 'revenue'})"
   ]
  },
  {
   "cell_type": "code",
   "execution_count": 72,
   "id": "8c2fbb05",
   "metadata": {
    "scrolled": true
   },
   "outputs": [
    {
     "data": {
      "image/png": "[encoded data removed]",
      "text/plain": [
       "<Figure size 1224x360 with 1 Axes>"
      ]
     },
     "metadata": {},
     "output_type": "display_data"
    }
   ],
   "source": [
    "ltv_raw, ltv, ltv_history = get_ltv(\n",
    "    profiles, orders, datetime(2017, 2, 28).date(), 60, dimensions=['loyalty_program']\n",
    ")\n",
    "\n",
    "report = ltv.drop(columns=['cohort_size'])\n",
    "report.T.plot(grid=True, figsize=(17, 5), xticks=list(report.columns.values))\n",
    "plt.title('LTV с разбивкой по программе лояльности')\n",
    "plt.ylabel('LTV')\n",
    "plt.xlabel('Лайфтайм')\n",
    "plt.show()"
   ]
  },
  {
   "cell_type": "markdown",
   "id": "e7968354",
   "metadata": {},
   "source": [
    "**Промежуточный вывод**  \n",
    "- Разница в LTV к концу второго месяца - практически 1000 руб., в пользу обычных покупателей. \n",
    "- Наблюдаются небольшие скачки в программе лояльности на 33 и 48 день."
   ]
  },
  {
   "cell_type": "code",
   "execution_count": 73,
   "id": "2810ecc7",
   "metadata": {},
   "outputs": [
    {
     "data": {
      "text/html": [
       "<div>\n",
       "<style scoped>\n",
       "    .dataframe tbody tr th:only-of-type {\n",
       "        vertical-align: middle;\n",
       "    }\n",
       "\n",
       "    .dataframe tbody tr th {\n",
       "        vertical-align: top;\n",
       "    }\n",
       "\n",
       "    .dataframe thead th {\n",
       "        text-align: right;\n",
       "    }\n",
       "</style>\n",
       "<table border=\"1\" class=\"dataframe\">\n",
       "  <thead>\n",
       "    <tr style=\"text-align: right;\">\n",
       "      <th></th>\n",
       "      <th>shop_id</th>\n",
       "      <th>loyalty_program</th>\n",
       "      <th>customer_id</th>\n",
       "      <th>total_price</th>\n",
       "      <th>arpu</th>\n",
       "    </tr>\n",
       "  </thead>\n",
       "  <tbody>\n",
       "    <tr>\n",
       "      <th>25</th>\n",
       "      <td>Shop 3</td>\n",
       "      <td>0</td>\n",
       "      <td>4</td>\n",
       "      <td>104644.23</td>\n",
       "      <td>26161.057500</td>\n",
       "    </tr>\n",
       "    <tr>\n",
       "      <th>13</th>\n",
       "      <td>Shop 19</td>\n",
       "      <td>1</td>\n",
       "      <td>1</td>\n",
       "      <td>10202.06</td>\n",
       "      <td>10202.060000</td>\n",
       "    </tr>\n",
       "    <tr>\n",
       "      <th>7</th>\n",
       "      <td>Shop 14</td>\n",
       "      <td>0</td>\n",
       "      <td>3</td>\n",
       "      <td>22600.18</td>\n",
       "      <td>7533.393333</td>\n",
       "    </tr>\n",
       "    <tr>\n",
       "      <th>29</th>\n",
       "      <td>Shop 6</td>\n",
       "      <td>0</td>\n",
       "      <td>9</td>\n",
       "      <td>64652.95</td>\n",
       "      <td>7183.661111</td>\n",
       "    </tr>\n",
       "    <tr>\n",
       "      <th>14</th>\n",
       "      <td>Shop 2</td>\n",
       "      <td>0</td>\n",
       "      <td>7</td>\n",
       "      <td>40979.14</td>\n",
       "      <td>5854.162857</td>\n",
       "    </tr>\n",
       "    <tr>\n",
       "      <th>19</th>\n",
       "      <td>Shop 24</td>\n",
       "      <td>0</td>\n",
       "      <td>1</td>\n",
       "      <td>4308.19</td>\n",
       "      <td>4308.190000</td>\n",
       "    </tr>\n",
       "    <tr>\n",
       "      <th>20</th>\n",
       "      <td>Shop 25</td>\n",
       "      <td>0</td>\n",
       "      <td>1</td>\n",
       "      <td>3323.34</td>\n",
       "      <td>3323.340000</td>\n",
       "    </tr>\n",
       "    <tr>\n",
       "      <th>21</th>\n",
       "      <td>Shop 26</td>\n",
       "      <td>0</td>\n",
       "      <td>1</td>\n",
       "      <td>2883.72</td>\n",
       "      <td>2883.720000</td>\n",
       "    </tr>\n",
       "    <tr>\n",
       "      <th>6</th>\n",
       "      <td>Shop 13</td>\n",
       "      <td>0</td>\n",
       "      <td>1</td>\n",
       "      <td>2496.79</td>\n",
       "      <td>2496.790000</td>\n",
       "    </tr>\n",
       "    <tr>\n",
       "      <th>28</th>\n",
       "      <td>Shop 5</td>\n",
       "      <td>0</td>\n",
       "      <td>3</td>\n",
       "      <td>6706.08</td>\n",
       "      <td>2235.360000</td>\n",
       "    </tr>\n",
       "    <tr>\n",
       "      <th>22</th>\n",
       "      <td>Shop 27</td>\n",
       "      <td>0</td>\n",
       "      <td>1</td>\n",
       "      <td>2194.05</td>\n",
       "      <td>2194.050000</td>\n",
       "    </tr>\n",
       "    <tr>\n",
       "      <th>8</th>\n",
       "      <td>Shop 15</td>\n",
       "      <td>0</td>\n",
       "      <td>1</td>\n",
       "      <td>1805.61</td>\n",
       "      <td>1805.610000</td>\n",
       "    </tr>\n",
       "    <tr>\n",
       "      <th>31</th>\n",
       "      <td>Shop 8</td>\n",
       "      <td>0</td>\n",
       "      <td>10</td>\n",
       "      <td>17355.92</td>\n",
       "      <td>1735.592000</td>\n",
       "    </tr>\n",
       "    <tr>\n",
       "      <th>23</th>\n",
       "      <td>Shop 28</td>\n",
       "      <td>1</td>\n",
       "      <td>1</td>\n",
       "      <td>1695.90</td>\n",
       "      <td>1695.900000</td>\n",
       "    </tr>\n",
       "    <tr>\n",
       "      <th>30</th>\n",
       "      <td>Shop 7</td>\n",
       "      <td>0</td>\n",
       "      <td>7</td>\n",
       "      <td>11694.27</td>\n",
       "      <td>1670.610000</td>\n",
       "    </tr>\n",
       "    <tr>\n",
       "      <th>11</th>\n",
       "      <td>Shop 18</td>\n",
       "      <td>0</td>\n",
       "      <td>5</td>\n",
       "      <td>6826.03</td>\n",
       "      <td>1365.206000</td>\n",
       "    </tr>\n",
       "    <tr>\n",
       "      <th>27</th>\n",
       "      <td>Shop 4</td>\n",
       "      <td>0</td>\n",
       "      <td>41</td>\n",
       "      <td>55783.80</td>\n",
       "      <td>1360.580488</td>\n",
       "    </tr>\n",
       "    <tr>\n",
       "      <th>9</th>\n",
       "      <td>Shop 16</td>\n",
       "      <td>0</td>\n",
       "      <td>3</td>\n",
       "      <td>3975.40</td>\n",
       "      <td>1325.133333</td>\n",
       "    </tr>\n",
       "    <tr>\n",
       "      <th>3</th>\n",
       "      <td>Shop 10</td>\n",
       "      <td>0</td>\n",
       "      <td>8</td>\n",
       "      <td>10534.18</td>\n",
       "      <td>1316.772500</td>\n",
       "    </tr>\n",
       "    <tr>\n",
       "      <th>2</th>\n",
       "      <td>Shop 1</td>\n",
       "      <td>0</td>\n",
       "      <td>38</td>\n",
       "      <td>49948.13</td>\n",
       "      <td>1314.424474</td>\n",
       "    </tr>\n",
       "    <tr>\n",
       "      <th>33</th>\n",
       "      <td>Shop 9</td>\n",
       "      <td>0</td>\n",
       "      <td>2</td>\n",
       "      <td>2446.00</td>\n",
       "      <td>1223.000000</td>\n",
       "    </tr>\n",
       "    <tr>\n",
       "      <th>10</th>\n",
       "      <td>Shop 17</td>\n",
       "      <td>0</td>\n",
       "      <td>2</td>\n",
       "      <td>2317.17</td>\n",
       "      <td>1158.585000</td>\n",
       "    </tr>\n",
       "    <tr>\n",
       "      <th>1</th>\n",
       "      <td>Shop 0</td>\n",
       "      <td>1</td>\n",
       "      <td>558</td>\n",
       "      <td>601165.98</td>\n",
       "      <td>1077.358387</td>\n",
       "    </tr>\n",
       "    <tr>\n",
       "      <th>0</th>\n",
       "      <td>Shop 0</td>\n",
       "      <td>0</td>\n",
       "      <td>1271</td>\n",
       "      <td>1368451.17</td>\n",
       "      <td>1076.672832</td>\n",
       "    </tr>\n",
       "    <tr>\n",
       "      <th>17</th>\n",
       "      <td>Shop 22</td>\n",
       "      <td>0</td>\n",
       "      <td>3</td>\n",
       "      <td>3018.28</td>\n",
       "      <td>1006.093333</td>\n",
       "    </tr>\n",
       "    <tr>\n",
       "      <th>4</th>\n",
       "      <td>Shop 11</td>\n",
       "      <td>0</td>\n",
       "      <td>5</td>\n",
       "      <td>4314.25</td>\n",
       "      <td>862.850000</td>\n",
       "    </tr>\n",
       "    <tr>\n",
       "      <th>16</th>\n",
       "      <td>Shop 21</td>\n",
       "      <td>0</td>\n",
       "      <td>2</td>\n",
       "      <td>1647.97</td>\n",
       "      <td>823.985000</td>\n",
       "    </tr>\n",
       "    <tr>\n",
       "      <th>26</th>\n",
       "      <td>Shop 30</td>\n",
       "      <td>0</td>\n",
       "      <td>1</td>\n",
       "      <td>750.09</td>\n",
       "      <td>750.090000</td>\n",
       "    </tr>\n",
       "    <tr>\n",
       "      <th>5</th>\n",
       "      <td>Shop 12</td>\n",
       "      <td>0</td>\n",
       "      <td>10</td>\n",
       "      <td>7135.33</td>\n",
       "      <td>713.533000</td>\n",
       "    </tr>\n",
       "    <tr>\n",
       "      <th>12</th>\n",
       "      <td>Shop 19</td>\n",
       "      <td>0</td>\n",
       "      <td>2</td>\n",
       "      <td>1279.01</td>\n",
       "      <td>639.505000</td>\n",
       "    </tr>\n",
       "    <tr>\n",
       "      <th>15</th>\n",
       "      <td>Shop 20</td>\n",
       "      <td>0</td>\n",
       "      <td>3</td>\n",
       "      <td>1042.77</td>\n",
       "      <td>347.590000</td>\n",
       "    </tr>\n",
       "    <tr>\n",
       "      <th>32</th>\n",
       "      <td>Shop 8</td>\n",
       "      <td>1</td>\n",
       "      <td>1</td>\n",
       "      <td>259.73</td>\n",
       "      <td>259.730000</td>\n",
       "    </tr>\n",
       "    <tr>\n",
       "      <th>24</th>\n",
       "      <td>Shop 29</td>\n",
       "      <td>0</td>\n",
       "      <td>1</td>\n",
       "      <td>238.03</td>\n",
       "      <td>238.030000</td>\n",
       "    </tr>\n",
       "    <tr>\n",
       "      <th>18</th>\n",
       "      <td>Shop 23</td>\n",
       "      <td>0</td>\n",
       "      <td>1</td>\n",
       "      <td>225.25</td>\n",
       "      <td>225.250000</td>\n",
       "    </tr>\n",
       "  </tbody>\n",
       "</table>\n",
       "</div>"
      ],
      "text/plain": [
       "    shop_id  loyalty_program  customer_id  total_price          arpu\n",
       "25   Shop 3                0            4    104644.23  26161.057500\n",
       "13  Shop 19                1            1     10202.06  10202.060000\n",
       "7   Shop 14                0            3     22600.18   7533.393333\n",
       "29   Shop 6                0            9     64652.95   7183.661111\n",
       "14   Shop 2                0            7     40979.14   5854.162857\n",
       "19  Shop 24                0            1      4308.19   4308.190000\n",
       "20  Shop 25                0            1      3323.34   3323.340000\n",
       "21  Shop 26                0            1      2883.72   2883.720000\n",
       "6   Shop 13                0            1      2496.79   2496.790000\n",
       "28   Shop 5                0            3      6706.08   2235.360000\n",
       "22  Shop 27                0            1      2194.05   2194.050000\n",
       "8   Shop 15                0            1      1805.61   1805.610000\n",
       "31   Shop 8                0           10     17355.92   1735.592000\n",
       "23  Shop 28                1            1      1695.90   1695.900000\n",
       "30   Shop 7                0            7     11694.27   1670.610000\n",
       "11  Shop 18                0            5      6826.03   1365.206000\n",
       "27   Shop 4                0           41     55783.80   1360.580488\n",
       "9   Shop 16                0            3      3975.40   1325.133333\n",
       "3   Shop 10                0            8     10534.18   1316.772500\n",
       "2    Shop 1                0           38     49948.13   1314.424474\n",
       "33   Shop 9                0            2      2446.00   1223.000000\n",
       "10  Shop 17                0            2      2317.17   1158.585000\n",
       "1    Shop 0                1          558    601165.98   1077.358387\n",
       "0    Shop 0                0         1271   1368451.17   1076.672832\n",
       "17  Shop 22                0            3      3018.28   1006.093333\n",
       "4   Shop 11                0            5      4314.25    862.850000\n",
       "16  Shop 21                0            2      1647.97    823.985000\n",
       "26  Shop 30                0            1       750.09    750.090000\n",
       "5   Shop 12                0           10      7135.33    713.533000\n",
       "12  Shop 19                0            2      1279.01    639.505000\n",
       "15  Shop 20                0            3      1042.77    347.590000\n",
       "32   Shop 8                1            1       259.73    259.730000\n",
       "24  Shop 29                0            1       238.03    238.030000\n",
       "18  Shop 23                0            1       225.25    225.250000"
      ]
     },
     "execution_count": 73,
     "metadata": {},
     "output_type": "execute_result"
    }
   ],
   "source": [
    "exmpl = df[(df['is_refund'] == 0)].groupby(['shop_id','loyalty_program']).agg(\n",
    "    {'customer_id':'nunique', 'total_price':'sum'}).reset_index()\n",
    "exmpl['arpu'] = exmpl['total_price']/exmpl['customer_id']\n",
    "exmpl.sort_values('arpu', ascending = False)"
   ]
  },
  {
   "cell_type": "markdown",
   "id": "12eeb5b2",
   "metadata": {},
   "source": [
    "## Проверка статистических гипотез"
   ]
  },
  {
   "cell_type": "markdown",
   "id": "36b3bc70",
   "metadata": {},
   "source": [
    "### Гипотеза: Средний чек участников программы лояльности выше, чем у остальных покупателей"
   ]
  },
  {
   "cell_type": "markdown",
   "id": "d5641675",
   "metadata": {},
   "source": [
    "H_0: Средний чек участников программы лояльности **такой же**, как у обычных покупателей  \n",
    "H_1: Средний чек участников программы лояльности **отличается**, чем у обычных покупателей"
   ]
  },
  {
   "cell_type": "code",
   "execution_count": 74,
   "id": "c2e4f07d",
   "metadata": {},
   "outputs": [],
   "source": [
    "df_check_0 = df_sales.loc[df_sales['loyalty_program'] == 0].groupby('purchase_id').agg({'total_price': 'sum'})\n",
    "df_check_1 = df_sales.loc[df_sales['loyalty_program'] == 1].groupby('purchase_id').agg({'total_price': 'sum'})"
   ]
  },
  {
   "cell_type": "code",
   "execution_count": 75,
   "id": "d8c34732",
   "metadata": {
    "scrolled": true
   },
   "outputs": [
    {
     "data": {
      "image/png": "[encoded data removed]",
      "text/plain": [
       "<Figure size 1080x360 with 1 Axes>"
      ]
     },
     "metadata": {},
     "output_type": "display_data"
    }
   ],
   "source": [
    "plt.figure(figsize=(15, 5))\n",
    "plt.title(\"Распределение средних чеков участников лояльности по сумме\")\n",
    "plt.hist(df_check_1, alpha=0.7, bins=100)\n",
    "plt.hist(df_check_0, alpha=0.7, bins=100)\n",
    "plt.legend(['Программа лояльности', 'Обычные продажи'])\n",
    "plt.xlabel('Сумма', fontsize=10)\n",
    "plt.ylabel('Количество', fontsize=10)\n",
    "plt.show()"
   ]
  },
  {
   "cell_type": "code",
   "execution_count": 76,
   "id": "7ef638cf",
   "metadata": {
    "scrolled": true
   },
   "outputs": [
    {
     "name": "stdout",
     "output_type": "stream",
     "text": [
      "P-value:  [0.00065528]\n",
      "Отвергаем нулевую гипотезу\n"
     ]
    }
   ],
   "source": [
    "alpha=0.05\n",
    "results = scipy.stats.ttest_ind(df_check_0, df_check_1, equal_var=False)\n",
    "\n",
    "# тест односторонний: p-value будет в два раза меньше\n",
    "print('P-value: ', results.pvalue / 2)\n",
    "if (results.pvalue / 2 < alpha):\n",
    "    print(\"Отвергаем нулевую гипотезу\")\n",
    "else:\n",
    "    print(\"Не можем отвергнуть нулевую гипотезу\") "
   ]
  },
  {
   "cell_type": "markdown",
   "id": "c3e4b13a",
   "metadata": {},
   "source": [
    "**Промежуточный вывод**  \n",
    "- Среднее отличаеся и, к сожалению, не в пользу участников программы лояльности."
   ]
  },
  {
   "cell_type": "markdown",
   "id": "66f8b294",
   "metadata": {},
   "source": [
    "### Гипотеза: Среднее значение покупок у участников программы лояльности выше, чем у остальных покупателей"
   ]
  },
  {
   "cell_type": "markdown",
   "id": "3e0ace3e",
   "metadata": {},
   "source": [
    "H_0: Среднее количество покупок у участников программы лояльности **такое же**, как у остальных покупателей  \n",
    "H_1: Среднее количество покупок у участников программы лояльности **больше**, чем у остальных покупателей"
   ]
  },
  {
   "cell_type": "code",
   "execution_count": 77,
   "id": "473c9423",
   "metadata": {
    "scrolled": true
   },
   "outputs": [
    {
     "data": {
      "image/png": "[encoded data removed]",
      "text/plain": [
       "<Figure size 432x288 with 1 Axes>"
      ]
     },
     "metadata": {},
     "output_type": "display_data"
    }
   ],
   "source": [
    "df_purchase_0 = df_sales.loc[(df['loyalty_program'] == 0) & (df_sales['customer_id'] != 0)].groupby('customer_id').agg({'purchase_id': 'nunique'})\n",
    "df_purchase_1 = df_sales.loc[df['loyalty_program'] == 1].groupby('customer_id').agg({'purchase_id': 'nunique'})\n",
    "\n",
    "plt.title(\"Распределение количества покупок на покупателя\")\n",
    "plt.hist(df_purchase_0, alpha=0.7, bins=100)\n",
    "plt.hist(df_purchase_1, alpha=0.7, bins=100)\n",
    "plt.legend(['Обычные продажи', 'Программа лояльности'])\n",
    "plt.xlabel('Количество покупок', fontsize=10)\n",
    "plt.ylabel('Частотность', fontsize=10)\n",
    "plt.show()"
   ]
  },
  {
   "cell_type": "code",
   "execution_count": 78,
   "id": "c2b3ce7c",
   "metadata": {},
   "outputs": [
    {
     "name": "stdout",
     "output_type": "stream",
     "text": [
      "1.9964349376114081\n",
      "1.786159169550173\n"
     ]
    }
   ],
   "source": [
    "print(df_purchase_1['purchase_id'].mean())\n",
    "print(df_purchase_0['purchase_id'].mean())"
   ]
  },
  {
   "cell_type": "code",
   "execution_count": 79,
   "id": "6e5c08e4",
   "metadata": {},
   "outputs": [
    {
     "name": "stdout",
     "output_type": "stream",
     "text": [
      "P-value:  0.024819058439140104\n",
      "Отвергаем нулевую гипотезу\n"
     ]
    }
   ],
   "source": [
    "alpha=0.05\n",
    "results = scipy.stats.ttest_ind(df_purchase_0['purchase_id'], df_purchase_1['purchase_id'], equal_var=False)\n",
    "\n",
    "# тест односторонний: p-value будет в два раза меньше\n",
    "print('P-value: ', results.pvalue / 2)\n",
    "\n",
    "if ((results.pvalue / 2 < alpha) & (df_purchase_1['purchase_id'].mean() > df_purchase_0['purchase_id'].mean())):\n",
    "    print(\"Отвергаем нулевую гипотезу\")\n",
    "elif (df_purchase_1['purchase_id'].mean() < df_purchase_0['purchase_id'].mean()):\n",
    "    print(\"Не можем отвергнуть нулевую гипотезу, среднее меньше\")\n",
    "elif (df_purchase_1['purchase_id'].mean() > df_purchase_0['purchase_id'].mean()):\n",
    "    print(\"Не можем отвергнуть нулевую гипотезу, среднее больше, но статистически не значимо\") "
   ]
  },
  {
   "cell_type": "markdown",
   "id": "492bf4df",
   "metadata": {},
   "source": [
    "## Вывод"
   ]
  },
  {
   "cell_type": "markdown",
   "id": "d2eb587d",
   "metadata": {},
   "source": [
    "Мы выявили несколько слабых мест в нашей компании. Это и большое число возвратов, оказывающее сильное влияние на экономический результат компании, и возможно, слабую программу лояльности, не оказывающую влияния на позитивное поведение наших покупателей. \n",
    "\n",
    "Нам стоит обратить внимание на оптовых клиентов, и разобраться, почему их не привлекает наша программа лояльности. \n",
    "\n",
    "Я бы рекомендовала, провести дополнительный анализ причин возвратов товара, возможно нам нужно собирать больше данных и изменить существующую структуру хранения данных. "
   ]
  },
  {
   "cell_type": "markdown",
   "id": "4ab40b5b",
   "metadata": {},
   "source": [
    "## Презентация и дашборд"
   ]
  },
  {
   "cell_type": "markdown",
   "id": "3941bd8c",
   "metadata": {},
   "source": [
    "[Ссылка на презентацию](https://docs.google.com/presentation/d/1N24e228lNWOA3yvidh4yjHTGuV8Sp7ZkfQuasZXijmk/edit?usp=sharing)"
   ]
  },
  {
   "cell_type": "markdown",
   "id": "ea45f520",
   "metadata": {},
   "source": [
    "[Ссылка на дашборд](https://public.tableau.com/app/profile/alena8594/viz/Final_project_16813027110330/Dashboard1?publish=yes)"
   ]
  }
 ],
 "metadata": {
  "ExecuteTimeLog": [
   {
    "duration": 1408,
    "start_time": "2023-04-12T16:38:17.435Z"
   },
   {
    "duration": 142,
    "start_time": "2023-04-12T16:38:18.846Z"
   },
   {
    "duration": 0,
    "start_time": "2023-04-12T16:38:18.992Z"
   },
   {
    "duration": 0,
    "start_time": "2023-04-12T16:38:18.993Z"
   },
   {
    "duration": 0,
    "start_time": "2023-04-12T16:38:18.994Z"
   },
   {
    "duration": 0,
    "start_time": "2023-04-12T16:38:18.996Z"
   },
   {
    "duration": 0,
    "start_time": "2023-04-12T16:38:18.997Z"
   },
   {
    "duration": 0,
    "start_time": "2023-04-12T16:38:18.998Z"
   },
   {
    "duration": 1,
    "start_time": "2023-04-12T16:38:18.999Z"
   },
   {
    "duration": 0,
    "start_time": "2023-04-12T16:38:19.018Z"
   },
   {
    "duration": 0,
    "start_time": "2023-04-12T16:38:19.020Z"
   },
   {
    "duration": 0,
    "start_time": "2023-04-12T16:38:19.021Z"
   },
   {
    "duration": 0,
    "start_time": "2023-04-12T16:38:19.022Z"
   },
   {
    "duration": 0,
    "start_time": "2023-04-12T16:38:19.023Z"
   },
   {
    "duration": 0,
    "start_time": "2023-04-12T16:38:19.025Z"
   },
   {
    "duration": 0,
    "start_time": "2023-04-12T16:38:19.026Z"
   },
   {
    "duration": 0,
    "start_time": "2023-04-12T16:38:19.027Z"
   },
   {
    "duration": 0,
    "start_time": "2023-04-12T16:38:19.028Z"
   },
   {
    "duration": 0,
    "start_time": "2023-04-12T16:38:19.030Z"
   },
   {
    "duration": 0,
    "start_time": "2023-04-12T16:38:19.031Z"
   },
   {
    "duration": 0,
    "start_time": "2023-04-12T16:38:19.032Z"
   },
   {
    "duration": 0,
    "start_time": "2023-04-12T16:38:19.034Z"
   },
   {
    "duration": 0,
    "start_time": "2023-04-12T16:38:19.035Z"
   },
   {
    "duration": 0,
    "start_time": "2023-04-12T16:38:19.036Z"
   },
   {
    "duration": 0,
    "start_time": "2023-04-12T16:38:19.037Z"
   },
   {
    "duration": 0,
    "start_time": "2023-04-12T16:38:19.039Z"
   },
   {
    "duration": 0,
    "start_time": "2023-04-12T16:38:19.040Z"
   },
   {
    "duration": 0,
    "start_time": "2023-04-12T16:38:19.041Z"
   },
   {
    "duration": 0,
    "start_time": "2023-04-12T16:38:19.043Z"
   },
   {
    "duration": 0,
    "start_time": "2023-04-12T16:38:19.044Z"
   },
   {
    "duration": 0,
    "start_time": "2023-04-12T16:38:19.045Z"
   },
   {
    "duration": 0,
    "start_time": "2023-04-12T16:38:19.047Z"
   },
   {
    "duration": 0,
    "start_time": "2023-04-12T16:38:19.048Z"
   },
   {
    "duration": 0,
    "start_time": "2023-04-12T16:38:19.049Z"
   },
   {
    "duration": 0,
    "start_time": "2023-04-12T16:38:19.051Z"
   },
   {
    "duration": 0,
    "start_time": "2023-04-12T16:38:19.052Z"
   },
   {
    "duration": 0,
    "start_time": "2023-04-12T16:38:19.053Z"
   },
   {
    "duration": 0,
    "start_time": "2023-04-12T16:38:19.055Z"
   },
   {
    "duration": 0,
    "start_time": "2023-04-12T16:38:19.056Z"
   },
   {
    "duration": 0,
    "start_time": "2023-04-12T16:38:19.057Z"
   },
   {
    "duration": 1,
    "start_time": "2023-04-12T16:38:19.117Z"
   },
   {
    "duration": 0,
    "start_time": "2023-04-12T16:38:19.119Z"
   },
   {
    "duration": 0,
    "start_time": "2023-04-12T16:38:19.120Z"
   },
   {
    "duration": 0,
    "start_time": "2023-04-12T16:38:19.121Z"
   },
   {
    "duration": 0,
    "start_time": "2023-04-12T16:38:19.123Z"
   },
   {
    "duration": 0,
    "start_time": "2023-04-12T16:38:19.124Z"
   },
   {
    "duration": 0,
    "start_time": "2023-04-12T16:38:19.125Z"
   },
   {
    "duration": 0,
    "start_time": "2023-04-12T16:38:19.127Z"
   },
   {
    "duration": 0,
    "start_time": "2023-04-12T16:38:19.128Z"
   },
   {
    "duration": 0,
    "start_time": "2023-04-12T16:38:19.129Z"
   },
   {
    "duration": 0,
    "start_time": "2023-04-12T16:38:19.131Z"
   },
   {
    "duration": 0,
    "start_time": "2023-04-12T16:38:19.132Z"
   },
   {
    "duration": 0,
    "start_time": "2023-04-12T16:38:19.134Z"
   },
   {
    "duration": 0,
    "start_time": "2023-04-12T16:38:19.135Z"
   },
   {
    "duration": 0,
    "start_time": "2023-04-12T16:38:19.136Z"
   },
   {
    "duration": 0,
    "start_time": "2023-04-12T16:38:19.138Z"
   },
   {
    "duration": 0,
    "start_time": "2023-04-12T16:38:19.139Z"
   },
   {
    "duration": 0,
    "start_time": "2023-04-12T16:38:19.140Z"
   },
   {
    "duration": 0,
    "start_time": "2023-04-12T16:38:19.141Z"
   },
   {
    "duration": 0,
    "start_time": "2023-04-12T16:38:19.143Z"
   },
   {
    "duration": 0,
    "start_time": "2023-04-12T16:38:19.144Z"
   },
   {
    "duration": 0,
    "start_time": "2023-04-12T16:38:19.145Z"
   },
   {
    "duration": 0,
    "start_time": "2023-04-12T16:38:19.147Z"
   },
   {
    "duration": 0,
    "start_time": "2023-04-12T16:38:19.148Z"
   },
   {
    "duration": 0,
    "start_time": "2023-04-12T16:38:19.149Z"
   },
   {
    "duration": 0,
    "start_time": "2023-04-12T16:38:19.150Z"
   },
   {
    "duration": 0,
    "start_time": "2023-04-12T16:38:19.151Z"
   },
   {
    "duration": 0,
    "start_time": "2023-04-12T16:38:19.152Z"
   },
   {
    "duration": 0,
    "start_time": "2023-04-12T16:38:19.153Z"
   },
   {
    "duration": 0,
    "start_time": "2023-04-12T16:38:19.218Z"
   },
   {
    "duration": 0,
    "start_time": "2023-04-12T16:38:19.220Z"
   },
   {
    "duration": 0,
    "start_time": "2023-04-12T16:38:19.221Z"
   },
   {
    "duration": 1438,
    "start_time": "2023-04-12T19:21:09.723Z"
   },
   {
    "duration": 487,
    "start_time": "2023-04-12T19:21:11.163Z"
   },
   {
    "duration": 17,
    "start_time": "2023-04-12T19:21:11.653Z"
   },
   {
    "duration": 66,
    "start_time": "2023-04-12T19:21:11.673Z"
   },
   {
    "duration": 36,
    "start_time": "2023-04-12T19:21:11.741Z"
   },
   {
    "duration": 94,
    "start_time": "2023-04-12T19:21:11.779Z"
   },
   {
    "duration": 76,
    "start_time": "2023-04-12T19:21:11.875Z"
   },
   {
    "duration": 9,
    "start_time": "2023-04-12T19:21:11.953Z"
   },
   {
    "duration": 15,
    "start_time": "2023-04-12T19:21:11.964Z"
   },
   {
    "duration": 30,
    "start_time": "2023-04-12T19:21:11.983Z"
   },
   {
    "duration": 5,
    "start_time": "2023-04-12T19:21:12.016Z"
   },
   {
    "duration": 21,
    "start_time": "2023-04-12T19:21:12.023Z"
   },
   {
    "duration": 24,
    "start_time": "2023-04-12T19:21:12.046Z"
   },
   {
    "duration": 14,
    "start_time": "2023-04-12T19:21:12.072Z"
   },
   {
    "duration": 34,
    "start_time": "2023-04-12T19:21:12.088Z"
   },
   {
    "duration": 59,
    "start_time": "2023-04-12T19:21:12.124Z"
   },
   {
    "duration": 9,
    "start_time": "2023-04-12T19:21:12.185Z"
   },
   {
    "duration": 45,
    "start_time": "2023-04-12T19:21:12.196Z"
   },
   {
    "duration": 11,
    "start_time": "2023-04-12T19:21:12.243Z"
   },
   {
    "duration": 60,
    "start_time": "2023-04-12T19:21:12.256Z"
   },
   {
    "duration": 24,
    "start_time": "2023-04-12T19:21:12.318Z"
   },
   {
    "duration": 48,
    "start_time": "2023-04-12T19:21:12.345Z"
   },
   {
    "duration": 5,
    "start_time": "2023-04-12T19:21:12.395Z"
   },
   {
    "duration": 23,
    "start_time": "2023-04-12T19:21:12.402Z"
   },
   {
    "duration": 27,
    "start_time": "2023-04-12T19:21:12.427Z"
   },
   {
    "duration": 30,
    "start_time": "2023-04-12T19:21:12.456Z"
   },
   {
    "duration": 21,
    "start_time": "2023-04-12T19:21:12.489Z"
   },
   {
    "duration": 35,
    "start_time": "2023-04-12T19:21:12.516Z"
   },
   {
    "duration": 176,
    "start_time": "2023-04-12T19:21:12.553Z"
   },
   {
    "duration": 124,
    "start_time": "2023-04-12T19:21:12.731Z"
   },
   {
    "duration": 0,
    "start_time": "2023-04-12T19:21:12.856Z"
   },
   {
    "duration": 0,
    "start_time": "2023-04-12T19:21:12.858Z"
   },
   {
    "duration": 0,
    "start_time": "2023-04-12T19:21:12.859Z"
   },
   {
    "duration": 0,
    "start_time": "2023-04-12T19:21:12.860Z"
   },
   {
    "duration": 0,
    "start_time": "2023-04-12T19:21:12.861Z"
   },
   {
    "duration": 0,
    "start_time": "2023-04-12T19:21:12.862Z"
   },
   {
    "duration": 0,
    "start_time": "2023-04-12T19:21:12.864Z"
   },
   {
    "duration": 0,
    "start_time": "2023-04-12T19:21:12.864Z"
   },
   {
    "duration": 0,
    "start_time": "2023-04-12T19:21:12.866Z"
   },
   {
    "duration": 0,
    "start_time": "2023-04-12T19:21:12.867Z"
   },
   {
    "duration": 0,
    "start_time": "2023-04-12T19:21:12.868Z"
   },
   {
    "duration": 0,
    "start_time": "2023-04-12T19:21:12.869Z"
   },
   {
    "duration": 0,
    "start_time": "2023-04-12T19:21:12.871Z"
   },
   {
    "duration": 0,
    "start_time": "2023-04-12T19:21:12.872Z"
   },
   {
    "duration": 0,
    "start_time": "2023-04-12T19:21:12.873Z"
   },
   {
    "duration": 0,
    "start_time": "2023-04-12T19:21:12.874Z"
   },
   {
    "duration": 0,
    "start_time": "2023-04-12T19:21:12.875Z"
   },
   {
    "duration": 0,
    "start_time": "2023-04-12T19:21:12.876Z"
   },
   {
    "duration": 0,
    "start_time": "2023-04-12T19:21:12.877Z"
   },
   {
    "duration": 0,
    "start_time": "2023-04-12T19:21:12.879Z"
   },
   {
    "duration": 0,
    "start_time": "2023-04-12T19:21:12.880Z"
   },
   {
    "duration": 0,
    "start_time": "2023-04-12T19:21:12.881Z"
   },
   {
    "duration": 0,
    "start_time": "2023-04-12T19:21:12.882Z"
   },
   {
    "duration": 1,
    "start_time": "2023-04-12T19:21:12.883Z"
   },
   {
    "duration": 0,
    "start_time": "2023-04-12T19:21:12.884Z"
   },
   {
    "duration": 0,
    "start_time": "2023-04-12T19:21:12.886Z"
   },
   {
    "duration": 0,
    "start_time": "2023-04-12T19:21:12.887Z"
   },
   {
    "duration": 0,
    "start_time": "2023-04-12T19:21:12.888Z"
   },
   {
    "duration": 0,
    "start_time": "2023-04-12T19:21:12.889Z"
   },
   {
    "duration": 0,
    "start_time": "2023-04-12T19:21:12.890Z"
   },
   {
    "duration": 0,
    "start_time": "2023-04-12T19:21:12.941Z"
   },
   {
    "duration": 0,
    "start_time": "2023-04-12T19:21:12.943Z"
   },
   {
    "duration": 0,
    "start_time": "2023-04-12T19:21:12.943Z"
   },
   {
    "duration": 0,
    "start_time": "2023-04-12T19:21:12.944Z"
   },
   {
    "duration": 0,
    "start_time": "2023-04-12T19:21:12.946Z"
   },
   {
    "duration": 0,
    "start_time": "2023-04-12T19:21:12.947Z"
   },
   {
    "duration": 0,
    "start_time": "2023-04-12T19:21:12.947Z"
   },
   {
    "duration": 0,
    "start_time": "2023-04-12T19:21:12.948Z"
   },
   {
    "duration": 0,
    "start_time": "2023-04-12T19:21:12.949Z"
   },
   {
    "duration": 0,
    "start_time": "2023-04-12T19:21:12.950Z"
   },
   {
    "duration": 0,
    "start_time": "2023-04-12T19:21:12.951Z"
   },
   {
    "duration": 0,
    "start_time": "2023-04-12T19:21:12.952Z"
   },
   {
    "duration": 15,
    "start_time": "2023-04-12T19:22:24.518Z"
   },
   {
    "duration": 14,
    "start_time": "2023-04-12T19:22:46.288Z"
   },
   {
    "duration": 18,
    "start_time": "2023-04-12T19:22:57.887Z"
   },
   {
    "duration": 16,
    "start_time": "2023-04-12T19:23:12.660Z"
   },
   {
    "duration": 24,
    "start_time": "2023-04-12T19:23:24.759Z"
   },
   {
    "duration": 3,
    "start_time": "2023-04-12T19:23:34.650Z"
   },
   {
    "duration": 120,
    "start_time": "2023-04-12T19:23:34.655Z"
   },
   {
    "duration": 11,
    "start_time": "2023-04-12T19:23:34.776Z"
   },
   {
    "duration": 33,
    "start_time": "2023-04-12T19:23:34.789Z"
   },
   {
    "duration": 44,
    "start_time": "2023-04-12T19:23:34.824Z"
   },
   {
    "duration": 78,
    "start_time": "2023-04-12T19:23:34.869Z"
   },
   {
    "duration": 18,
    "start_time": "2023-04-12T19:23:34.949Z"
   },
   {
    "duration": 8,
    "start_time": "2023-04-12T19:23:34.968Z"
   },
   {
    "duration": 13,
    "start_time": "2023-04-12T19:23:34.978Z"
   },
   {
    "duration": 17,
    "start_time": "2023-04-12T19:23:34.993Z"
   },
   {
    "duration": 30,
    "start_time": "2023-04-12T19:23:35.012Z"
   },
   {
    "duration": 27,
    "start_time": "2023-04-12T19:23:35.044Z"
   },
   {
    "duration": 24,
    "start_time": "2023-04-12T19:23:35.073Z"
   },
   {
    "duration": 21,
    "start_time": "2023-04-12T19:23:35.099Z"
   },
   {
    "duration": 42,
    "start_time": "2023-04-12T19:23:35.122Z"
   },
   {
    "duration": 73,
    "start_time": "2023-04-12T19:23:35.165Z"
   },
   {
    "duration": 8,
    "start_time": "2023-04-12T19:23:35.240Z"
   },
   {
    "duration": 30,
    "start_time": "2023-04-12T19:23:35.250Z"
   },
   {
    "duration": 11,
    "start_time": "2023-04-12T19:23:35.282Z"
   },
   {
    "duration": 59,
    "start_time": "2023-04-12T19:23:35.294Z"
   },
   {
    "duration": 7,
    "start_time": "2023-04-12T19:23:35.354Z"
   },
   {
    "duration": 38,
    "start_time": "2023-04-12T19:23:35.363Z"
   },
   {
    "duration": 4,
    "start_time": "2023-04-12T19:23:35.403Z"
   },
   {
    "duration": 20,
    "start_time": "2023-04-12T19:23:35.408Z"
   },
   {
    "duration": 32,
    "start_time": "2023-04-12T19:23:35.430Z"
   },
   {
    "duration": 17,
    "start_time": "2023-04-12T19:23:35.464Z"
   },
   {
    "duration": 19,
    "start_time": "2023-04-12T19:23:35.483Z"
   },
   {
    "duration": 37,
    "start_time": "2023-04-12T19:23:35.504Z"
   },
   {
    "duration": 155,
    "start_time": "2023-04-12T19:23:35.545Z"
   },
   {
    "duration": 11,
    "start_time": "2023-04-12T19:23:35.702Z"
   },
   {
    "duration": 31,
    "start_time": "2023-04-12T19:23:35.715Z"
   },
   {
    "duration": 7,
    "start_time": "2023-04-12T19:23:35.748Z"
   },
   {
    "duration": 38,
    "start_time": "2023-04-12T19:23:35.756Z"
   },
   {
    "duration": 39,
    "start_time": "2023-04-12T19:23:35.796Z"
   },
   {
    "duration": 19,
    "start_time": "2023-04-12T19:23:35.837Z"
   },
   {
    "duration": 9,
    "start_time": "2023-04-12T19:23:35.858Z"
   },
   {
    "duration": 34,
    "start_time": "2023-04-12T19:23:35.869Z"
   },
   {
    "duration": 34,
    "start_time": "2023-04-12T19:23:35.905Z"
   },
   {
    "duration": 71,
    "start_time": "2023-04-12T19:23:35.941Z"
   },
   {
    "duration": 42,
    "start_time": "2023-04-12T19:23:36.014Z"
   },
   {
    "duration": 30,
    "start_time": "2023-04-12T19:23:36.058Z"
   },
   {
    "duration": 6,
    "start_time": "2023-04-12T19:23:36.090Z"
   },
   {
    "duration": 110,
    "start_time": "2023-04-12T19:23:36.098Z"
   },
   {
    "duration": 33,
    "start_time": "2023-04-12T19:23:36.209Z"
   },
   {
    "duration": 11,
    "start_time": "2023-04-12T19:23:36.243Z"
   },
   {
    "duration": 458,
    "start_time": "2023-04-12T19:23:36.256Z"
   },
   {
    "duration": 379,
    "start_time": "2023-04-12T19:23:36.716Z"
   },
   {
    "duration": 181,
    "start_time": "2023-04-12T19:23:37.098Z"
   },
   {
    "duration": 332,
    "start_time": "2023-04-12T19:23:37.281Z"
   },
   {
    "duration": 427,
    "start_time": "2023-04-12T19:23:37.615Z"
   },
   {
    "duration": 39,
    "start_time": "2023-04-12T19:23:38.045Z"
   },
   {
    "duration": 55,
    "start_time": "2023-04-12T19:23:38.086Z"
   },
   {
    "duration": 7,
    "start_time": "2023-04-12T19:23:38.143Z"
   },
   {
    "duration": 70,
    "start_time": "2023-04-12T19:23:38.151Z"
   },
   {
    "duration": 49,
    "start_time": "2023-04-12T19:23:38.224Z"
   },
   {
    "duration": 331,
    "start_time": "2023-04-12T19:23:38.275Z"
   },
   {
    "duration": 305,
    "start_time": "2023-04-12T19:23:38.608Z"
   },
   {
    "duration": 1548,
    "start_time": "2023-04-12T19:23:38.915Z"
   },
   {
    "duration": 1332,
    "start_time": "2023-04-12T19:23:40.465Z"
   },
   {
    "duration": 309,
    "start_time": "2023-04-12T19:23:41.799Z"
   },
   {
    "duration": 35,
    "start_time": "2023-04-12T19:23:42.110Z"
   },
   {
    "duration": 10,
    "start_time": "2023-04-12T19:23:42.147Z"
   },
   {
    "duration": 12,
    "start_time": "2023-04-12T19:23:42.159Z"
   },
   {
    "duration": 542,
    "start_time": "2023-04-12T19:23:42.174Z"
   },
   {
    "duration": 648,
    "start_time": "2023-04-12T19:23:42.718Z"
   },
   {
    "duration": 44,
    "start_time": "2023-04-12T19:23:43.367Z"
   },
   {
    "duration": 297,
    "start_time": "2023-04-12T19:23:43.413Z"
   },
   {
    "duration": 313,
    "start_time": "2023-04-12T19:23:43.712Z"
   },
   {
    "duration": 517,
    "start_time": "2023-04-12T19:23:44.027Z"
   },
   {
    "duration": 7,
    "start_time": "2023-04-12T19:23:44.546Z"
   },
   {
    "duration": 560,
    "start_time": "2023-04-12T19:23:44.555Z"
   },
   {
    "duration": 4,
    "start_time": "2023-04-12T19:23:45.118Z"
   },
   {
    "duration": 32,
    "start_time": "2023-04-12T19:23:45.124Z"
   },
   {
    "duration": 1373,
    "start_time": "2023-04-13T16:08:44.875Z"
   },
   {
    "duration": 468,
    "start_time": "2023-04-13T16:08:46.250Z"
   },
   {
    "duration": 14,
    "start_time": "2023-04-13T16:08:46.720Z"
   },
   {
    "duration": 27,
    "start_time": "2023-04-13T16:08:46.737Z"
   },
   {
    "duration": 33,
    "start_time": "2023-04-13T16:08:46.766Z"
   },
   {
    "duration": 73,
    "start_time": "2023-04-13T16:08:46.817Z"
   },
   {
    "duration": 75,
    "start_time": "2023-04-13T16:08:46.892Z"
   },
   {
    "duration": 7,
    "start_time": "2023-04-13T16:08:46.969Z"
   },
   {
    "duration": 17,
    "start_time": "2023-04-13T16:08:46.978Z"
   },
   {
    "duration": 17,
    "start_time": "2023-04-13T16:08:46.997Z"
   },
   {
    "duration": 2,
    "start_time": "2023-04-13T16:08:47.016Z"
   },
   {
    "duration": 7,
    "start_time": "2023-04-13T16:08:47.020Z"
   },
   {
    "duration": 15,
    "start_time": "2023-04-13T16:08:47.029Z"
   },
   {
    "duration": 15,
    "start_time": "2023-04-13T16:08:47.046Z"
   },
   {
    "duration": 33,
    "start_time": "2023-04-13T16:08:47.062Z"
   },
   {
    "duration": 60,
    "start_time": "2023-04-13T16:08:47.097Z"
   },
   {
    "duration": 10,
    "start_time": "2023-04-13T16:08:47.159Z"
   },
   {
    "duration": 30,
    "start_time": "2023-04-13T16:08:47.171Z"
   },
   {
    "duration": 22,
    "start_time": "2023-04-13T16:08:47.203Z"
   },
   {
    "duration": 52,
    "start_time": "2023-04-13T16:08:47.226Z"
   },
   {
    "duration": 9,
    "start_time": "2023-04-13T16:08:47.279Z"
   },
   {
    "duration": 62,
    "start_time": "2023-04-13T16:08:47.289Z"
   },
   {
    "duration": 4,
    "start_time": "2023-04-13T16:08:47.353Z"
   },
   {
    "duration": 13,
    "start_time": "2023-04-13T16:08:47.359Z"
   },
   {
    "duration": 20,
    "start_time": "2023-04-13T16:08:47.373Z"
   },
   {
    "duration": 35,
    "start_time": "2023-04-13T16:08:47.395Z"
   },
   {
    "duration": 24,
    "start_time": "2023-04-13T16:08:47.431Z"
   },
   {
    "duration": 19,
    "start_time": "2023-04-13T16:08:47.460Z"
   },
   {
    "duration": 202,
    "start_time": "2023-04-13T16:08:47.481Z"
   },
   {
    "duration": 11,
    "start_time": "2023-04-13T16:08:47.685Z"
   },
   {
    "duration": 41,
    "start_time": "2023-04-13T16:08:47.697Z"
   },
   {
    "duration": 6,
    "start_time": "2023-04-13T16:08:47.740Z"
   },
   {
    "duration": 32,
    "start_time": "2023-04-13T16:08:47.748Z"
   },
   {
    "duration": 21,
    "start_time": "2023-04-13T16:08:47.782Z"
   },
   {
    "duration": 12,
    "start_time": "2023-04-13T16:08:47.805Z"
   },
   {
    "duration": 17,
    "start_time": "2023-04-13T16:08:47.819Z"
   },
   {
    "duration": 15,
    "start_time": "2023-04-13T16:08:47.837Z"
   },
   {
    "duration": 24,
    "start_time": "2023-04-13T16:08:47.853Z"
   },
   {
    "duration": 25,
    "start_time": "2023-04-13T16:08:47.879Z"
   },
   {
    "duration": 44,
    "start_time": "2023-04-13T16:08:47.906Z"
   },
   {
    "duration": 24,
    "start_time": "2023-04-13T16:08:47.951Z"
   },
   {
    "duration": 16,
    "start_time": "2023-04-13T16:08:47.976Z"
   },
   {
    "duration": 120,
    "start_time": "2023-04-13T16:08:47.994Z"
   },
   {
    "duration": 25,
    "start_time": "2023-04-13T16:08:48.118Z"
   },
   {
    "duration": 16,
    "start_time": "2023-04-13T16:08:48.145Z"
   },
   {
    "duration": 463,
    "start_time": "2023-04-13T16:08:48.163Z"
   },
   {
    "duration": 402,
    "start_time": "2023-04-13T16:08:48.628Z"
   },
   {
    "duration": 188,
    "start_time": "2023-04-13T16:08:49.032Z"
   },
   {
    "duration": 229,
    "start_time": "2023-04-13T16:08:49.222Z"
   },
   {
    "duration": 513,
    "start_time": "2023-04-13T16:08:49.453Z"
   },
   {
    "duration": 32,
    "start_time": "2023-04-13T16:08:49.967Z"
   },
   {
    "duration": 48,
    "start_time": "2023-04-13T16:08:50.001Z"
   },
   {
    "duration": 8,
    "start_time": "2023-04-13T16:08:50.051Z"
   },
   {
    "duration": 73,
    "start_time": "2023-04-13T16:08:50.061Z"
   },
   {
    "duration": 38,
    "start_time": "2023-04-13T16:08:50.136Z"
   },
   {
    "duration": 341,
    "start_time": "2023-04-13T16:08:50.176Z"
   },
   {
    "duration": 330,
    "start_time": "2023-04-13T16:08:50.519Z"
   },
   {
    "duration": 1155,
    "start_time": "2023-04-13T16:08:50.851Z"
   },
   {
    "duration": 967,
    "start_time": "2023-04-13T16:08:52.008Z"
   },
   {
    "duration": 318,
    "start_time": "2023-04-13T16:08:52.977Z"
   },
   {
    "duration": 33,
    "start_time": "2023-04-13T16:08:53.296Z"
   },
   {
    "duration": 7,
    "start_time": "2023-04-13T16:08:53.331Z"
   },
   {
    "duration": 28,
    "start_time": "2023-04-13T16:08:53.339Z"
   },
   {
    "duration": 536,
    "start_time": "2023-04-13T16:08:53.368Z"
   },
   {
    "duration": 549,
    "start_time": "2023-04-13T16:08:53.906Z"
   },
   {
    "duration": 138,
    "start_time": "2023-04-13T16:08:54.457Z"
   },
   {
    "duration": 312,
    "start_time": "2023-04-13T16:08:54.597Z"
   },
   {
    "duration": 362,
    "start_time": "2023-04-13T16:08:54.917Z"
   },
   {
    "duration": 557,
    "start_time": "2023-04-13T16:08:55.281Z"
   },
   {
    "duration": 5,
    "start_time": "2023-04-13T16:08:55.840Z"
   },
   {
    "duration": 612,
    "start_time": "2023-04-13T16:08:55.847Z"
   },
   {
    "duration": 5,
    "start_time": "2023-04-13T16:08:56.462Z"
   },
   {
    "duration": 16,
    "start_time": "2023-04-13T16:08:56.469Z"
   },
   {
    "duration": 15,
    "start_time": "2023-04-13T16:44:41.283Z"
   },
   {
    "duration": 30,
    "start_time": "2023-04-13T16:50:23.522Z"
   },
   {
    "duration": 199,
    "start_time": "2023-04-13T16:55:09.842Z"
   },
   {
    "duration": 51,
    "start_time": "2023-04-14T08:12:28.544Z"
   },
   {
    "duration": 1719,
    "start_time": "2023-04-14T08:12:32.804Z"
   },
   {
    "duration": 1023,
    "start_time": "2023-04-14T08:12:34.525Z"
   },
   {
    "duration": 15,
    "start_time": "2023-04-14T08:12:35.550Z"
   },
   {
    "duration": 29,
    "start_time": "2023-04-14T08:12:35.567Z"
   },
   {
    "duration": 40,
    "start_time": "2023-04-14T08:12:35.598Z"
   },
   {
    "duration": 112,
    "start_time": "2023-04-14T08:12:35.640Z"
   },
   {
    "duration": 109,
    "start_time": "2023-04-14T08:12:35.755Z"
   },
   {
    "duration": 7,
    "start_time": "2023-04-14T08:12:35.866Z"
   },
   {
    "duration": 23,
    "start_time": "2023-04-14T08:12:35.875Z"
   },
   {
    "duration": 36,
    "start_time": "2023-04-14T08:12:35.901Z"
   },
   {
    "duration": 4,
    "start_time": "2023-04-14T08:12:35.939Z"
   },
   {
    "duration": 7,
    "start_time": "2023-04-14T08:12:35.945Z"
   },
   {
    "duration": 25,
    "start_time": "2023-04-14T08:12:35.954Z"
   },
   {
    "duration": 41,
    "start_time": "2023-04-14T08:12:35.980Z"
   },
   {
    "duration": 38,
    "start_time": "2023-04-14T08:12:36.023Z"
   },
   {
    "duration": 82,
    "start_time": "2023-04-14T08:12:36.063Z"
   },
   {
    "duration": 12,
    "start_time": "2023-04-14T08:12:36.147Z"
   },
   {
    "duration": 78,
    "start_time": "2023-04-14T08:13:31.942Z"
   },
   {
    "duration": 29,
    "start_time": "2023-04-14T08:13:38.402Z"
   },
   {
    "duration": 8,
    "start_time": "2023-04-14T08:13:42.184Z"
   },
   {
    "duration": 175,
    "start_time": "2023-04-14T08:13:42.195Z"
   },
   {
    "duration": 12,
    "start_time": "2023-04-14T08:13:42.371Z"
   },
   {
    "duration": 64,
    "start_time": "2023-04-14T08:13:42.385Z"
   },
   {
    "duration": 30,
    "start_time": "2023-04-14T08:13:42.451Z"
   },
   {
    "duration": 93,
    "start_time": "2023-04-14T08:13:42.483Z"
   },
   {
    "duration": 35,
    "start_time": "2023-04-14T08:13:42.578Z"
   },
   {
    "duration": 27,
    "start_time": "2023-04-14T08:13:42.617Z"
   },
   {
    "duration": 13,
    "start_time": "2023-04-14T08:13:42.646Z"
   },
   {
    "duration": 15,
    "start_time": "2023-04-14T08:13:42.660Z"
   },
   {
    "duration": 2,
    "start_time": "2023-04-14T08:13:42.678Z"
   },
   {
    "duration": 34,
    "start_time": "2023-04-14T08:13:42.682Z"
   },
   {
    "duration": 14,
    "start_time": "2023-04-14T08:13:42.718Z"
   },
   {
    "duration": 7,
    "start_time": "2023-04-14T08:13:42.734Z"
   },
   {
    "duration": 25,
    "start_time": "2023-04-14T08:13:42.744Z"
   },
   {
    "duration": 102,
    "start_time": "2023-04-14T08:13:42.771Z"
   },
   {
    "duration": 82,
    "start_time": "2023-04-14T08:13:42.878Z"
   },
   {
    "duration": 22,
    "start_time": "2023-04-14T08:14:24.887Z"
   },
   {
    "duration": 49,
    "start_time": "2023-04-14T08:14:29.720Z"
   },
   {
    "duration": 1203,
    "start_time": "2023-04-14T08:19:36.252Z"
   },
   {
    "duration": 5903,
    "start_time": "2023-04-14T08:20:43.317Z"
   },
   {
    "duration": 57,
    "start_time": "2023-04-14T08:21:00.011Z"
   },
   {
    "duration": 868,
    "start_time": "2023-04-14T08:21:47.411Z"
   },
   {
    "duration": 561,
    "start_time": "2023-04-14T08:22:05.819Z"
   },
   {
    "duration": 392,
    "start_time": "2023-04-14T08:22:54.507Z"
   },
   {
    "duration": 248,
    "start_time": "2023-04-14T08:24:27.210Z"
   },
   {
    "duration": 48,
    "start_time": "2023-04-14T08:24:34.517Z"
   },
   {
    "duration": 60,
    "start_time": "2023-04-14T08:24:52.101Z"
   },
   {
    "duration": 33,
    "start_time": "2023-04-14T08:26:23.703Z"
   },
   {
    "duration": 40,
    "start_time": "2023-04-14T08:26:27.791Z"
   },
   {
    "duration": 53,
    "start_time": "2023-04-14T08:29:00.279Z"
   },
   {
    "duration": 27,
    "start_time": "2023-04-14T08:29:42.356Z"
   },
   {
    "duration": 4,
    "start_time": "2023-04-14T08:32:58.928Z"
   },
   {
    "duration": 178,
    "start_time": "2023-04-14T08:32:58.935Z"
   },
   {
    "duration": 12,
    "start_time": "2023-04-14T08:32:59.115Z"
   },
   {
    "duration": 59,
    "start_time": "2023-04-14T08:32:59.129Z"
   },
   {
    "duration": 63,
    "start_time": "2023-04-14T08:32:59.191Z"
   },
   {
    "duration": 85,
    "start_time": "2023-04-14T08:32:59.255Z"
   },
   {
    "duration": 18,
    "start_time": "2023-04-14T08:32:59.342Z"
   },
   {
    "duration": 8,
    "start_time": "2023-04-14T08:32:59.362Z"
   },
   {
    "duration": 26,
    "start_time": "2023-04-14T08:32:59.372Z"
   },
   {
    "duration": 44,
    "start_time": "2023-04-14T08:32:59.400Z"
   },
   {
    "duration": 10,
    "start_time": "2023-04-14T08:32:59.447Z"
   },
   {
    "duration": 15,
    "start_time": "2023-04-14T08:32:59.458Z"
   },
   {
    "duration": 41,
    "start_time": "2023-04-14T08:32:59.476Z"
   },
   {
    "duration": 9,
    "start_time": "2023-04-14T08:32:59.518Z"
   },
   {
    "duration": 31,
    "start_time": "2023-04-14T08:32:59.529Z"
   },
   {
    "duration": 81,
    "start_time": "2023-04-14T08:32:59.563Z"
   },
   {
    "duration": 236,
    "start_time": "2023-04-14T08:32:59.646Z"
   },
   {
    "duration": 35,
    "start_time": "2023-04-14T08:32:59.885Z"
   },
   {
    "duration": 12,
    "start_time": "2023-04-14T08:32:59.922Z"
   },
   {
    "duration": 62,
    "start_time": "2023-04-14T08:32:59.935Z"
   },
   {
    "duration": 13,
    "start_time": "2023-04-14T08:32:59.999Z"
   },
   {
    "duration": 63,
    "start_time": "2023-04-14T08:33:00.014Z"
   },
   {
    "duration": 4,
    "start_time": "2023-04-14T08:33:00.079Z"
   },
   {
    "duration": 51,
    "start_time": "2023-04-14T08:33:00.084Z"
   },
   {
    "duration": 25,
    "start_time": "2023-04-14T08:33:00.136Z"
   },
   {
    "duration": 58,
    "start_time": "2023-04-14T08:33:00.163Z"
   },
   {
    "duration": 40,
    "start_time": "2023-04-14T08:33:00.223Z"
   },
   {
    "duration": 47,
    "start_time": "2023-04-14T08:33:00.265Z"
   },
   {
    "duration": 219,
    "start_time": "2023-04-14T08:33:00.318Z"
   },
   {
    "duration": 11,
    "start_time": "2023-04-14T08:33:00.540Z"
   },
   {
    "duration": 82,
    "start_time": "2023-04-14T08:33:00.552Z"
   },
   {
    "duration": 30,
    "start_time": "2023-04-14T08:33:00.636Z"
   },
   {
    "duration": 85,
    "start_time": "2023-04-14T08:33:00.668Z"
   },
   {
    "duration": 86,
    "start_time": "2023-04-14T08:33:00.755Z"
   },
   {
    "duration": 15,
    "start_time": "2023-04-14T08:33:00.844Z"
   },
   {
    "duration": 25,
    "start_time": "2023-04-14T08:33:00.861Z"
   },
   {
    "duration": 36,
    "start_time": "2023-04-14T08:33:00.903Z"
   },
   {
    "duration": 39,
    "start_time": "2023-04-14T08:33:00.941Z"
   },
   {
    "duration": 189,
    "start_time": "2023-04-14T08:33:00.982Z"
   },
   {
    "duration": 52,
    "start_time": "2023-04-14T08:33:01.172Z"
   },
   {
    "duration": 73,
    "start_time": "2023-04-14T08:33:01.229Z"
   },
   {
    "duration": 110,
    "start_time": "2023-04-14T08:33:01.308Z"
   },
   {
    "duration": 241,
    "start_time": "2023-04-14T08:33:01.420Z"
   },
   {
    "duration": 48,
    "start_time": "2023-04-14T08:33:01.662Z"
   },
   {
    "duration": 69,
    "start_time": "2023-04-14T08:33:01.715Z"
   },
   {
    "duration": 574,
    "start_time": "2023-04-14T08:33:01.786Z"
   },
   {
    "duration": 454,
    "start_time": "2023-04-14T08:33:02.362Z"
   },
   {
    "duration": 192,
    "start_time": "2023-04-14T08:33:02.819Z"
   },
   {
    "duration": 246,
    "start_time": "2023-04-14T08:33:03.013Z"
   },
   {
    "duration": 467,
    "start_time": "2023-04-14T08:33:03.261Z"
   },
   {
    "duration": 32,
    "start_time": "2023-04-14T08:33:03.730Z"
   },
   {
    "duration": 61,
    "start_time": "2023-04-14T08:33:03.764Z"
   },
   {
    "duration": 7,
    "start_time": "2023-04-14T08:33:03.827Z"
   },
   {
    "duration": 87,
    "start_time": "2023-04-14T08:33:03.836Z"
   },
   {
    "duration": 42,
    "start_time": "2023-04-14T08:33:03.925Z"
   },
   {
    "duration": 378,
    "start_time": "2023-04-14T08:33:03.969Z"
   },
   {
    "duration": 379,
    "start_time": "2023-04-14T08:33:04.349Z"
   },
   {
    "duration": 1170,
    "start_time": "2023-04-14T08:33:04.730Z"
   },
   {
    "duration": 1062,
    "start_time": "2023-04-14T08:33:05.912Z"
   },
   {
    "duration": 353,
    "start_time": "2023-04-14T08:33:06.975Z"
   },
   {
    "duration": 28,
    "start_time": "2023-04-14T08:33:07.330Z"
   },
   {
    "duration": 8,
    "start_time": "2023-04-14T08:33:07.359Z"
   },
   {
    "duration": 24,
    "start_time": "2023-04-14T08:33:07.369Z"
   },
   {
    "duration": 560,
    "start_time": "2023-04-14T08:33:07.395Z"
   },
   {
    "duration": 617,
    "start_time": "2023-04-14T08:33:07.957Z"
   },
   {
    "duration": 66,
    "start_time": "2023-04-14T08:33:08.575Z"
   },
   {
    "duration": 380,
    "start_time": "2023-04-14T08:33:08.642Z"
   },
   {
    "duration": 393,
    "start_time": "2023-04-14T08:33:09.024Z"
   },
   {
    "duration": 731,
    "start_time": "2023-04-14T08:33:09.419Z"
   },
   {
    "duration": 6,
    "start_time": "2023-04-14T08:33:10.152Z"
   },
   {
    "duration": 51,
    "start_time": "2023-04-14T08:33:10.160Z"
   },
   {
    "duration": 822,
    "start_time": "2023-04-14T08:33:10.213Z"
   },
   {
    "duration": 4,
    "start_time": "2023-04-14T08:33:11.037Z"
   },
   {
    "duration": 8,
    "start_time": "2023-04-14T08:33:11.043Z"
   },
   {
    "duration": 14,
    "start_time": "2023-04-14T08:33:32.887Z"
   },
   {
    "duration": 6,
    "start_time": "2023-04-14T08:33:56.129Z"
   },
   {
    "duration": 2261,
    "start_time": "2023-04-14T08:34:10.783Z"
   },
   {
    "duration": 29,
    "start_time": "2023-04-14T08:34:14.277Z"
   },
   {
    "duration": 27,
    "start_time": "2023-04-14T08:35:52.175Z"
   },
   {
    "duration": 29,
    "start_time": "2023-04-14T08:36:45.492Z"
   },
   {
    "duration": 28,
    "start_time": "2023-04-14T08:36:53.346Z"
   },
   {
    "duration": 617,
    "start_time": "2023-04-14T08:37:16.407Z"
   },
   {
    "duration": 29,
    "start_time": "2023-04-14T08:37:48.238Z"
   },
   {
    "duration": 32,
    "start_time": "2023-04-14T08:37:53.384Z"
   },
   {
    "duration": 26,
    "start_time": "2023-04-14T08:37:58.717Z"
   },
   {
    "duration": 29,
    "start_time": "2023-04-14T08:38:15.316Z"
   },
   {
    "duration": 31,
    "start_time": "2023-04-14T08:38:31.999Z"
   },
   {
    "duration": 37,
    "start_time": "2023-04-14T08:38:51.858Z"
   },
   {
    "duration": 19,
    "start_time": "2023-04-14T08:40:31.690Z"
   },
   {
    "duration": 5,
    "start_time": "2023-04-14T08:41:10.578Z"
   },
   {
    "duration": 18,
    "start_time": "2023-04-14T08:41:13.287Z"
   },
   {
    "duration": 15,
    "start_time": "2023-04-14T08:41:16.871Z"
   },
   {
    "duration": 16,
    "start_time": "2023-04-14T08:41:45.954Z"
   },
   {
    "duration": 17,
    "start_time": "2023-04-14T08:41:49.400Z"
   },
   {
    "duration": 15,
    "start_time": "2023-04-14T08:42:01.571Z"
   },
   {
    "duration": 19,
    "start_time": "2023-04-14T08:42:13.998Z"
   },
   {
    "duration": 38,
    "start_time": "2023-04-14T08:42:43.500Z"
   },
   {
    "duration": 17,
    "start_time": "2023-04-14T08:43:19.424Z"
   },
   {
    "duration": 40,
    "start_time": "2023-04-14T08:43:32.110Z"
   },
   {
    "duration": 23,
    "start_time": "2023-04-14T08:43:35.422Z"
   },
   {
    "duration": 39,
    "start_time": "2023-04-14T08:43:42.601Z"
   },
   {
    "duration": 39,
    "start_time": "2023-04-14T08:43:45.962Z"
   },
   {
    "duration": 52,
    "start_time": "2023-04-14T08:45:40.466Z"
   },
   {
    "duration": 81,
    "start_time": "2023-04-14T08:45:50.315Z"
   },
   {
    "duration": 44,
    "start_time": "2023-04-14T08:45:56.603Z"
   },
   {
    "duration": 41,
    "start_time": "2023-04-14T08:46:02.239Z"
   },
   {
    "duration": 42,
    "start_time": "2023-04-14T08:46:18.423Z"
   },
   {
    "duration": 25,
    "start_time": "2023-04-14T08:46:22.224Z"
   },
   {
    "duration": 40,
    "start_time": "2023-04-14T08:46:34.026Z"
   },
   {
    "duration": 37,
    "start_time": "2023-04-14T08:46:40.669Z"
   },
   {
    "duration": 24,
    "start_time": "2023-04-14T08:46:44.200Z"
   },
   {
    "duration": 31,
    "start_time": "2023-04-14T08:46:53.706Z"
   },
   {
    "duration": 28,
    "start_time": "2023-04-14T08:47:01.103Z"
   },
   {
    "duration": 24,
    "start_time": "2023-04-14T08:47:05.687Z"
   },
   {
    "duration": 326,
    "start_time": "2023-04-14T08:47:17.911Z"
   },
   {
    "duration": 124,
    "start_time": "2023-04-14T08:47:21.966Z"
   },
   {
    "duration": 20,
    "start_time": "2023-04-14T08:47:29.780Z"
   },
   {
    "duration": 4,
    "start_time": "2023-04-14T08:47:40.983Z"
   },
   {
    "duration": 20,
    "start_time": "2023-04-14T08:47:44.525Z"
   },
   {
    "duration": 18,
    "start_time": "2023-04-14T08:47:58.072Z"
   },
   {
    "duration": 40,
    "start_time": "2023-04-14T08:48:09.629Z"
   },
   {
    "duration": 38,
    "start_time": "2023-04-14T08:48:19.263Z"
   },
   {
    "duration": 28,
    "start_time": "2023-04-14T08:48:21.032Z"
   },
   {
    "duration": 29,
    "start_time": "2023-04-14T08:48:35.182Z"
   },
   {
    "duration": 4990,
    "start_time": "2023-04-14T08:48:54.106Z"
   },
   {
    "duration": 25,
    "start_time": "2023-04-14T08:49:04.016Z"
   },
   {
    "duration": 23,
    "start_time": "2023-04-14T08:49:15.064Z"
   },
   {
    "duration": 18,
    "start_time": "2023-04-14T08:50:00.209Z"
   },
   {
    "duration": 54,
    "start_time": "2023-04-14T08:50:26.665Z"
   },
   {
    "duration": 23,
    "start_time": "2023-04-14T08:52:53.765Z"
   },
   {
    "duration": 25,
    "start_time": "2023-04-14T08:53:01.644Z"
   },
   {
    "duration": 25,
    "start_time": "2023-04-14T08:53:11.790Z"
   },
   {
    "duration": 35,
    "start_time": "2023-04-14T08:53:24.884Z"
   },
   {
    "duration": 18,
    "start_time": "2023-04-14T08:53:49.267Z"
   },
   {
    "duration": 4,
    "start_time": "2023-04-14T08:54:56.234Z"
   },
   {
    "duration": 147,
    "start_time": "2023-04-14T08:54:56.244Z"
   },
   {
    "duration": 17,
    "start_time": "2023-04-14T08:54:56.393Z"
   },
   {
    "duration": 66,
    "start_time": "2023-04-14T08:54:56.412Z"
   },
   {
    "duration": 42,
    "start_time": "2023-04-14T08:54:56.480Z"
   },
   {
    "duration": 86,
    "start_time": "2023-04-14T08:54:56.525Z"
   },
   {
    "duration": 19,
    "start_time": "2023-04-14T08:54:56.613Z"
   },
   {
    "duration": 9,
    "start_time": "2023-04-14T08:54:56.635Z"
   },
   {
    "duration": 27,
    "start_time": "2023-04-14T08:54:56.646Z"
   },
   {
    "duration": 25,
    "start_time": "2023-04-14T08:54:56.675Z"
   },
   {
    "duration": 3,
    "start_time": "2023-04-14T08:54:56.702Z"
   },
   {
    "duration": 9,
    "start_time": "2023-04-14T08:54:56.707Z"
   },
   {
    "duration": 11,
    "start_time": "2023-04-14T08:54:56.718Z"
   },
   {
    "duration": 9,
    "start_time": "2023-04-14T08:54:56.731Z"
   },
   {
    "duration": 45,
    "start_time": "2023-04-14T08:54:56.743Z"
   },
   {
    "duration": 68,
    "start_time": "2023-04-14T08:54:56.790Z"
   },
   {
    "duration": 456,
    "start_time": "2023-04-14T08:54:56.860Z"
   },
   {
    "duration": 24,
    "start_time": "2023-04-14T08:54:57.318Z"
   },
   {
    "duration": 42,
    "start_time": "2023-04-14T08:54:57.344Z"
   },
   {
    "duration": 115,
    "start_time": "2023-04-14T08:54:57.389Z"
   },
   {
    "duration": 8,
    "start_time": "2023-04-14T08:54:57.506Z"
   },
   {
    "duration": 63,
    "start_time": "2023-04-14T08:54:57.515Z"
   },
   {
    "duration": 25,
    "start_time": "2023-04-14T08:54:57.580Z"
   },
   {
    "duration": 27,
    "start_time": "2023-04-14T08:54:57.607Z"
   },
   {
    "duration": 36,
    "start_time": "2023-04-14T08:54:57.636Z"
   },
   {
    "duration": 18,
    "start_time": "2023-04-14T08:54:57.674Z"
   },
   {
    "duration": 32,
    "start_time": "2023-04-14T08:54:57.694Z"
   },
   {
    "duration": 58,
    "start_time": "2023-04-14T08:54:57.729Z"
   },
   {
    "duration": 182,
    "start_time": "2023-04-14T08:54:57.790Z"
   },
   {
    "duration": 25,
    "start_time": "2023-04-14T08:54:57.975Z"
   },
   {
    "duration": 45,
    "start_time": "2023-04-14T08:54:58.003Z"
   },
   {
    "duration": 10,
    "start_time": "2023-04-14T08:54:58.050Z"
   },
   {
    "duration": 30,
    "start_time": "2023-04-14T08:54:58.063Z"
   },
   {
    "duration": 21,
    "start_time": "2023-04-14T08:54:58.095Z"
   },
   {
    "duration": 10,
    "start_time": "2023-04-14T08:54:58.118Z"
   },
   {
    "duration": 7,
    "start_time": "2023-04-14T08:54:58.129Z"
   },
   {
    "duration": 9,
    "start_time": "2023-04-14T08:54:58.137Z"
   },
   {
    "duration": 43,
    "start_time": "2023-04-14T08:54:58.148Z"
   },
   {
    "duration": 17,
    "start_time": "2023-04-14T08:54:58.192Z"
   },
   {
    "duration": 30,
    "start_time": "2023-04-14T08:54:58.211Z"
   },
   {
    "duration": 51,
    "start_time": "2023-04-14T08:54:58.243Z"
   },
   {
    "duration": 29,
    "start_time": "2023-04-14T08:54:58.299Z"
   },
   {
    "duration": 6,
    "start_time": "2023-04-14T08:54:58.329Z"
   },
   {
    "duration": 182,
    "start_time": "2023-04-14T08:54:58.337Z"
   },
   {
    "duration": 26,
    "start_time": "2023-04-14T08:54:58.521Z"
   },
   {
    "duration": 16,
    "start_time": "2023-04-14T08:54:58.549Z"
   },
   {
    "duration": 434,
    "start_time": "2023-04-14T08:54:58.567Z"
   },
   {
    "duration": 430,
    "start_time": "2023-04-14T08:54:59.003Z"
   },
   {
    "duration": 230,
    "start_time": "2023-04-14T08:54:59.435Z"
   },
   {
    "duration": 244,
    "start_time": "2023-04-14T08:54:59.667Z"
   },
   {
    "duration": 406,
    "start_time": "2023-04-14T08:54:59.913Z"
   },
   {
    "duration": 30,
    "start_time": "2023-04-14T08:55:00.321Z"
   },
   {
    "duration": 83,
    "start_time": "2023-04-14T08:55:00.354Z"
   },
   {
    "duration": 25,
    "start_time": "2023-04-14T08:55:00.439Z"
   },
   {
    "duration": 105,
    "start_time": "2023-04-14T08:55:00.466Z"
   },
   {
    "duration": 50,
    "start_time": "2023-04-14T08:55:00.574Z"
   },
   {
    "duration": 430,
    "start_time": "2023-04-14T08:55:00.627Z"
   },
   {
    "duration": 355,
    "start_time": "2023-04-14T08:55:01.059Z"
   },
   {
    "duration": 925,
    "start_time": "2023-04-14T08:55:01.416Z"
   },
   {
    "duration": 997,
    "start_time": "2023-04-14T08:55:02.344Z"
   },
   {
    "duration": 317,
    "start_time": "2023-04-14T08:55:03.343Z"
   },
   {
    "duration": 42,
    "start_time": "2023-04-14T08:55:03.662Z"
   },
   {
    "duration": 9,
    "start_time": "2023-04-14T08:55:03.706Z"
   },
   {
    "duration": 10,
    "start_time": "2023-04-14T08:55:03.717Z"
   },
   {
    "duration": 578,
    "start_time": "2023-04-14T08:55:03.729Z"
   },
   {
    "duration": 599,
    "start_time": "2023-04-14T08:55:04.309Z"
   },
   {
    "duration": 377,
    "start_time": "2023-04-14T08:55:04.910Z"
   },
   {
    "duration": 327,
    "start_time": "2023-04-14T08:55:05.289Z"
   },
   {
    "duration": 342,
    "start_time": "2023-04-14T08:55:05.618Z"
   },
   {
    "duration": 48,
    "start_time": "2023-04-14T08:55:05.962Z"
   },
   {
    "duration": 568,
    "start_time": "2023-04-14T08:55:06.012Z"
   },
   {
    "duration": 5,
    "start_time": "2023-04-14T08:55:06.588Z"
   },
   {
    "duration": 36,
    "start_time": "2023-04-14T08:55:06.595Z"
   },
   {
    "duration": 598,
    "start_time": "2023-04-14T08:55:06.633Z"
   },
   {
    "duration": 5,
    "start_time": "2023-04-14T08:55:07.233Z"
   },
   {
    "duration": 29,
    "start_time": "2023-04-14T08:55:07.239Z"
   },
   {
    "duration": 30,
    "start_time": "2023-04-14T08:56:05.425Z"
   },
   {
    "duration": 55,
    "start_time": "2023-04-14T08:56:11.934Z"
   },
   {
    "duration": 23,
    "start_time": "2023-04-14T08:56:17.307Z"
   },
   {
    "duration": 531,
    "start_time": "2023-04-14T08:56:27.389Z"
   },
   {
    "duration": 5,
    "start_time": "2023-04-14T08:56:34.641Z"
   },
   {
    "duration": 6,
    "start_time": "2023-04-14T08:56:55.855Z"
   },
   {
    "duration": 28,
    "start_time": "2023-04-14T08:57:21.768Z"
   },
   {
    "duration": 28,
    "start_time": "2023-04-14T08:57:29.614Z"
   },
   {
    "duration": 25,
    "start_time": "2023-04-14T08:57:35.128Z"
   },
   {
    "duration": 5,
    "start_time": "2023-04-14T08:59:45.509Z"
   },
   {
    "duration": 125,
    "start_time": "2023-04-14T08:59:45.516Z"
   },
   {
    "duration": 12,
    "start_time": "2023-04-14T08:59:45.644Z"
   },
   {
    "duration": 51,
    "start_time": "2023-04-14T08:59:45.658Z"
   },
   {
    "duration": 33,
    "start_time": "2023-04-14T08:59:45.711Z"
   },
   {
    "duration": 105,
    "start_time": "2023-04-14T08:59:45.745Z"
   },
   {
    "duration": 19,
    "start_time": "2023-04-14T08:59:45.852Z"
   },
   {
    "duration": 15,
    "start_time": "2023-04-14T08:59:45.873Z"
   },
   {
    "duration": 23,
    "start_time": "2023-04-14T08:59:45.890Z"
   },
   {
    "duration": 24,
    "start_time": "2023-04-14T08:59:45.914Z"
   },
   {
    "duration": 3,
    "start_time": "2023-04-14T08:59:45.941Z"
   },
   {
    "duration": 12,
    "start_time": "2023-04-14T08:59:45.945Z"
   },
   {
    "duration": 9,
    "start_time": "2023-04-14T08:59:45.959Z"
   },
   {
    "duration": 5,
    "start_time": "2023-04-14T08:59:45.969Z"
   },
   {
    "duration": 20,
    "start_time": "2023-04-14T08:59:45.988Z"
   },
   {
    "duration": 56,
    "start_time": "2023-04-14T08:59:46.010Z"
   },
   {
    "duration": 487,
    "start_time": "2023-04-14T08:59:46.068Z"
   },
   {
    "duration": 21,
    "start_time": "2023-04-14T08:59:46.557Z"
   },
   {
    "duration": 12,
    "start_time": "2023-04-14T08:59:46.587Z"
   },
   {
    "duration": 47,
    "start_time": "2023-04-14T08:59:46.601Z"
   },
   {
    "duration": 8,
    "start_time": "2023-04-14T08:59:46.650Z"
   },
   {
    "duration": 61,
    "start_time": "2023-04-14T08:59:46.659Z"
   },
   {
    "duration": 4,
    "start_time": "2023-04-14T08:59:46.722Z"
   },
   {
    "duration": 9,
    "start_time": "2023-04-14T08:59:46.727Z"
   },
   {
    "duration": 19,
    "start_time": "2023-04-14T08:59:46.738Z"
   },
   {
    "duration": 38,
    "start_time": "2023-04-14T08:59:46.759Z"
   },
   {
    "duration": 32,
    "start_time": "2023-04-14T08:59:46.799Z"
   },
   {
    "duration": 23,
    "start_time": "2023-04-14T08:59:46.833Z"
   },
   {
    "duration": 193,
    "start_time": "2023-04-14T08:59:46.861Z"
   },
   {
    "duration": 11,
    "start_time": "2023-04-14T08:59:47.056Z"
   },
   {
    "duration": 32,
    "start_time": "2023-04-14T08:59:47.069Z"
   },
   {
    "duration": 7,
    "start_time": "2023-04-14T08:59:47.103Z"
   },
   {
    "duration": 219,
    "start_time": "2023-04-14T08:59:47.111Z"
   },
   {
    "duration": 28,
    "start_time": "2023-04-14T08:59:47.332Z"
   },
   {
    "duration": 10,
    "start_time": "2023-04-14T08:59:47.362Z"
   },
   {
    "duration": 15,
    "start_time": "2023-04-14T08:59:47.373Z"
   },
   {
    "duration": 9,
    "start_time": "2023-04-14T08:59:47.390Z"
   },
   {
    "duration": 22,
    "start_time": "2023-04-14T08:59:47.401Z"
   },
   {
    "duration": 17,
    "start_time": "2023-04-14T08:59:47.425Z"
   },
   {
    "duration": 25,
    "start_time": "2023-04-14T08:59:47.444Z"
   },
   {
    "duration": 45,
    "start_time": "2023-04-14T08:59:47.471Z"
   },
   {
    "duration": 28,
    "start_time": "2023-04-14T08:59:47.518Z"
   },
   {
    "duration": 4,
    "start_time": "2023-04-14T08:59:47.548Z"
   },
   {
    "duration": 161,
    "start_time": "2023-04-14T08:59:47.554Z"
   },
   {
    "duration": 26,
    "start_time": "2023-04-14T08:59:47.717Z"
   },
   {
    "duration": 11,
    "start_time": "2023-04-14T08:59:47.745Z"
   },
   {
    "duration": 402,
    "start_time": "2023-04-14T08:59:47.757Z"
   },
   {
    "duration": 405,
    "start_time": "2023-04-14T08:59:48.161Z"
   },
   {
    "duration": 163,
    "start_time": "2023-04-14T08:59:48.568Z"
   },
   {
    "duration": 238,
    "start_time": "2023-04-14T08:59:48.733Z"
   },
   {
    "duration": 405,
    "start_time": "2023-04-14T08:59:48.972Z"
   },
   {
    "duration": 31,
    "start_time": "2023-04-14T08:59:49.379Z"
   },
   {
    "duration": 35,
    "start_time": "2023-04-14T08:59:49.412Z"
   },
   {
    "duration": 7,
    "start_time": "2023-04-14T08:59:49.449Z"
   },
   {
    "duration": 80,
    "start_time": "2023-04-14T08:59:49.458Z"
   },
   {
    "duration": 36,
    "start_time": "2023-04-14T08:59:49.540Z"
   },
   {
    "duration": 325,
    "start_time": "2023-04-14T08:59:49.587Z"
   },
   {
    "duration": 332,
    "start_time": "2023-04-14T08:59:49.914Z"
   },
   {
    "duration": 1021,
    "start_time": "2023-04-14T08:59:50.248Z"
   },
   {
    "duration": 1556,
    "start_time": "2023-04-14T08:59:51.271Z"
   },
   {
    "duration": 673,
    "start_time": "2023-04-14T08:59:52.830Z"
   },
   {
    "duration": 82,
    "start_time": "2023-04-14T08:59:53.505Z"
   },
   {
    "duration": 9,
    "start_time": "2023-04-14T08:59:53.589Z"
   },
   {
    "duration": 14,
    "start_time": "2023-04-14T08:59:53.599Z"
   },
   {
    "duration": 598,
    "start_time": "2023-04-14T08:59:53.614Z"
   },
   {
    "duration": 541,
    "start_time": "2023-04-14T08:59:54.214Z"
   },
   {
    "duration": 59,
    "start_time": "2023-04-14T08:59:54.758Z"
   },
   {
    "duration": 316,
    "start_time": "2023-04-14T08:59:54.819Z"
   },
   {
    "duration": 314,
    "start_time": "2023-04-14T08:59:55.137Z"
   },
   {
    "duration": 34,
    "start_time": "2023-04-14T08:59:55.453Z"
   },
   {
    "duration": 770,
    "start_time": "2023-04-14T08:59:55.489Z"
   },
   {
    "duration": 6,
    "start_time": "2023-04-14T08:59:56.261Z"
   },
   {
    "duration": 592,
    "start_time": "2023-04-14T08:59:56.268Z"
   },
   {
    "duration": 4,
    "start_time": "2023-04-14T08:59:56.862Z"
   },
   {
    "duration": 21,
    "start_time": "2023-04-14T08:59:56.868Z"
   },
   {
    "duration": 3,
    "start_time": "2023-04-14T09:13:21.398Z"
   },
   {
    "duration": 23,
    "start_time": "2023-04-14T09:31:20.980Z"
   },
   {
    "duration": 5,
    "start_time": "2023-04-14T09:33:11.755Z"
   },
   {
    "duration": 32,
    "start_time": "2023-04-14T09:33:37.110Z"
   },
   {
    "duration": 35,
    "start_time": "2023-04-14T09:33:47.184Z"
   },
   {
    "duration": 25,
    "start_time": "2023-04-14T09:34:15.080Z"
   },
   {
    "duration": 216,
    "start_time": "2023-04-14T09:35:35.317Z"
   },
   {
    "duration": 26,
    "start_time": "2023-04-14T09:35:39.203Z"
   },
   {
    "duration": 42,
    "start_time": "2023-04-14T09:35:44.027Z"
   },
   {
    "duration": 44,
    "start_time": "2023-04-14T09:36:14.754Z"
   },
   {
    "duration": 63,
    "start_time": "2023-04-14T09:38:13.338Z"
   },
   {
    "duration": 92,
    "start_time": "2023-04-14T09:38:18.378Z"
   },
   {
    "duration": 11,
    "start_time": "2023-04-14T09:39:53.335Z"
   },
   {
    "duration": 9,
    "start_time": "2023-04-14T09:40:00.361Z"
   },
   {
    "duration": 1911,
    "start_time": "2023-04-14T09:40:04.112Z"
   },
   {
    "duration": 1938,
    "start_time": "2023-04-14T09:40:25.244Z"
   },
   {
    "duration": 1931,
    "start_time": "2023-04-14T09:40:36.086Z"
   },
   {
    "duration": 4,
    "start_time": "2023-04-14T09:41:08.554Z"
   },
   {
    "duration": 1997,
    "start_time": "2023-04-14T09:42:05.229Z"
   },
   {
    "duration": 60,
    "start_time": "2023-04-14T09:43:52.373Z"
   },
   {
    "duration": 2076,
    "start_time": "2023-04-14T09:43:54.476Z"
   },
   {
    "duration": 4,
    "start_time": "2023-04-14T09:56:04.379Z"
   },
   {
    "duration": 122,
    "start_time": "2023-04-14T09:56:04.389Z"
   },
   {
    "duration": 12,
    "start_time": "2023-04-14T09:56:04.513Z"
   },
   {
    "duration": 34,
    "start_time": "2023-04-14T09:56:04.526Z"
   },
   {
    "duration": 49,
    "start_time": "2023-04-14T09:56:04.562Z"
   },
   {
    "duration": 94,
    "start_time": "2023-04-14T09:56:04.613Z"
   },
   {
    "duration": 19,
    "start_time": "2023-04-14T09:56:04.708Z"
   },
   {
    "duration": 9,
    "start_time": "2023-04-14T09:56:04.729Z"
   },
   {
    "duration": 22,
    "start_time": "2023-04-14T09:56:04.739Z"
   },
   {
    "duration": 29,
    "start_time": "2023-04-14T09:56:04.763Z"
   },
   {
    "duration": 3,
    "start_time": "2023-04-14T09:56:04.794Z"
   },
   {
    "duration": 8,
    "start_time": "2023-04-14T09:56:04.799Z"
   },
   {
    "duration": 14,
    "start_time": "2023-04-14T09:56:04.808Z"
   },
   {
    "duration": 212,
    "start_time": "2023-04-14T09:56:04.823Z"
   },
   {
    "duration": 124,
    "start_time": "2023-04-14T09:56:05.039Z"
   },
   {
    "duration": 69,
    "start_time": "2023-04-14T09:56:05.164Z"
   },
   {
    "duration": 476,
    "start_time": "2023-04-14T09:56:05.234Z"
   },
   {
    "duration": 21,
    "start_time": "2023-04-14T09:56:05.712Z"
   },
   {
    "duration": 13,
    "start_time": "2023-04-14T09:56:05.735Z"
   },
   {
    "duration": 71,
    "start_time": "2023-04-14T09:56:05.750Z"
   },
   {
    "duration": 8,
    "start_time": "2023-04-14T09:56:05.823Z"
   },
   {
    "duration": 57,
    "start_time": "2023-04-14T09:56:05.832Z"
   },
   {
    "duration": 4,
    "start_time": "2023-04-14T09:56:05.891Z"
   },
   {
    "duration": 24,
    "start_time": "2023-04-14T09:56:05.896Z"
   },
   {
    "duration": 21,
    "start_time": "2023-04-14T09:56:05.922Z"
   },
   {
    "duration": 23,
    "start_time": "2023-04-14T09:56:05.945Z"
   },
   {
    "duration": 31,
    "start_time": "2023-04-14T09:56:05.969Z"
   },
   {
    "duration": 22,
    "start_time": "2023-04-14T09:56:06.002Z"
   },
   {
    "duration": 183,
    "start_time": "2023-04-14T09:56:06.025Z"
   },
   {
    "duration": 10,
    "start_time": "2023-04-14T09:56:06.210Z"
   },
   {
    "duration": 32,
    "start_time": "2023-04-14T09:56:06.222Z"
   },
   {
    "duration": 8,
    "start_time": "2023-04-14T09:56:06.256Z"
   },
   {
    "duration": 48,
    "start_time": "2023-04-14T09:56:06.266Z"
   },
   {
    "duration": 28,
    "start_time": "2023-04-14T09:56:06.316Z"
   },
   {
    "duration": 9,
    "start_time": "2023-04-14T09:56:06.346Z"
   },
   {
    "duration": 17,
    "start_time": "2023-04-14T09:56:06.357Z"
   },
   {
    "duration": 11,
    "start_time": "2023-04-14T09:56:06.375Z"
   },
   {
    "duration": 20,
    "start_time": "2023-04-14T09:56:06.388Z"
   },
   {
    "duration": 17,
    "start_time": "2023-04-14T09:56:06.411Z"
   },
   {
    "duration": 60,
    "start_time": "2023-04-14T09:56:06.431Z"
   },
   {
    "duration": 39,
    "start_time": "2023-04-14T09:56:06.493Z"
   },
   {
    "duration": 28,
    "start_time": "2023-04-14T09:56:06.538Z"
   },
   {
    "duration": 23,
    "start_time": "2023-04-14T09:56:06.567Z"
   },
   {
    "duration": 162,
    "start_time": "2023-04-14T09:56:06.592Z"
   },
   {
    "duration": 41,
    "start_time": "2023-04-14T09:56:06.755Z"
   },
   {
    "duration": 14,
    "start_time": "2023-04-14T09:56:06.799Z"
   },
   {
    "duration": 406,
    "start_time": "2023-04-14T09:56:06.815Z"
   },
   {
    "duration": 393,
    "start_time": "2023-04-14T09:56:07.223Z"
   },
   {
    "duration": 170,
    "start_time": "2023-04-14T09:56:07.617Z"
   },
   {
    "duration": 213,
    "start_time": "2023-04-14T09:56:07.789Z"
   },
   {
    "duration": 403,
    "start_time": "2023-04-14T09:56:08.004Z"
   },
   {
    "duration": 31,
    "start_time": "2023-04-14T09:56:08.409Z"
   },
   {
    "duration": 51,
    "start_time": "2023-04-14T09:56:08.441Z"
   },
   {
    "duration": 6,
    "start_time": "2023-04-14T09:56:08.493Z"
   },
   {
    "duration": 91,
    "start_time": "2023-04-14T09:56:08.501Z"
   },
   {
    "duration": 37,
    "start_time": "2023-04-14T09:56:08.593Z"
   },
   {
    "duration": 328,
    "start_time": "2023-04-14T09:56:08.631Z"
   },
   {
    "duration": 308,
    "start_time": "2023-04-14T09:56:08.960Z"
   },
   {
    "duration": 1062,
    "start_time": "2023-04-14T09:56:09.270Z"
   },
   {
    "duration": 968,
    "start_time": "2023-04-14T09:56:10.333Z"
   },
   {
    "duration": 304,
    "start_time": "2023-04-14T09:56:11.303Z"
   },
   {
    "duration": 24,
    "start_time": "2023-04-14T09:56:11.609Z"
   },
   {
    "duration": 7,
    "start_time": "2023-04-14T09:56:11.635Z"
   },
   {
    "duration": 10,
    "start_time": "2023-04-14T09:56:11.644Z"
   },
   {
    "duration": 503,
    "start_time": "2023-04-14T09:56:11.656Z"
   },
   {
    "duration": 550,
    "start_time": "2023-04-14T09:56:12.161Z"
   },
   {
    "duration": 300,
    "start_time": "2023-04-14T09:56:12.713Z"
   },
   {
    "duration": 306,
    "start_time": "2023-04-14T09:56:13.015Z"
   },
   {
    "duration": 332,
    "start_time": "2023-04-14T09:56:13.323Z"
   },
   {
    "duration": 9,
    "start_time": "2023-04-14T09:56:13.656Z"
   },
   {
    "duration": 72,
    "start_time": "2023-04-14T09:56:13.666Z"
   },
   {
    "duration": 1957,
    "start_time": "2023-04-14T09:56:13.740Z"
   },
   {
    "duration": 24,
    "start_time": "2023-04-14T09:56:15.700Z"
   },
   {
    "duration": 526,
    "start_time": "2023-04-14T09:56:15.726Z"
   },
   {
    "duration": 6,
    "start_time": "2023-04-14T09:56:16.255Z"
   },
   {
    "duration": 593,
    "start_time": "2023-04-14T09:56:16.263Z"
   },
   {
    "duration": 5,
    "start_time": "2023-04-14T09:56:16.858Z"
   },
   {
    "duration": 14,
    "start_time": "2023-04-14T09:56:16.864Z"
   },
   {
    "duration": 92,
    "start_time": "2023-04-14T10:06:21.620Z"
   },
   {
    "duration": 1474,
    "start_time": "2023-04-14T14:54:43.980Z"
   },
   {
    "duration": 211,
    "start_time": "2023-04-14T14:54:45.456Z"
   },
   {
    "duration": 17,
    "start_time": "2023-04-14T14:54:45.669Z"
   },
   {
    "duration": 40,
    "start_time": "2023-04-14T14:54:45.689Z"
   },
   {
    "duration": 32,
    "start_time": "2023-04-14T14:54:45.731Z"
   },
   {
    "duration": 87,
    "start_time": "2023-04-14T14:54:45.764Z"
   },
   {
    "duration": 76,
    "start_time": "2023-04-14T14:54:45.853Z"
   },
   {
    "duration": 8,
    "start_time": "2023-04-14T14:54:45.930Z"
   },
   {
    "duration": 13,
    "start_time": "2023-04-14T14:54:45.940Z"
   },
   {
    "duration": 16,
    "start_time": "2023-04-14T14:54:45.955Z"
   },
   {
    "duration": 3,
    "start_time": "2023-04-14T14:54:45.973Z"
   },
   {
    "duration": 6,
    "start_time": "2023-04-14T14:54:45.977Z"
   },
   {
    "duration": 20,
    "start_time": "2023-04-14T14:54:45.984Z"
   },
   {
    "duration": 5,
    "start_time": "2023-04-14T14:54:46.016Z"
   },
   {
    "duration": 29,
    "start_time": "2023-04-14T14:54:46.022Z"
   },
   {
    "duration": 64,
    "start_time": "2023-04-14T14:54:46.053Z"
   },
   {
    "duration": 241,
    "start_time": "2023-04-14T14:54:46.121Z"
   },
   {
    "duration": 36,
    "start_time": "2023-04-14T14:54:46.365Z"
   },
   {
    "duration": 15,
    "start_time": "2023-04-14T14:54:46.404Z"
   },
   {
    "duration": 54,
    "start_time": "2023-04-14T14:54:46.421Z"
   },
   {
    "duration": 21,
    "start_time": "2023-04-14T14:54:46.477Z"
   },
   {
    "duration": 45,
    "start_time": "2023-04-14T14:54:46.499Z"
   },
   {
    "duration": 4,
    "start_time": "2023-04-14T14:54:46.545Z"
   },
   {
    "duration": 10,
    "start_time": "2023-04-14T14:54:46.551Z"
   },
   {
    "duration": 16,
    "start_time": "2023-04-14T14:54:46.564Z"
   },
   {
    "duration": 30,
    "start_time": "2023-04-14T14:54:46.582Z"
   },
   {
    "duration": 25,
    "start_time": "2023-04-14T14:54:46.619Z"
   },
   {
    "duration": 21,
    "start_time": "2023-04-14T14:54:46.648Z"
   },
   {
    "duration": 193,
    "start_time": "2023-04-14T14:54:46.670Z"
   },
   {
    "duration": 10,
    "start_time": "2023-04-14T14:54:46.865Z"
   },
   {
    "duration": 24,
    "start_time": "2023-04-14T14:54:46.890Z"
   },
   {
    "duration": 7,
    "start_time": "2023-04-14T14:54:46.916Z"
   },
   {
    "duration": 35,
    "start_time": "2023-04-14T14:54:46.925Z"
   },
   {
    "duration": 39,
    "start_time": "2023-04-14T14:54:46.961Z"
   },
   {
    "duration": 14,
    "start_time": "2023-04-14T14:54:47.001Z"
   },
   {
    "duration": 13,
    "start_time": "2023-04-14T14:54:47.017Z"
   },
   {
    "duration": 21,
    "start_time": "2023-04-14T14:54:47.032Z"
   },
   {
    "duration": 26,
    "start_time": "2023-04-14T14:54:47.054Z"
   },
   {
    "duration": 24,
    "start_time": "2023-04-14T14:54:47.082Z"
   },
   {
    "duration": 29,
    "start_time": "2023-04-14T14:54:47.108Z"
   },
   {
    "duration": 27,
    "start_time": "2023-04-14T14:54:47.138Z"
   },
   {
    "duration": 46,
    "start_time": "2023-04-14T14:54:47.167Z"
   },
   {
    "duration": 5,
    "start_time": "2023-04-14T14:54:47.215Z"
   },
   {
    "duration": 162,
    "start_time": "2023-04-14T14:54:47.222Z"
   },
   {
    "duration": 33,
    "start_time": "2023-04-14T14:54:47.385Z"
   },
   {
    "duration": 11,
    "start_time": "2023-04-14T14:54:47.421Z"
   },
   {
    "duration": 500,
    "start_time": "2023-04-14T14:54:47.434Z"
   },
   {
    "duration": 514,
    "start_time": "2023-04-14T14:54:47.936Z"
   },
   {
    "duration": 178,
    "start_time": "2023-04-14T14:54:48.452Z"
   },
   {
    "duration": 240,
    "start_time": "2023-04-14T14:54:48.632Z"
   },
   {
    "duration": 823,
    "start_time": "2023-04-14T14:54:48.874Z"
   },
   {
    "duration": 37,
    "start_time": "2023-04-14T14:54:49.698Z"
   },
   {
    "duration": 92,
    "start_time": "2023-04-14T14:54:49.736Z"
   },
   {
    "duration": 81,
    "start_time": "2023-04-14T14:54:49.830Z"
   },
   {
    "duration": 98,
    "start_time": "2023-04-14T14:54:49.914Z"
   },
   {
    "duration": 104,
    "start_time": "2023-04-14T14:54:50.014Z"
   },
   {
    "duration": 889,
    "start_time": "2023-04-14T14:54:50.119Z"
   },
   {
    "duration": 629,
    "start_time": "2023-04-14T14:54:51.010Z"
   },
   {
    "duration": 1025,
    "start_time": "2023-04-14T14:54:51.640Z"
   },
   {
    "duration": 1074,
    "start_time": "2023-04-14T14:54:52.666Z"
   },
   {
    "duration": 332,
    "start_time": "2023-04-14T14:54:53.742Z"
   },
   {
    "duration": 43,
    "start_time": "2023-04-14T14:54:54.075Z"
   },
   {
    "duration": 8,
    "start_time": "2023-04-14T14:54:54.121Z"
   },
   {
    "duration": 11,
    "start_time": "2023-04-14T14:54:54.130Z"
   },
   {
    "duration": 565,
    "start_time": "2023-04-14T14:54:54.142Z"
   },
   {
    "duration": 573,
    "start_time": "2023-04-14T14:54:54.709Z"
   },
   {
    "duration": 57,
    "start_time": "2023-04-14T14:54:55.284Z"
   },
   {
    "duration": 329,
    "start_time": "2023-04-14T14:54:55.343Z"
   },
   {
    "duration": 363,
    "start_time": "2023-04-14T14:54:55.674Z"
   },
   {
    "duration": 8,
    "start_time": "2023-04-14T14:54:56.039Z"
   },
   {
    "duration": 82,
    "start_time": "2023-04-14T14:54:56.049Z"
   },
   {
    "duration": 2049,
    "start_time": "2023-04-14T14:54:56.133Z"
   },
   {
    "duration": 35,
    "start_time": "2023-04-14T14:54:58.184Z"
   },
   {
    "duration": 646,
    "start_time": "2023-04-14T14:54:58.221Z"
   },
   {
    "duration": 8,
    "start_time": "2023-04-14T14:54:58.868Z"
   },
   {
    "duration": 616,
    "start_time": "2023-04-14T14:54:58.877Z"
   },
   {
    "duration": 12,
    "start_time": "2023-04-14T14:54:59.502Z"
   },
   {
    "duration": 7,
    "start_time": "2023-04-14T14:54:59.518Z"
   },
   {
    "duration": 113,
    "start_time": "2023-04-14T14:57:47.416Z"
   },
   {
    "duration": 1288,
    "start_time": "2023-04-14T14:57:54.870Z"
   },
   {
    "duration": 126,
    "start_time": "2023-04-14T14:57:56.160Z"
   },
   {
    "duration": 21,
    "start_time": "2023-04-14T14:57:56.288Z"
   },
   {
    "duration": 29,
    "start_time": "2023-04-14T14:57:56.312Z"
   },
   {
    "duration": 62,
    "start_time": "2023-04-14T14:57:56.343Z"
   },
   {
    "duration": 69,
    "start_time": "2023-04-14T14:57:56.406Z"
   },
   {
    "duration": 19,
    "start_time": "2023-04-14T14:57:56.477Z"
   },
   {
    "duration": 9,
    "start_time": "2023-04-14T14:57:56.498Z"
   },
   {
    "duration": 14,
    "start_time": "2023-04-14T14:57:56.509Z"
   },
   {
    "duration": 16,
    "start_time": "2023-04-14T14:57:56.526Z"
   },
   {
    "duration": 4,
    "start_time": "2023-04-14T14:57:56.544Z"
   },
   {
    "duration": 4,
    "start_time": "2023-04-14T14:57:56.550Z"
   },
   {
    "duration": 37,
    "start_time": "2023-04-14T14:57:56.556Z"
   },
   {
    "duration": 10,
    "start_time": "2023-04-14T14:57:56.594Z"
   },
   {
    "duration": 29,
    "start_time": "2023-04-14T14:57:56.605Z"
   },
   {
    "duration": 65,
    "start_time": "2023-04-14T14:57:56.636Z"
   },
   {
    "duration": 218,
    "start_time": "2023-04-14T14:57:56.702Z"
   },
   {
    "duration": 27,
    "start_time": "2023-04-14T14:57:56.922Z"
   },
   {
    "duration": 8,
    "start_time": "2023-04-14T14:57:56.951Z"
   },
   {
    "duration": 74,
    "start_time": "2023-04-14T14:57:56.961Z"
   },
   {
    "duration": 9,
    "start_time": "2023-04-14T14:57:57.037Z"
   },
   {
    "duration": 61,
    "start_time": "2023-04-14T14:57:57.048Z"
   },
   {
    "duration": 5,
    "start_time": "2023-04-14T14:57:57.110Z"
   },
   {
    "duration": 11,
    "start_time": "2023-04-14T14:57:57.117Z"
   },
   {
    "duration": 20,
    "start_time": "2023-04-14T14:57:57.130Z"
   },
   {
    "duration": 16,
    "start_time": "2023-04-14T14:57:57.152Z"
   },
   {
    "duration": 43,
    "start_time": "2023-04-14T14:57:57.169Z"
   },
   {
    "duration": 21,
    "start_time": "2023-04-14T14:57:57.219Z"
   },
   {
    "duration": 200,
    "start_time": "2023-04-14T14:57:57.241Z"
   },
   {
    "duration": 11,
    "start_time": "2023-04-14T14:57:57.444Z"
   },
   {
    "duration": 42,
    "start_time": "2023-04-14T14:57:57.457Z"
   },
   {
    "duration": 9,
    "start_time": "2023-04-14T14:57:57.503Z"
   },
   {
    "duration": 27,
    "start_time": "2023-04-14T14:57:57.515Z"
   },
   {
    "duration": 23,
    "start_time": "2023-04-14T14:57:57.544Z"
   },
   {
    "duration": 8,
    "start_time": "2023-04-14T14:57:57.569Z"
   },
   {
    "duration": 11,
    "start_time": "2023-04-14T14:57:57.589Z"
   },
   {
    "duration": 14,
    "start_time": "2023-04-14T14:57:57.602Z"
   },
   {
    "duration": 16,
    "start_time": "2023-04-14T14:57:57.618Z"
   },
   {
    "duration": 15,
    "start_time": "2023-04-14T14:57:57.636Z"
   },
   {
    "duration": 40,
    "start_time": "2023-04-14T14:57:57.652Z"
   },
   {
    "duration": 44,
    "start_time": "2023-04-14T14:57:57.694Z"
   },
   {
    "duration": 30,
    "start_time": "2023-04-14T14:57:57.739Z"
   },
   {
    "duration": 21,
    "start_time": "2023-04-14T14:57:57.771Z"
   },
   {
    "duration": 176,
    "start_time": "2023-04-14T14:57:57.793Z"
   },
   {
    "duration": 43,
    "start_time": "2023-04-14T14:57:57.971Z"
   },
   {
    "duration": 12,
    "start_time": "2023-04-14T14:57:58.017Z"
   },
   {
    "duration": 513,
    "start_time": "2023-04-14T14:57:58.031Z"
   },
   {
    "duration": 502,
    "start_time": "2023-04-14T14:57:58.546Z"
   },
   {
    "duration": 184,
    "start_time": "2023-04-14T14:57:59.049Z"
   },
   {
    "duration": 244,
    "start_time": "2023-04-14T14:57:59.235Z"
   },
   {
    "duration": 465,
    "start_time": "2023-04-14T14:57:59.481Z"
   },
   {
    "duration": 30,
    "start_time": "2023-04-14T14:57:59.948Z"
   },
   {
    "duration": 52,
    "start_time": "2023-04-14T14:57:59.980Z"
   },
   {
    "duration": 7,
    "start_time": "2023-04-14T14:58:00.034Z"
   },
   {
    "duration": 81,
    "start_time": "2023-04-14T14:58:00.043Z"
   },
   {
    "duration": 42,
    "start_time": "2023-04-14T14:58:00.126Z"
   },
   {
    "duration": 434,
    "start_time": "2023-04-14T14:58:00.170Z"
   },
   {
    "duration": 396,
    "start_time": "2023-04-14T14:58:00.614Z"
   },
   {
    "duration": 996,
    "start_time": "2023-04-14T14:58:01.016Z"
   },
   {
    "duration": 1161,
    "start_time": "2023-04-14T14:58:02.017Z"
   },
   {
    "duration": 399,
    "start_time": "2023-04-14T14:58:03.179Z"
   },
   {
    "duration": 45,
    "start_time": "2023-04-14T14:58:03.580Z"
   },
   {
    "duration": 11,
    "start_time": "2023-04-14T14:58:03.627Z"
   },
   {
    "duration": 14,
    "start_time": "2023-04-14T14:58:03.640Z"
   },
   {
    "duration": 628,
    "start_time": "2023-04-14T14:58:03.656Z"
   },
   {
    "duration": 626,
    "start_time": "2023-04-14T14:58:04.285Z"
   },
   {
    "duration": 57,
    "start_time": "2023-04-14T14:58:04.921Z"
   },
   {
    "duration": 346,
    "start_time": "2023-04-14T14:58:04.980Z"
   },
   {
    "duration": 341,
    "start_time": "2023-04-14T14:58:05.329Z"
   },
   {
    "duration": 7,
    "start_time": "2023-04-14T14:58:05.672Z"
   },
   {
    "duration": 94,
    "start_time": "2023-04-14T14:58:05.681Z"
   },
   {
    "duration": 120,
    "start_time": "2023-04-14T14:58:05.777Z"
   },
   {
    "duration": 0,
    "start_time": "2023-04-14T14:58:05.898Z"
   },
   {
    "duration": 0,
    "start_time": "2023-04-14T14:58:05.899Z"
   },
   {
    "duration": 0,
    "start_time": "2023-04-14T14:58:05.905Z"
   },
   {
    "duration": 0,
    "start_time": "2023-04-14T14:58:05.906Z"
   },
   {
    "duration": 0,
    "start_time": "2023-04-14T14:58:05.906Z"
   },
   {
    "duration": 0,
    "start_time": "2023-04-14T14:58:05.907Z"
   },
   {
    "duration": 0,
    "start_time": "2023-04-14T14:58:05.908Z"
   },
   {
    "duration": 2208,
    "start_time": "2023-04-14T14:58:13.213Z"
   },
   {
    "duration": 28,
    "start_time": "2023-04-14T14:58:20.563Z"
   },
   {
    "duration": 57,
    "start_time": "2023-04-14T15:02:31.312Z"
   },
   {
    "duration": 5,
    "start_time": "2023-04-14T15:03:08.944Z"
   },
   {
    "duration": 47,
    "start_time": "2023-04-14T15:03:39.313Z"
   },
   {
    "duration": 26,
    "start_time": "2023-04-14T15:04:46.026Z"
   },
   {
    "duration": 21,
    "start_time": "2023-04-14T15:05:16.826Z"
   },
   {
    "duration": 1255,
    "start_time": "2023-04-15T03:04:03.104Z"
   },
   {
    "duration": 432,
    "start_time": "2023-04-15T03:04:04.361Z"
   },
   {
    "duration": 15,
    "start_time": "2023-04-15T03:04:04.795Z"
   },
   {
    "duration": 24,
    "start_time": "2023-04-15T03:04:04.813Z"
   },
   {
    "duration": 40,
    "start_time": "2023-04-15T03:04:04.839Z"
   },
   {
    "duration": 59,
    "start_time": "2023-04-15T03:04:04.881Z"
   },
   {
    "duration": 72,
    "start_time": "2023-04-15T03:04:04.942Z"
   },
   {
    "duration": 7,
    "start_time": "2023-04-15T03:04:05.016Z"
   },
   {
    "duration": 13,
    "start_time": "2023-04-15T03:04:05.024Z"
   },
   {
    "duration": 32,
    "start_time": "2023-04-15T03:04:05.040Z"
   },
   {
    "duration": 3,
    "start_time": "2023-04-15T03:04:05.074Z"
   },
   {
    "duration": 20,
    "start_time": "2023-04-15T03:04:05.079Z"
   },
   {
    "duration": 24,
    "start_time": "2023-04-15T03:04:05.100Z"
   },
   {
    "duration": 7,
    "start_time": "2023-04-15T03:04:05.126Z"
   },
   {
    "duration": 91,
    "start_time": "2023-04-15T03:04:05.135Z"
   },
   {
    "duration": 202,
    "start_time": "2023-04-15T03:04:05.228Z"
   },
   {
    "duration": 218,
    "start_time": "2023-04-15T03:04:05.431Z"
   },
   {
    "duration": 24,
    "start_time": "2023-04-15T03:04:05.651Z"
   },
   {
    "duration": 7,
    "start_time": "2023-04-15T03:04:05.677Z"
   },
   {
    "duration": 57,
    "start_time": "2023-04-15T03:04:05.686Z"
   },
   {
    "duration": 7,
    "start_time": "2023-04-15T03:04:05.744Z"
   },
   {
    "duration": 55,
    "start_time": "2023-04-15T03:04:05.753Z"
   },
   {
    "duration": 4,
    "start_time": "2023-04-15T03:04:05.809Z"
   },
   {
    "duration": 22,
    "start_time": "2023-04-15T03:04:05.814Z"
   },
   {
    "duration": 26,
    "start_time": "2023-04-15T03:04:05.838Z"
   },
   {
    "duration": 15,
    "start_time": "2023-04-15T03:04:05.866Z"
   },
   {
    "duration": 38,
    "start_time": "2023-04-15T03:04:05.882Z"
   },
   {
    "duration": 22,
    "start_time": "2023-04-15T03:04:05.926Z"
   },
   {
    "duration": 175,
    "start_time": "2023-04-15T03:04:05.950Z"
   },
   {
    "duration": 9,
    "start_time": "2023-04-15T03:04:06.127Z"
   },
   {
    "duration": 28,
    "start_time": "2023-04-15T03:04:06.138Z"
   },
   {
    "duration": 9,
    "start_time": "2023-04-15T03:04:06.168Z"
   },
   {
    "duration": 25,
    "start_time": "2023-04-15T03:04:06.179Z"
   },
   {
    "duration": 19,
    "start_time": "2023-04-15T03:04:06.205Z"
   },
   {
    "duration": 7,
    "start_time": "2023-04-15T03:04:06.225Z"
   },
   {
    "duration": 3,
    "start_time": "2023-04-15T03:04:06.234Z"
   },
   {
    "duration": 12,
    "start_time": "2023-04-15T03:04:06.238Z"
   },
   {
    "duration": 31,
    "start_time": "2023-04-15T03:04:06.251Z"
   },
   {
    "duration": 12,
    "start_time": "2023-04-15T03:04:06.284Z"
   },
   {
    "duration": 28,
    "start_time": "2023-04-15T03:04:06.298Z"
   },
   {
    "duration": 25,
    "start_time": "2023-04-15T03:04:06.328Z"
   },
   {
    "duration": 40,
    "start_time": "2023-04-15T03:04:06.355Z"
   },
   {
    "duration": 5,
    "start_time": "2023-04-15T03:04:06.396Z"
   },
   {
    "duration": 144,
    "start_time": "2023-04-15T03:04:06.402Z"
   },
   {
    "duration": 27,
    "start_time": "2023-04-15T03:04:06.547Z"
   },
   {
    "duration": 9,
    "start_time": "2023-04-15T03:04:06.576Z"
   },
   {
    "duration": 407,
    "start_time": "2023-04-15T03:04:06.587Z"
   },
   {
    "duration": 391,
    "start_time": "2023-04-15T03:04:06.996Z"
   },
   {
    "duration": 157,
    "start_time": "2023-04-15T03:04:07.388Z"
   },
   {
    "duration": 201,
    "start_time": "2023-04-15T03:04:07.546Z"
   },
   {
    "duration": 353,
    "start_time": "2023-04-15T03:04:07.749Z"
   },
   {
    "duration": 27,
    "start_time": "2023-04-15T03:04:08.103Z"
   },
   {
    "duration": 45,
    "start_time": "2023-04-15T03:04:08.131Z"
   },
   {
    "duration": 6,
    "start_time": "2023-04-15T03:04:08.178Z"
   },
   {
    "duration": 53,
    "start_time": "2023-04-15T03:04:08.185Z"
   },
   {
    "duration": 49,
    "start_time": "2023-04-15T03:04:08.240Z"
   },
   {
    "duration": 293,
    "start_time": "2023-04-15T03:04:08.290Z"
   },
   {
    "duration": 293,
    "start_time": "2023-04-15T03:04:08.585Z"
   },
   {
    "duration": 1014,
    "start_time": "2023-04-15T03:04:08.880Z"
   },
   {
    "duration": 873,
    "start_time": "2023-04-15T03:04:09.895Z"
   },
   {
    "duration": 282,
    "start_time": "2023-04-15T03:04:10.769Z"
   },
   {
    "duration": 30,
    "start_time": "2023-04-15T03:04:11.052Z"
   },
   {
    "duration": 7,
    "start_time": "2023-04-15T03:04:11.083Z"
   },
   {
    "duration": 16,
    "start_time": "2023-04-15T03:04:11.092Z"
   },
   {
    "duration": 498,
    "start_time": "2023-04-15T03:04:11.109Z"
   },
   {
    "duration": 472,
    "start_time": "2023-04-15T03:04:11.608Z"
   },
   {
    "duration": 35,
    "start_time": "2023-04-15T03:04:12.081Z"
   },
   {
    "duration": 251,
    "start_time": "2023-04-15T03:04:12.117Z"
   },
   {
    "duration": 254,
    "start_time": "2023-04-15T03:04:12.371Z"
   },
   {
    "duration": 7,
    "start_time": "2023-04-15T03:04:12.626Z"
   },
   {
    "duration": 68,
    "start_time": "2023-04-15T03:04:12.634Z"
   },
   {
    "duration": 101,
    "start_time": "2023-04-15T03:04:12.703Z"
   },
   {
    "duration": 0,
    "start_time": "2023-04-15T03:04:12.805Z"
   },
   {
    "duration": 0,
    "start_time": "2023-04-15T03:04:12.806Z"
   },
   {
    "duration": 0,
    "start_time": "2023-04-15T03:04:12.807Z"
   },
   {
    "duration": 0,
    "start_time": "2023-04-15T03:04:12.808Z"
   },
   {
    "duration": 0,
    "start_time": "2023-04-15T03:04:12.809Z"
   },
   {
    "duration": 0,
    "start_time": "2023-04-15T03:04:12.810Z"
   },
   {
    "duration": 0,
    "start_time": "2023-04-15T03:04:12.811Z"
   },
   {
    "duration": 1465,
    "start_time": "2023-04-15T03:04:38.640Z"
   },
   {
    "duration": 16,
    "start_time": "2023-04-15T03:04:47.417Z"
   },
   {
    "duration": 16,
    "start_time": "2023-04-15T03:05:00.209Z"
   },
   {
    "duration": 16,
    "start_time": "2023-04-15T03:10:10.331Z"
   },
   {
    "duration": 5,
    "start_time": "2023-04-15T03:10:23.905Z"
   },
   {
    "duration": 17,
    "start_time": "2023-04-15T03:10:34.808Z"
   },
   {
    "duration": 4,
    "start_time": "2023-04-15T03:10:53.919Z"
   },
   {
    "duration": 5,
    "start_time": "2023-04-15T03:10:59.011Z"
   },
   {
    "duration": 19,
    "start_time": "2023-04-15T03:11:24.368Z"
   },
   {
    "duration": 7,
    "start_time": "2023-04-15T03:11:36.619Z"
   },
   {
    "duration": 7,
    "start_time": "2023-04-15T03:11:54.070Z"
   },
   {
    "duration": 17,
    "start_time": "2023-04-15T03:12:34.660Z"
   },
   {
    "duration": 17,
    "start_time": "2023-04-15T03:14:15.076Z"
   },
   {
    "duration": 4,
    "start_time": "2023-04-15T03:17:09.018Z"
   },
   {
    "duration": 54,
    "start_time": "2023-04-15T03:17:13.559Z"
   },
   {
    "duration": 13,
    "start_time": "2023-04-15T03:17:20.719Z"
   },
   {
    "duration": 10,
    "start_time": "2023-04-15T03:17:44.725Z"
   },
   {
    "duration": 12,
    "start_time": "2023-04-15T03:18:14.731Z"
   },
   {
    "duration": 8,
    "start_time": "2023-04-15T03:19:02.445Z"
   },
   {
    "duration": 1448,
    "start_time": "2023-04-15T03:20:01.292Z"
   },
   {
    "duration": 240,
    "start_time": "2023-04-15T03:20:35.839Z"
   },
   {
    "duration": 13,
    "start_time": "2023-04-15T03:21:15.780Z"
   },
   {
    "duration": 131,
    "start_time": "2023-04-15T03:21:29.606Z"
   },
   {
    "duration": 121,
    "start_time": "2023-04-15T03:21:35.347Z"
   },
   {
    "duration": 158,
    "start_time": "2023-04-15T03:21:53.809Z"
   },
   {
    "duration": 122,
    "start_time": "2023-04-15T03:22:00.986Z"
   },
   {
    "duration": 11,
    "start_time": "2023-04-15T03:22:28.154Z"
   },
   {
    "duration": 86,
    "start_time": "2023-04-15T03:22:43.225Z"
   },
   {
    "duration": 87,
    "start_time": "2023-04-15T03:22:52.240Z"
   },
   {
    "duration": 1417,
    "start_time": "2023-04-15T03:23:14.229Z"
   },
   {
    "duration": 1492,
    "start_time": "2023-04-15T03:23:24.825Z"
   },
   {
    "duration": 18,
    "start_time": "2023-04-15T03:23:38.372Z"
   },
   {
    "duration": 6,
    "start_time": "2023-04-15T03:23:50.109Z"
   },
   {
    "duration": 21,
    "start_time": "2023-04-15T03:24:31.244Z"
   },
   {
    "duration": 112,
    "start_time": "2023-04-15T03:24:34.515Z"
   },
   {
    "duration": 6,
    "start_time": "2023-04-15T03:24:50.501Z"
   },
   {
    "duration": 52,
    "start_time": "2023-04-15T03:25:07.134Z"
   },
   {
    "duration": 13,
    "start_time": "2023-04-15T03:25:07.905Z"
   },
   {
    "duration": 1570,
    "start_time": "2023-04-15T03:25:09.751Z"
   },
   {
    "duration": 1563,
    "start_time": "2023-04-15T03:25:22.959Z"
   },
   {
    "duration": 77,
    "start_time": "2023-04-15T03:25:32.419Z"
   },
   {
    "duration": 83,
    "start_time": "2023-04-15T03:25:33.840Z"
   },
   {
    "duration": 7,
    "start_time": "2023-04-15T03:27:05.876Z"
   },
   {
    "duration": 10,
    "start_time": "2023-04-15T03:27:24.324Z"
   },
   {
    "duration": 12,
    "start_time": "2023-04-15T03:28:48.895Z"
   },
   {
    "duration": 11,
    "start_time": "2023-04-15T03:28:56.583Z"
   },
   {
    "duration": 18,
    "start_time": "2023-04-15T03:35:17.556Z"
   },
   {
    "duration": 24,
    "start_time": "2023-04-15T03:35:51.819Z"
   },
   {
    "duration": 28,
    "start_time": "2023-04-15T03:37:13.005Z"
   },
   {
    "duration": 31,
    "start_time": "2023-04-15T03:37:26.932Z"
   },
   {
    "duration": 24,
    "start_time": "2023-04-15T03:37:51.136Z"
   },
   {
    "duration": 30,
    "start_time": "2023-04-15T03:37:54.289Z"
   },
   {
    "duration": 34,
    "start_time": "2023-04-15T03:38:14.711Z"
   },
   {
    "duration": 40,
    "start_time": "2023-04-15T03:41:29.874Z"
   },
   {
    "duration": 38,
    "start_time": "2023-04-15T03:42:54.592Z"
   },
   {
    "duration": 44,
    "start_time": "2023-04-15T03:44:47.033Z"
   },
   {
    "duration": 1129,
    "start_time": "2023-04-15T03:45:04.236Z"
   },
   {
    "duration": 107,
    "start_time": "2023-04-15T03:45:05.367Z"
   },
   {
    "duration": 14,
    "start_time": "2023-04-15T03:45:05.475Z"
   },
   {
    "duration": 34,
    "start_time": "2023-04-15T03:45:05.490Z"
   },
   {
    "duration": 30,
    "start_time": "2023-04-15T03:45:05.526Z"
   },
   {
    "duration": 73,
    "start_time": "2023-04-15T03:45:05.557Z"
   },
   {
    "duration": 25,
    "start_time": "2023-04-15T03:45:05.631Z"
   },
   {
    "duration": 6,
    "start_time": "2023-04-15T03:45:05.657Z"
   },
   {
    "duration": 33,
    "start_time": "2023-04-15T03:45:05.665Z"
   },
   {
    "duration": 21,
    "start_time": "2023-04-15T03:45:05.700Z"
   },
   {
    "duration": 2,
    "start_time": "2023-04-15T03:45:05.723Z"
   },
   {
    "duration": 9,
    "start_time": "2023-04-15T03:45:05.726Z"
   },
   {
    "duration": 8,
    "start_time": "2023-04-15T03:45:05.736Z"
   },
   {
    "duration": 6,
    "start_time": "2023-04-15T03:45:05.745Z"
   },
   {
    "duration": 42,
    "start_time": "2023-04-15T03:45:05.753Z"
   },
   {
    "duration": 73,
    "start_time": "2023-04-15T03:45:05.797Z"
   },
   {
    "duration": 270,
    "start_time": "2023-04-15T03:45:05.872Z"
   },
   {
    "duration": 29,
    "start_time": "2023-04-15T03:45:06.143Z"
   },
   {
    "duration": 7,
    "start_time": "2023-04-15T03:45:06.174Z"
   },
   {
    "duration": 49,
    "start_time": "2023-04-15T03:45:06.182Z"
   },
   {
    "duration": 7,
    "start_time": "2023-04-15T03:45:06.233Z"
   },
   {
    "duration": 50,
    "start_time": "2023-04-15T03:45:06.242Z"
   },
   {
    "duration": 4,
    "start_time": "2023-04-15T03:45:06.294Z"
   },
   {
    "duration": 5,
    "start_time": "2023-04-15T03:45:06.300Z"
   },
   {
    "duration": 16,
    "start_time": "2023-04-15T03:45:06.307Z"
   },
   {
    "duration": 15,
    "start_time": "2023-04-15T03:45:06.325Z"
   },
   {
    "duration": 47,
    "start_time": "2023-04-15T03:45:06.341Z"
   },
   {
    "duration": 19,
    "start_time": "2023-04-15T03:45:06.391Z"
   },
   {
    "duration": 163,
    "start_time": "2023-04-15T03:45:06.411Z"
   },
   {
    "duration": 8,
    "start_time": "2023-04-15T03:45:06.575Z"
   },
   {
    "duration": 17,
    "start_time": "2023-04-15T03:45:06.584Z"
   },
   {
    "duration": 5,
    "start_time": "2023-04-15T03:45:06.602Z"
   },
   {
    "duration": 21,
    "start_time": "2023-04-15T03:45:06.608Z"
   },
   {
    "duration": 17,
    "start_time": "2023-04-15T03:45:06.630Z"
   },
   {
    "duration": 27,
    "start_time": "2023-04-15T03:45:06.649Z"
   },
   {
    "duration": 15,
    "start_time": "2023-04-15T03:45:06.677Z"
   },
   {
    "duration": 5,
    "start_time": "2023-04-15T03:45:06.694Z"
   },
   {
    "duration": 18,
    "start_time": "2023-04-15T03:45:06.701Z"
   },
   {
    "duration": 11,
    "start_time": "2023-04-15T03:45:06.720Z"
   },
   {
    "duration": 19,
    "start_time": "2023-04-15T03:45:06.733Z"
   },
   {
    "duration": 30,
    "start_time": "2023-04-15T03:45:06.754Z"
   },
   {
    "duration": 21,
    "start_time": "2023-04-15T03:45:06.785Z"
   },
   {
    "duration": 4,
    "start_time": "2023-04-15T03:45:06.807Z"
   },
   {
    "duration": 122,
    "start_time": "2023-04-15T03:45:06.812Z"
   },
   {
    "duration": 16,
    "start_time": "2023-04-15T03:45:06.936Z"
   },
   {
    "duration": 22,
    "start_time": "2023-04-15T03:45:06.953Z"
   },
   {
    "duration": 360,
    "start_time": "2023-04-15T03:45:06.976Z"
   },
   {
    "duration": 338,
    "start_time": "2023-04-15T03:45:07.337Z"
   },
   {
    "duration": 142,
    "start_time": "2023-04-15T03:45:07.677Z"
   },
   {
    "duration": 179,
    "start_time": "2023-04-15T03:45:07.821Z"
   },
   {
    "duration": 319,
    "start_time": "2023-04-15T03:45:08.002Z"
   },
   {
    "duration": 24,
    "start_time": "2023-04-15T03:45:08.323Z"
   },
   {
    "duration": 38,
    "start_time": "2023-04-15T03:45:08.349Z"
   },
   {
    "duration": 7,
    "start_time": "2023-04-15T03:45:08.389Z"
   },
   {
    "duration": 55,
    "start_time": "2023-04-15T03:45:08.398Z"
   },
   {
    "duration": 41,
    "start_time": "2023-04-15T03:45:08.455Z"
   },
   {
    "duration": 266,
    "start_time": "2023-04-15T03:45:08.498Z"
   },
   {
    "duration": 259,
    "start_time": "2023-04-15T03:45:08.766Z"
   },
   {
    "duration": 827,
    "start_time": "2023-04-15T03:45:09.026Z"
   },
   {
    "duration": 776,
    "start_time": "2023-04-15T03:45:09.855Z"
   },
   {
    "duration": 249,
    "start_time": "2023-04-15T03:45:10.633Z"
   },
   {
    "duration": 21,
    "start_time": "2023-04-15T03:45:10.884Z"
   },
   {
    "duration": 6,
    "start_time": "2023-04-15T03:45:10.907Z"
   },
   {
    "duration": 9,
    "start_time": "2023-04-15T03:45:10.915Z"
   },
   {
    "duration": 457,
    "start_time": "2023-04-15T03:45:10.925Z"
   },
   {
    "duration": 452,
    "start_time": "2023-04-15T03:45:11.383Z"
   },
   {
    "duration": 44,
    "start_time": "2023-04-15T03:45:11.836Z"
   },
   {
    "duration": 250,
    "start_time": "2023-04-15T03:45:11.881Z"
   },
   {
    "duration": 256,
    "start_time": "2023-04-15T03:45:12.132Z"
   },
   {
    "duration": 7,
    "start_time": "2023-04-15T03:45:12.389Z"
   },
   {
    "duration": 66,
    "start_time": "2023-04-15T03:45:12.397Z"
   },
   {
    "duration": 1436,
    "start_time": "2023-04-15T03:45:12.465Z"
   },
   {
    "duration": 38,
    "start_time": "2023-04-15T03:45:13.903Z"
   },
   {
    "duration": 34,
    "start_time": "2023-04-15T03:45:13.943Z"
   },
   {
    "duration": 459,
    "start_time": "2023-04-15T03:45:13.978Z"
   },
   {
    "duration": 5,
    "start_time": "2023-04-15T03:45:14.438Z"
   },
   {
    "duration": 441,
    "start_time": "2023-04-15T03:45:14.444Z"
   },
   {
    "duration": 4,
    "start_time": "2023-04-15T03:45:14.887Z"
   },
   {
    "duration": 9,
    "start_time": "2023-04-15T03:45:14.892Z"
   }
  ],
  "kernelspec": {
   "display_name": "Python 3 (ipykernel)",
   "language": "python",
   "name": "python3"
  },
  "language_info": {
   "codemirror_mode": {
    "name": "ipython",
    "version": 3
   },
   "file_extension": ".py",
   "mimetype": "text/x-python",
   "name": "python",
   "nbconvert_exporter": "python",
   "pygments_lexer": "ipython3",
   "version": "3.9.7"
  },
  "toc": {
   "base_numbering": 1,
   "nav_menu": {},
   "number_sections": true,
   "sideBar": true,
   "skip_h1_title": true,
   "title_cell": "Table of Contents",
   "title_sidebar": "Contents",
   "toc_cell": true,
   "toc_position": {},
   "toc_section_display": true,
   "toc_window_display": false
  }
 },
 "nbformat": 4,
 "nbformat_minor": 5
}
